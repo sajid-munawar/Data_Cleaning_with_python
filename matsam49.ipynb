{
 "cells": [
  {
   "cell_type": "markdown",
   "id": "f4fd5268",
   "metadata": {},
   "source": [
    "descriptive statistics (including confidence interval)\n",
    "\n",
    "and distributions,\n",
    "\n",
    "data transformation,\n",
    "\n",
    "missing data (how to handle),\n",
    "\n",
    "outlier detection (how to detect and handle).\n",
    "\n",
    "For outlier detection both statistical tests and also visual investigations."
   ]
  },
  {
   "cell_type": "markdown",
   "id": "d5efb4d2",
   "metadata": {},
   "source": [
    "# descriptive statistics"
   ]
  },
  {
   "cell_type": "markdown",
   "id": "38f6d65c",
   "metadata": {},
   "source": [
    "Introduction\n",
    "Descriptive Statistics is the building block of data science. Advanced analytics is often incomplete without analyzing descriptive statistics of the key metrics. In simple terms, descriptive statistics can be defined as the measures that summarize a given data, and these measures can be broken down further into the measures of central tendency and the measures of dispersion.\n",
    "\n",
    "Measures of central tendency include mean, median, and the mode, while the measures of variability include standard deviation, variance, and the interquartile range. In this guide, you will learn how to compute these measures of descriptive statistics and use them to interpret the data.\n",
    "\n",
    "We will cover the topics given below:\n",
    "\n",
    "Mean\n",
    "\n",
    "Median\n",
    "\n",
    "Mode\n",
    "\n",
    "Standard Deviation\n",
    "\n",
    "Variance\n",
    "\n",
    "Interquartile Range\n",
    "\n",
    "Skewness\n",
    "\n",
    "We will begin by loading the dataset to be used in this guide."
   ]
  },
  {
   "cell_type": "markdown",
   "id": "77d52a33",
   "metadata": {},
   "source": [
    "A large number of methods collectively compute descriptive statistics and other related operations on DataFrame. Most of these are aggregations like sum(), mean(), but some of them, like sumsum(), produce an object of the same size. Generally speaking, these methods take an axis argument, just like ndarray.{sum, std, ...}, but the axis can be specified by name or integer\n",
    "\n",
    "DataFrame − “index” (axis=0, default), “columns” (axis=1)"
   ]
  },
  {
   "cell_type": "code",
   "execution_count": 81,
   "id": "7bd71e07",
   "metadata": {},
   "outputs": [],
   "source": [
    "import pandas as pd\n",
    "\n",
    "import numpy as np\n",
    "\n",
    "path='/home/sajid/Downloads/DB01_gaming_video_quality.xlsx'"
   ]
  },
  {
   "cell_type": "markdown",
   "id": "8baeee58",
   "metadata": {},
   "source": [
    "Let us create a DataFrame and use this object throughout for all the operations."
   ]
  },
  {
   "cell_type": "code",
   "execution_count": 82,
   "id": "db0c660b",
   "metadata": {},
   "outputs": [],
   "source": [
    "df=pd.read_excel(path)"
   ]
  },
  {
   "cell_type": "code",
   "execution_count": 83,
   "id": "c73c084c",
   "metadata": {},
   "outputs": [],
   "source": [
    "# Additonal setup for print and ignoring unnecessary warnings\n",
    "pd.set_option('display.float_format', str)\n",
    "import warnings\n",
    "warnings.simplefilter(action='ignore', category=FutureWarning)"
   ]
  },
  {
   "cell_type": "code",
   "execution_count": 84,
   "id": "b482352f",
   "metadata": {},
   "outputs": [
    {
     "data": {
      "text/html": [
       "<div>\n",
       "<style scoped>\n",
       "    .dataframe tbody tr th:only-of-type {\n",
       "        vertical-align: middle;\n",
       "    }\n",
       "\n",
       "    .dataframe tbody tr th {\n",
       "        vertical-align: top;\n",
       "    }\n",
       "\n",
       "    .dataframe thead th {\n",
       "        text-align: right;\n",
       "    }\n",
       "</style>\n",
       "<table border=\"1\" class=\"dataframe\">\n",
       "  <thead>\n",
       "    <tr style=\"text-align: right;\">\n",
       "      <th></th>\n",
       "      <th>ID</th>\n",
       "      <th>PID</th>\n",
       "      <th>Game</th>\n",
       "      <th>Study</th>\n",
       "      <th>Game_group</th>\n",
       "      <th>Condition</th>\n",
       "      <th>Condition_params</th>\n",
       "      <th>Resolution</th>\n",
       "      <th>Framerate</th>\n",
       "      <th>Bitrate</th>\n",
       "      <th>VQ</th>\n",
       "      <th>VF</th>\n",
       "      <th>VU</th>\n",
       "      <th>VD</th>\n",
       "      <th>AC</th>\n",
       "      <th>Age</th>\n",
       "      <th>Gender</th>\n",
       "      <th>Expertise</th>\n",
       "      <th>Monitor</th>\n",
       "    </tr>\n",
       "  </thead>\n",
       "  <tbody>\n",
       "    <tr>\n",
       "      <th>0</th>\n",
       "      <td>1</td>\n",
       "      <td>1</td>\n",
       "      <td>Game1</td>\n",
       "      <td>1</td>\n",
       "      <td>Game1_Game2_Game3</td>\n",
       "      <td>1</td>\n",
       "      <td>480_30_300</td>\n",
       "      <td>480</td>\n",
       "      <td>30</td>\n",
       "      <td>300</td>\n",
       "      <td>1.4</td>\n",
       "      <td>1.3</td>\n",
       "      <td>1.6</td>\n",
       "      <td>5.7</td>\n",
       "      <td>0</td>\n",
       "      <td>21</td>\n",
       "      <td>Male</td>\n",
       "      <td>4</td>\n",
       "      <td>Desktop</td>\n",
       "    </tr>\n",
       "    <tr>\n",
       "      <th>1</th>\n",
       "      <td>2</td>\n",
       "      <td>1</td>\n",
       "      <td>Game2</td>\n",
       "      <td>1</td>\n",
       "      <td>Game1_Game2_Game3</td>\n",
       "      <td>2</td>\n",
       "      <td>480_30_300</td>\n",
       "      <td>480</td>\n",
       "      <td>30</td>\n",
       "      <td>300</td>\n",
       "      <td>1.4</td>\n",
       "      <td>1.6</td>\n",
       "      <td>4.9</td>\n",
       "      <td>5.6</td>\n",
       "      <td>0</td>\n",
       "      <td>21</td>\n",
       "      <td>Male</td>\n",
       "      <td>4</td>\n",
       "      <td>Desktop</td>\n",
       "    </tr>\n",
       "    <tr>\n",
       "      <th>2</th>\n",
       "      <td>3</td>\n",
       "      <td>1</td>\n",
       "      <td>Game3</td>\n",
       "      <td>1</td>\n",
       "      <td>Game1_Game2_Game3</td>\n",
       "      <td>3</td>\n",
       "      <td>480_30_300</td>\n",
       "      <td>480</td>\n",
       "      <td>30</td>\n",
       "      <td>300</td>\n",
       "      <td>1.1</td>\n",
       "      <td>1.6</td>\n",
       "      <td>2.6</td>\n",
       "      <td>5.2</td>\n",
       "      <td>0</td>\n",
       "      <td>21</td>\n",
       "      <td>Male</td>\n",
       "      <td>4</td>\n",
       "      <td>Desktop</td>\n",
       "    </tr>\n",
       "    <tr>\n",
       "      <th>3</th>\n",
       "      <td>4</td>\n",
       "      <td>1</td>\n",
       "      <td>Game2</td>\n",
       "      <td>1</td>\n",
       "      <td>Game1_Game2_Game3</td>\n",
       "      <td>4</td>\n",
       "      <td>480_30_1000</td>\n",
       "      <td>480</td>\n",
       "      <td>30</td>\n",
       "      <td>1000</td>\n",
       "      <td>3.2</td>\n",
       "      <td>3.4</td>\n",
       "      <td>4.5</td>\n",
       "      <td>5.4</td>\n",
       "      <td>0</td>\n",
       "      <td>21</td>\n",
       "      <td>Male</td>\n",
       "      <td>4</td>\n",
       "      <td>Desktop</td>\n",
       "    </tr>\n",
       "    <tr>\n",
       "      <th>4</th>\n",
       "      <td>5</td>\n",
       "      <td>1</td>\n",
       "      <td>Game3</td>\n",
       "      <td>1</td>\n",
       "      <td>Game1_Game2_Game3</td>\n",
       "      <td>5</td>\n",
       "      <td>480_30_1000</td>\n",
       "      <td>480</td>\n",
       "      <td>30</td>\n",
       "      <td>1000</td>\n",
       "      <td>3.1</td>\n",
       "      <td>2.8</td>\n",
       "      <td>2.9</td>\n",
       "      <td>5.9</td>\n",
       "      <td>0</td>\n",
       "      <td>21</td>\n",
       "      <td>Male</td>\n",
       "      <td>4</td>\n",
       "      <td>Desktop</td>\n",
       "    </tr>\n",
       "  </tbody>\n",
       "</table>\n",
       "</div>"
      ],
      "text/plain": [
       "   ID  PID   Game  Study         Game_group  Condition Condition_params  \\\n",
       "0   1    1  Game1      1  Game1_Game2_Game3          1       480_30_300   \n",
       "1   2    1  Game2      1  Game1_Game2_Game3          2       480_30_300   \n",
       "2   3    1  Game3      1  Game1_Game2_Game3          3       480_30_300   \n",
       "3   4    1  Game2      1  Game1_Game2_Game3          4      480_30_1000   \n",
       "4   5    1  Game3      1  Game1_Game2_Game3          5      480_30_1000   \n",
       "\n",
       "   Resolution  Framerate  Bitrate  VQ  VF  VU  VD  AC  Age Gender  Expertise  \\\n",
       "0         480         30      300 1.4 1.3 1.6 5.7   0   21   Male          4   \n",
       "1         480         30      300 1.4 1.6 4.9 5.6   0   21   Male          4   \n",
       "2         480         30      300 1.1 1.6 2.6 5.2   0   21   Male          4   \n",
       "3         480         30     1000 3.2 3.4 4.5 5.4   0   21   Male          4   \n",
       "4         480         30     1000 3.1 2.8 2.9 5.9   0   21   Male          4   \n",
       "\n",
       "   Monitor  \n",
       "0  Desktop  \n",
       "1  Desktop  \n",
       "2  Desktop  \n",
       "3  Desktop  \n",
       "4  Desktop  "
      ]
     },
     "execution_count": 84,
     "metadata": {},
     "output_type": "execute_result"
    }
   ],
   "source": [
    "# Return the first n rows.\n",
    "df.head(n=5)"
   ]
  },
  {
   "cell_type": "markdown",
   "id": "4799ed8a",
   "metadata": {},
   "source": [
    "# Measures of Central Tendency\n",
    "\n",
    "Measures of central tendency describe the center of the data, and are often represented by the mean, the median, and the mode.\n",
    "\n",
    "## Mean\n",
    "\n",
    "Mean represents the arithmetic average of the data. The line of code below prints the mean of the numerical variables in the data. "
   ]
  },
  {
   "cell_type": "code",
   "execution_count": 85,
   "id": "78b01daf",
   "metadata": {},
   "outputs": [
    {
     "data": {
      "text/plain": [
       "<pandas._config.config.option_context at 0x7f2e11852df0>"
      ]
     },
     "execution_count": 85,
     "metadata": {},
     "output_type": "execute_result"
    }
   ],
   "source": [
    "pd.option_context('display.float_format', '{:,.5f}'.format)"
   ]
  },
  {
   "cell_type": "code",
   "execution_count": 86,
   "id": "f92b5b2c",
   "metadata": {
    "scrolled": true
   },
   "outputs": [
    {
     "data": {
      "text/plain": [
       "ID                             1656.5\n",
       "PID                              23.5\n",
       "Study              1.4782608695652173\n",
       "Condition                        36.5\n",
       "Condition_params                  inf\n",
       "Resolution                      760.0\n",
       "Framerate                        45.0\n",
       "Bitrate            10691.666666666666\n",
       "VQ                 3.8393115942029055\n",
       "VF                  4.150724637681164\n",
       "VU                 3.8764492753623263\n",
       "VD                  4.954317632850236\n",
       "AC                 0.4628623188405797\n",
       "Age                24.347826086956523\n",
       "Expertise           3.152173913043478\n",
       "dtype: float64"
      ]
     },
     "execution_count": 86,
     "metadata": {},
     "output_type": "execute_result"
    }
   ],
   "source": [
    "df.mean()"
   ]
  },
  {
   "cell_type": "markdown",
   "id": "2074e0ca",
   "metadata": {},
   "source": [
    "It is also possible to calculate the mean of a particular variable in a data, as shown below, where we calculate the mean of the variables 'Age' and 'Income'."
   ]
  },
  {
   "cell_type": "code",
   "execution_count": 87,
   "id": "b0d68e64",
   "metadata": {},
   "outputs": [
    {
     "name": "stdout",
     "output_type": "stream",
     "text": [
      "24.347826086956523\n",
      "3.152173913043478\n"
     ]
    }
   ],
   "source": [
    "print(df.loc[:,'Age'].mean())\n",
    "print(df.loc[:,'Expertise'].mean()) "
   ]
  },
  {
   "cell_type": "markdown",
   "id": "afd51a39",
   "metadata": {},
   "source": [
    "## Median\n",
    "In simple terms, median represents the 50th percentile, or the middle value of the data, that separates the distribution into two halves. The line of code below prints the median of the numerical variables in the data. The command df.median(axis = 0) will also give the same outpu"
   ]
  },
  {
   "cell_type": "code",
   "execution_count": 88,
   "id": "0f991f64",
   "metadata": {
    "scrolled": true
   },
   "outputs": [
    {
     "data": {
      "text/plain": [
       "ID                             1656.5\n",
       "PID                              23.5\n",
       "Study                             1.0\n",
       "Condition                        36.5\n",
       "Condition_params          720601500.0\n",
       "Resolution                      720.0\n",
       "Framerate                        45.0\n",
       "Bitrate                        3000.0\n",
       "VQ                                3.8\n",
       "VF                                4.0\n",
       "VU                 3.6500000000000004\n",
       "VD                                5.2\n",
       "AC                                0.0\n",
       "Age                              24.0\n",
       "Expertise                         3.0\n",
       "dtype: float64"
      ]
     },
     "execution_count": 88,
     "metadata": {},
     "output_type": "execute_result"
    }
   ],
   "source": [
    "df.median()"
   ]
  },
  {
   "cell_type": "markdown",
   "id": "0726e919",
   "metadata": {},
   "source": [
    "It is also possible to calculate the median of a particular variable in a data, as shown in the first two lines of code below. We can also calculate the median of the rows by specifying the (axis = 1) argument. The third line below calculates the median of the first five rows."
   ]
  },
  {
   "cell_type": "code",
   "execution_count": 89,
   "id": "14c5ad67",
   "metadata": {},
   "outputs": [
    {
     "name": "stdout",
     "output_type": "stream",
     "text": [
      "24.0\n",
      "3.0\n"
     ]
    },
    {
     "data": {
      "text/plain": [
       "0   1.5\n",
       "1   3.0\n",
       "2   3.0\n",
       "3   4.0\n",
       "4   4.5\n",
       "dtype: float64"
      ]
     },
     "execution_count": 89,
     "metadata": {},
     "output_type": "execute_result"
    }
   ],
   "source": [
    "#to calculate a median of a particular column\n",
    "print(df.loc[:,'Age'].median())\n",
    "print(df.loc[:,'Expertise'].median())\n",
    "\n",
    "df.median(axis = 1)[0:5]"
   ]
  },
  {
   "cell_type": "markdown",
   "id": "592b0f34",
   "metadata": {},
   "source": [
    "## Mode\n",
    "Mode represents the most frequent value of a variable in the data. This is the only central tendency measure that can be used with categorical variables, unlike the mean and the median which can be used only with quantitative data.\n",
    "\n",
    "The line of code below prints the mode of all the variables in the data. The .mode() function returns the most common value or most repeated value of a variable. The command df.mode(axis = 0) will also give the same output."
   ]
  },
  {
   "cell_type": "code",
   "execution_count": 90,
   "id": "76706520",
   "metadata": {},
   "outputs": [
    {
     "data": {
      "text/plain": [
       "ID                                  1\n",
       "PID                               1.0\n",
       "Game                            Game1\n",
       "Study                             1.0\n",
       "Game_group          Game1_Game2_Game3\n",
       "Condition                         1.0\n",
       "Condition_params         1080_30_2000\n",
       "Resolution                      480.0\n",
       "Framerate                        30.0\n",
       "Bitrate                        2000.0\n",
       "VQ                                3.0\n",
       "VF                                6.0\n",
       "VU                                3.0\n",
       "VD                                6.0\n",
       "AC                                0.0\n",
       "Age                              23.0\n",
       "Gender                           Male\n",
       "Expertise                         4.0\n",
       "Monitor                       Desktop\n",
       "Name: 0, dtype: object"
      ]
     },
     "execution_count": 90,
     "metadata": {},
     "output_type": "execute_result"
    }
   ],
   "source": [
    "df.mode(axis=0).iloc[0]"
   ]
  },
  {
   "cell_type": "markdown",
   "id": "16aa38a8",
   "metadata": {},
   "source": [
    "For numerical variables, the mode value represents the value that occurs most frequently. For example, the mode value of 23 for the variable 'Age' means that the highest number (or frequency) of players are 23 years old"
   ]
  },
  {
   "cell_type": "markdown",
   "id": "1fa47815",
   "metadata": {},
   "source": [
    "# Measures of Dispersion\n",
    "In the previous sections, we have discussed the various measures of central tendency. However, as we have seen in the data, the values of these measures differ for many variables. This is because of the extent to which a distribution is stretched or squeezed. In statistics, this is measured by dispersion which is also referred to as variability, scatter, or spread. The most popular measures of dispersion are standard deviation, variance, and the interquartile range."
   ]
  },
  {
   "cell_type": "markdown",
   "id": "ca779a05",
   "metadata": {},
   "source": [
    "## Standard Deviation\n",
    "Standard deviation is a measure that is used to quantify the amount of variation of a set of data values from its mean. A low standard deviation for a variable indicates that the data points tend to be close to its mean, and vice versa. The line of code below prints the standard deviation of all the numerical variables in the data.\n",
    "\n"
   ]
  },
  {
   "cell_type": "code",
   "execution_count": 91,
   "id": "4847c914",
   "metadata": {},
   "outputs": [
    {
     "data": {
      "text/plain": [
       "ID             956.2363724519163\n",
       "PID                 13.277922716\n",
       "Study        0.49960261544968126\n",
       "Condition       20.7857430869099\n",
       "Resolution     246.6137932726321\n",
       "Framerate     15.002265005675424\n",
       "Bitrate        17671.73037266718\n",
       "VQ            1.1911611494051733\n",
       "VF            1.4550756062466752\n",
       "VU            1.3607123939729238\n",
       "VD             1.107127761804142\n",
       "AC           0.49869417680023276\n",
       "Age           3.0523126656400774\n",
       "Expertise     1.1974129401622127\n",
       "dtype: float64"
      ]
     },
     "execution_count": 91,
     "metadata": {},
     "output_type": "execute_result"
    }
   ],
   "source": [
    "df.std()"
   ]
  },
  {
   "cell_type": "markdown",
   "id": "ecac5626",
   "metadata": {},
   "source": [
    "While interpreting standard deviation values, it is important to understand them in conjunction with the mean. For example, in the above output, the standard deviation of the variable 'ID' is much higher than that of the variable 'Age'. However, the unit of these two variables is different and, therefore, comparing the dispersion of these two variables on the basis of standard deviation alone will be incorrect. This needs to be kept in mind."
   ]
  },
  {
   "cell_type": "markdown",
   "id": "97df92e3",
   "metadata": {},
   "source": [
    "It is also possible to calculate the standard deviation of a particular variable, as shown in the first two lines of code below. The third line calculates the standard deviation for the first five rows."
   ]
  },
  {
   "cell_type": "code",
   "execution_count": 92,
   "id": "226b4354",
   "metadata": {},
   "outputs": [
    {
     "name": "stdout",
     "output_type": "stream",
     "text": [
      "3.052312665640076\n",
      "1.1974129401622127\n"
     ]
    },
    {
     "data": {
      "text/plain": [
       "0   144.19909161287396\n",
       "1   144.02774095581435\n",
       "2   144.05702720767246\n",
       "3   285.23933164744534\n",
       "4   285.23432135162676\n",
       "dtype: float64"
      ]
     },
     "execution_count": 92,
     "metadata": {},
     "output_type": "execute_result"
    }
   ],
   "source": [
    "print(df.loc[:,'Age'].std())\n",
    "print(df.loc[:,'Expertise'].std())\n",
    "\n",
    "#calculate the standard deviation of the first five rows \n",
    "df.std(axis = 1)[0:5]"
   ]
  },
  {
   "cell_type": "markdown",
   "id": "ff22ce57",
   "metadata": {},
   "source": [
    "## Variance\n",
    "Variance is another measure of dispersion. It is the square of the standard deviation and the covariance of the random variable with itself. The line of code below prints the variance of all the numerical variables in the dataset. The interpretation of the variance is similar to that of the standard deviation.\n",
    "\n"
   ]
  },
  {
   "cell_type": "code",
   "execution_count": 93,
   "id": "a23fa951",
   "metadata": {},
   "outputs": [
    {
     "data": {
      "text/plain": [
       "ID                      914388.0\n",
       "PID           176.30323165206886\n",
       "Study        0.24960277336416212\n",
       "Condition     432.04711567502267\n",
       "Resolution     60818.36303231652\n",
       "Framerate     225.06795530051343\n",
       "Bitrate        312290054.3642478\n",
       "VQ            1.4188648838522537\n",
       "VF             2.117245019894129\n",
       "VU            1.8515382191115253\n",
       "VD             1.225731880957449\n",
       "AC           0.24869588197446182\n",
       "Age            9.316612608826835\n",
       "Expertise     1.4337977492679148\n",
       "dtype: float64"
      ]
     },
     "execution_count": 93,
     "metadata": {},
     "output_type": "execute_result"
    }
   ],
   "source": [
    "df.var()"
   ]
  },
  {
   "cell_type": "markdown",
   "id": "5eb64cd6",
   "metadata": {},
   "source": [
    "## Interquartile Range (IQR)\n",
    "The Interquartile Range (IQR) is a measure of statistical dispersion, and is calculated as the difference between the upper quartile (75th percentile) and the lower quartile (25th percentile). The IQR is also a very important measure for identifying outliers and could be visualized using a boxplot.\n",
    "\n",
    "IQR can be calculated using the iqr() function. The first line of code below imports the 'iqr' function from the scipy.stats module, while the second line prints the IQR for the variable 'Age'."
   ]
  },
  {
   "cell_type": "code",
   "execution_count": 94,
   "id": "a0ee7dce",
   "metadata": {},
   "outputs": [
    {
     "data": {
      "text/plain": [
       "4.0"
      ]
     },
     "execution_count": 94,
     "metadata": {},
     "output_type": "execute_result"
    }
   ],
   "source": [
    "from scipy.stats import iqr\n",
    "iqr(df['Age'])"
   ]
  },
  {
   "cell_type": "markdown",
   "id": "973a0a66",
   "metadata": {},
   "source": [
    "## Skewness\n",
    "Another useful statistic is skewness, which is the measure of the symmetry, or lack of it, for a real-valued random variable about its mean. The skewness value can be positive, negative, or undefined. In a perfectly symmetrical distribution, the mean, the median, and the mode will all have the same value. However, the variables in our data are not symmetrical, resulting in different values of the central tendency.\n",
    "\n",
    "We can calculate the skewness of the numerical variables using the skew() function, as shown below."
   ]
  },
  {
   "cell_type": "code",
   "execution_count": 95,
   "id": "bb5e4129",
   "metadata": {},
   "outputs": [
    {
     "name": "stdout",
     "output_type": "stream",
     "text": [
      "ID                                  0.0\n",
      "PID                                 0.0\n",
      "Study               0.08707827056289189\n",
      "Condition                           0.0\n",
      "Condition_params     1.9609430943150825\n",
      "Resolution          0.23917148097680135\n",
      "Framerate                           0.0\n",
      "Bitrate              1.7495135996975884\n",
      "VQ                  -0.0417929731206495\n",
      "VF                 -0.16777050473282293\n",
      "VU                  0.08428726569662666\n",
      "VD                  -0.9975297413651051\n",
      "AC                  0.14902969625333426\n",
      "Age                  0.6741017178727269\n",
      "Expertise            -0.598994572640911\n",
      "dtype: float64\n"
     ]
    }
   ],
   "source": [
    "print(df.skew())"
   ]
  },
  {
   "cell_type": "markdown",
   "id": "8652405c",
   "metadata": {},
   "source": [
    "The skewness values can be interpreted in the following manner:\n",
    "\n",
    "Highly skewed distribution: If the skewness value is less than −1 or greater than +1.\n",
    "\n",
    "Moderately skewed distribution: If the skewness value is between −1 and −½ or between +½ and +1.\n",
    "\n",
    "Approximately symmetric distribution: If the skewness value is between −½ and +½."
   ]
  },
  {
   "cell_type": "markdown",
   "id": "b70411f8",
   "metadata": {},
   "source": [
    "An important function is the .describe() function that prints the summary statistic of the numerical variables. The line of code below performs this operation on the data.\n",
    "\n"
   ]
  },
  {
   "cell_type": "code",
   "execution_count": 96,
   "id": "9675fc6c",
   "metadata": {},
   "outputs": [
    {
     "data": {
      "text/html": [
       "<div>\n",
       "<style scoped>\n",
       "    .dataframe tbody tr th:only-of-type {\n",
       "        vertical-align: middle;\n",
       "    }\n",
       "\n",
       "    .dataframe tbody tr th {\n",
       "        vertical-align: top;\n",
       "    }\n",
       "\n",
       "    .dataframe thead th {\n",
       "        text-align: right;\n",
       "    }\n",
       "</style>\n",
       "<table border=\"1\" class=\"dataframe\">\n",
       "  <thead>\n",
       "    <tr style=\"text-align: right;\">\n",
       "      <th></th>\n",
       "      <th>ID</th>\n",
       "      <th>PID</th>\n",
       "      <th>Study</th>\n",
       "      <th>Condition</th>\n",
       "      <th>Resolution</th>\n",
       "      <th>Framerate</th>\n",
       "      <th>Bitrate</th>\n",
       "      <th>VQ</th>\n",
       "      <th>VF</th>\n",
       "      <th>VU</th>\n",
       "      <th>VD</th>\n",
       "      <th>AC</th>\n",
       "      <th>Age</th>\n",
       "      <th>Expertise</th>\n",
       "    </tr>\n",
       "  </thead>\n",
       "  <tbody>\n",
       "    <tr>\n",
       "      <th>count</th>\n",
       "      <td>3312.0</td>\n",
       "      <td>3312.0</td>\n",
       "      <td>3312.0</td>\n",
       "      <td>3312.0</td>\n",
       "      <td>3312.0</td>\n",
       "      <td>3312.0</td>\n",
       "      <td>3312.0</td>\n",
       "      <td>3312.0</td>\n",
       "      <td>3312.0</td>\n",
       "      <td>3312.0</td>\n",
       "      <td>3312.0</td>\n",
       "      <td>3312.0</td>\n",
       "      <td>3312.0</td>\n",
       "      <td>3312.0</td>\n",
       "    </tr>\n",
       "    <tr>\n",
       "      <th>mean</th>\n",
       "      <td>1656.5</td>\n",
       "      <td>23.5</td>\n",
       "      <td>1.4782608695652173</td>\n",
       "      <td>36.5</td>\n",
       "      <td>760.0</td>\n",
       "      <td>45.0</td>\n",
       "      <td>10691.666666666666</td>\n",
       "      <td>3.8393115942029055</td>\n",
       "      <td>4.150724637681164</td>\n",
       "      <td>3.8764492753623263</td>\n",
       "      <td>4.954317632850236</td>\n",
       "      <td>0.4628623188405797</td>\n",
       "      <td>24.347826086956523</td>\n",
       "      <td>3.152173913043478</td>\n",
       "    </tr>\n",
       "    <tr>\n",
       "      <th>std</th>\n",
       "      <td>956.2363724519163</td>\n",
       "      <td>13.277922716</td>\n",
       "      <td>0.49960261544968126</td>\n",
       "      <td>20.7857430869099</td>\n",
       "      <td>246.6137932726321</td>\n",
       "      <td>15.002265005675424</td>\n",
       "      <td>17671.73037266718</td>\n",
       "      <td>1.1911611494051733</td>\n",
       "      <td>1.4550756062466752</td>\n",
       "      <td>1.3607123939729238</td>\n",
       "      <td>1.107127761804142</td>\n",
       "      <td>0.49869417680023276</td>\n",
       "      <td>3.052312665640076</td>\n",
       "      <td>1.1974129401622127</td>\n",
       "    </tr>\n",
       "    <tr>\n",
       "      <th>min</th>\n",
       "      <td>1.0</td>\n",
       "      <td>1.0</td>\n",
       "      <td>1.0</td>\n",
       "      <td>1.0</td>\n",
       "      <td>480.0</td>\n",
       "      <td>30.0</td>\n",
       "      <td>300.0</td>\n",
       "      <td>1.0</td>\n",
       "      <td>-0.1</td>\n",
       "      <td>-0.1</td>\n",
       "      <td>-0.1</td>\n",
       "      <td>0.0</td>\n",
       "      <td>18.0</td>\n",
       "      <td>1.0</td>\n",
       "    </tr>\n",
       "    <tr>\n",
       "      <th>25%</th>\n",
       "      <td>828.75</td>\n",
       "      <td>12.0</td>\n",
       "      <td>1.0</td>\n",
       "      <td>18.75</td>\n",
       "      <td>480.0</td>\n",
       "      <td>30.0</td>\n",
       "      <td>1750.0</td>\n",
       "      <td>3.0</td>\n",
       "      <td>3.0</td>\n",
       "      <td>2.8</td>\n",
       "      <td>4.3</td>\n",
       "      <td>0.0</td>\n",
       "      <td>22.0</td>\n",
       "      <td>3.0</td>\n",
       "    </tr>\n",
       "    <tr>\n",
       "      <th>50%</th>\n",
       "      <td>1656.5</td>\n",
       "      <td>23.5</td>\n",
       "      <td>1.0</td>\n",
       "      <td>36.5</td>\n",
       "      <td>720.0</td>\n",
       "      <td>45.0</td>\n",
       "      <td>3000.0</td>\n",
       "      <td>3.8</td>\n",
       "      <td>4.0</td>\n",
       "      <td>3.6500000000000004</td>\n",
       "      <td>5.2</td>\n",
       "      <td>0.0</td>\n",
       "      <td>24.0</td>\n",
       "      <td>3.0</td>\n",
       "    </tr>\n",
       "    <tr>\n",
       "      <th>75%</th>\n",
       "      <td>2484.25</td>\n",
       "      <td>35.0</td>\n",
       "      <td>2.0</td>\n",
       "      <td>54.25</td>\n",
       "      <td>1080.0</td>\n",
       "      <td>60.0</td>\n",
       "      <td>6000.0</td>\n",
       "      <td>4.9</td>\n",
       "      <td>5.6</td>\n",
       "      <td>5.1</td>\n",
       "      <td>6.0</td>\n",
       "      <td>1.0</td>\n",
       "      <td>26.0</td>\n",
       "      <td>4.0</td>\n",
       "    </tr>\n",
       "    <tr>\n",
       "      <th>max</th>\n",
       "      <td>3312.0</td>\n",
       "      <td>46.0</td>\n",
       "      <td>2.0</td>\n",
       "      <td>72.0</td>\n",
       "      <td>1080.0</td>\n",
       "      <td>60.0</td>\n",
       "      <td>50000.0</td>\n",
       "      <td>7.0</td>\n",
       "      <td>6.6</td>\n",
       "      <td>6.6</td>\n",
       "      <td>6.6</td>\n",
       "      <td>1.0</td>\n",
       "      <td>34.0</td>\n",
       "      <td>5.0</td>\n",
       "    </tr>\n",
       "  </tbody>\n",
       "</table>\n",
       "</div>"
      ],
      "text/plain": [
       "                     ID          PID               Study        Condition  \\\n",
       "count            3312.0       3312.0              3312.0           3312.0   \n",
       "mean             1656.5         23.5  1.4782608695652173             36.5   \n",
       "std   956.2363724519163 13.277922716 0.49960261544968126 20.7857430869099   \n",
       "min                 1.0          1.0                 1.0              1.0   \n",
       "25%              828.75         12.0                 1.0            18.75   \n",
       "50%              1656.5         23.5                 1.0             36.5   \n",
       "75%             2484.25         35.0                 2.0            54.25   \n",
       "max              3312.0         46.0                 2.0             72.0   \n",
       "\n",
       "             Resolution          Framerate            Bitrate  \\\n",
       "count            3312.0             3312.0             3312.0   \n",
       "mean              760.0               45.0 10691.666666666666   \n",
       "std   246.6137932726321 15.002265005675424  17671.73037266718   \n",
       "min               480.0               30.0              300.0   \n",
       "25%               480.0               30.0             1750.0   \n",
       "50%               720.0               45.0             3000.0   \n",
       "75%              1080.0               60.0             6000.0   \n",
       "max              1080.0               60.0            50000.0   \n",
       "\n",
       "                      VQ                 VF                 VU  \\\n",
       "count             3312.0             3312.0             3312.0   \n",
       "mean  3.8393115942029055  4.150724637681164 3.8764492753623263   \n",
       "std   1.1911611494051733 1.4550756062466752 1.3607123939729238   \n",
       "min                  1.0               -0.1               -0.1   \n",
       "25%                  3.0                3.0                2.8   \n",
       "50%                  3.8                4.0 3.6500000000000004   \n",
       "75%                  4.9                5.6                5.1   \n",
       "max                  7.0                6.6                6.6   \n",
       "\n",
       "                     VD                  AC                Age  \\\n",
       "count            3312.0              3312.0             3312.0   \n",
       "mean  4.954317632850236  0.4628623188405797 24.347826086956523   \n",
       "std   1.107127761804142 0.49869417680023276  3.052312665640076   \n",
       "min                -0.1                 0.0               18.0   \n",
       "25%                 4.3                 0.0               22.0   \n",
       "50%                 5.2                 0.0               24.0   \n",
       "75%                 6.0                 1.0               26.0   \n",
       "max                 6.6                 1.0               34.0   \n",
       "\n",
       "               Expertise  \n",
       "count             3312.0  \n",
       "mean   3.152173913043478  \n",
       "std   1.1974129401622127  \n",
       "min                  1.0  \n",
       "25%                  3.0  \n",
       "50%                  3.0  \n",
       "75%                  4.0  \n",
       "max                  5.0  "
      ]
     },
     "execution_count": 96,
     "metadata": {},
     "output_type": "execute_result"
    }
   ],
   "source": [
    "df.describe()"
   ]
  },
  {
   "cell_type": "markdown",
   "id": "6aefc57c",
   "metadata": {},
   "source": [
    "The above output prints the important summary statistics of all the numerical variables like the mean, median (50%), minimum, and maximum values, along with the standard deviation."
   ]
  },
  {
   "cell_type": "markdown",
   "id": "6e89914a",
   "metadata": {},
   "source": [
    "However, the 'describe()' function only prints the statistics for the quantitative or numerical variable. In order to print the similar statistics for all the variables, an additional argument, include='all', needs to be added, as shown in the line of code below."
   ]
  },
  {
   "cell_type": "code",
   "execution_count": 97,
   "id": "686dc122",
   "metadata": {},
   "outputs": [
    {
     "data": {
      "text/html": [
       "<div>\n",
       "<style scoped>\n",
       "    .dataframe tbody tr th:only-of-type {\n",
       "        vertical-align: middle;\n",
       "    }\n",
       "\n",
       "    .dataframe tbody tr th {\n",
       "        vertical-align: top;\n",
       "    }\n",
       "\n",
       "    .dataframe thead th {\n",
       "        text-align: right;\n",
       "    }\n",
       "</style>\n",
       "<table border=\"1\" class=\"dataframe\">\n",
       "  <thead>\n",
       "    <tr style=\"text-align: right;\">\n",
       "      <th></th>\n",
       "      <th>ID</th>\n",
       "      <th>PID</th>\n",
       "      <th>Game</th>\n",
       "      <th>Study</th>\n",
       "      <th>Game_group</th>\n",
       "      <th>Condition</th>\n",
       "      <th>Condition_params</th>\n",
       "      <th>Resolution</th>\n",
       "      <th>Framerate</th>\n",
       "      <th>Bitrate</th>\n",
       "      <th>VQ</th>\n",
       "      <th>VF</th>\n",
       "      <th>VU</th>\n",
       "      <th>VD</th>\n",
       "      <th>AC</th>\n",
       "      <th>Age</th>\n",
       "      <th>Gender</th>\n",
       "      <th>Expertise</th>\n",
       "      <th>Monitor</th>\n",
       "    </tr>\n",
       "  </thead>\n",
       "  <tbody>\n",
       "    <tr>\n",
       "      <th>count</th>\n",
       "      <td>3312.0</td>\n",
       "      <td>3312.0</td>\n",
       "      <td>3312</td>\n",
       "      <td>3312.0</td>\n",
       "      <td>3312</td>\n",
       "      <td>3312.0</td>\n",
       "      <td>3312</td>\n",
       "      <td>3312.0</td>\n",
       "      <td>3312.0</td>\n",
       "      <td>3312.0</td>\n",
       "      <td>3312.0</td>\n",
       "      <td>3312.0</td>\n",
       "      <td>3312.0</td>\n",
       "      <td>3312.0</td>\n",
       "      <td>3312.0</td>\n",
       "      <td>3312.0</td>\n",
       "      <td>3312</td>\n",
       "      <td>3312.0</td>\n",
       "      <td>3312</td>\n",
       "    </tr>\n",
       "    <tr>\n",
       "      <th>unique</th>\n",
       "      <td>NaN</td>\n",
       "      <td>NaN</td>\n",
       "      <td>6</td>\n",
       "      <td>NaN</td>\n",
       "      <td>2</td>\n",
       "      <td>NaN</td>\n",
       "      <td>24</td>\n",
       "      <td>NaN</td>\n",
       "      <td>NaN</td>\n",
       "      <td>NaN</td>\n",
       "      <td>NaN</td>\n",
       "      <td>NaN</td>\n",
       "      <td>NaN</td>\n",
       "      <td>NaN</td>\n",
       "      <td>NaN</td>\n",
       "      <td>NaN</td>\n",
       "      <td>3</td>\n",
       "      <td>NaN</td>\n",
       "      <td>5</td>\n",
       "    </tr>\n",
       "    <tr>\n",
       "      <th>top</th>\n",
       "      <td>NaN</td>\n",
       "      <td>NaN</td>\n",
       "      <td>Game1</td>\n",
       "      <td>NaN</td>\n",
       "      <td>Game1_Game2_Game3</td>\n",
       "      <td>NaN</td>\n",
       "      <td>480_30_300</td>\n",
       "      <td>NaN</td>\n",
       "      <td>NaN</td>\n",
       "      <td>NaN</td>\n",
       "      <td>NaN</td>\n",
       "      <td>NaN</td>\n",
       "      <td>NaN</td>\n",
       "      <td>NaN</td>\n",
       "      <td>NaN</td>\n",
       "      <td>NaN</td>\n",
       "      <td>Male</td>\n",
       "      <td>NaN</td>\n",
       "      <td>Desktop</td>\n",
       "    </tr>\n",
       "    <tr>\n",
       "      <th>freq</th>\n",
       "      <td>NaN</td>\n",
       "      <td>NaN</td>\n",
       "      <td>576</td>\n",
       "      <td>NaN</td>\n",
       "      <td>1728</td>\n",
       "      <td>NaN</td>\n",
       "      <td>138</td>\n",
       "      <td>NaN</td>\n",
       "      <td>NaN</td>\n",
       "      <td>NaN</td>\n",
       "      <td>NaN</td>\n",
       "      <td>NaN</td>\n",
       "      <td>NaN</td>\n",
       "      <td>NaN</td>\n",
       "      <td>NaN</td>\n",
       "      <td>NaN</td>\n",
       "      <td>2592</td>\n",
       "      <td>NaN</td>\n",
       "      <td>1872</td>\n",
       "    </tr>\n",
       "    <tr>\n",
       "      <th>mean</th>\n",
       "      <td>1656.5</td>\n",
       "      <td>23.5</td>\n",
       "      <td>NaN</td>\n",
       "      <td>1.4782608695652173</td>\n",
       "      <td>NaN</td>\n",
       "      <td>36.5</td>\n",
       "      <td>NaN</td>\n",
       "      <td>760.0</td>\n",
       "      <td>45.0</td>\n",
       "      <td>10691.666666666666</td>\n",
       "      <td>3.8393115942029055</td>\n",
       "      <td>4.150724637681164</td>\n",
       "      <td>3.8764492753623263</td>\n",
       "      <td>4.954317632850236</td>\n",
       "      <td>0.4628623188405797</td>\n",
       "      <td>24.347826086956523</td>\n",
       "      <td>NaN</td>\n",
       "      <td>3.152173913043478</td>\n",
       "      <td>NaN</td>\n",
       "    </tr>\n",
       "    <tr>\n",
       "      <th>std</th>\n",
       "      <td>956.2363724519163</td>\n",
       "      <td>13.277922716</td>\n",
       "      <td>NaN</td>\n",
       "      <td>0.49960261544968126</td>\n",
       "      <td>NaN</td>\n",
       "      <td>20.7857430869099</td>\n",
       "      <td>NaN</td>\n",
       "      <td>246.6137932726321</td>\n",
       "      <td>15.002265005675424</td>\n",
       "      <td>17671.73037266718</td>\n",
       "      <td>1.1911611494051733</td>\n",
       "      <td>1.4550756062466752</td>\n",
       "      <td>1.3607123939729238</td>\n",
       "      <td>1.107127761804142</td>\n",
       "      <td>0.49869417680023276</td>\n",
       "      <td>3.052312665640076</td>\n",
       "      <td>NaN</td>\n",
       "      <td>1.1974129401622127</td>\n",
       "      <td>NaN</td>\n",
       "    </tr>\n",
       "    <tr>\n",
       "      <th>min</th>\n",
       "      <td>1.0</td>\n",
       "      <td>1.0</td>\n",
       "      <td>NaN</td>\n",
       "      <td>1.0</td>\n",
       "      <td>NaN</td>\n",
       "      <td>1.0</td>\n",
       "      <td>NaN</td>\n",
       "      <td>480.0</td>\n",
       "      <td>30.0</td>\n",
       "      <td>300.0</td>\n",
       "      <td>1.0</td>\n",
       "      <td>-0.1</td>\n",
       "      <td>-0.1</td>\n",
       "      <td>-0.1</td>\n",
       "      <td>0.0</td>\n",
       "      <td>18.0</td>\n",
       "      <td>NaN</td>\n",
       "      <td>1.0</td>\n",
       "      <td>NaN</td>\n",
       "    </tr>\n",
       "    <tr>\n",
       "      <th>25%</th>\n",
       "      <td>828.75</td>\n",
       "      <td>12.0</td>\n",
       "      <td>NaN</td>\n",
       "      <td>1.0</td>\n",
       "      <td>NaN</td>\n",
       "      <td>18.75</td>\n",
       "      <td>NaN</td>\n",
       "      <td>480.0</td>\n",
       "      <td>30.0</td>\n",
       "      <td>1750.0</td>\n",
       "      <td>3.0</td>\n",
       "      <td>3.0</td>\n",
       "      <td>2.8</td>\n",
       "      <td>4.3</td>\n",
       "      <td>0.0</td>\n",
       "      <td>22.0</td>\n",
       "      <td>NaN</td>\n",
       "      <td>3.0</td>\n",
       "      <td>NaN</td>\n",
       "    </tr>\n",
       "    <tr>\n",
       "      <th>50%</th>\n",
       "      <td>1656.5</td>\n",
       "      <td>23.5</td>\n",
       "      <td>NaN</td>\n",
       "      <td>1.0</td>\n",
       "      <td>NaN</td>\n",
       "      <td>36.5</td>\n",
       "      <td>NaN</td>\n",
       "      <td>720.0</td>\n",
       "      <td>45.0</td>\n",
       "      <td>3000.0</td>\n",
       "      <td>3.8</td>\n",
       "      <td>4.0</td>\n",
       "      <td>3.6500000000000004</td>\n",
       "      <td>5.2</td>\n",
       "      <td>0.0</td>\n",
       "      <td>24.0</td>\n",
       "      <td>NaN</td>\n",
       "      <td>3.0</td>\n",
       "      <td>NaN</td>\n",
       "    </tr>\n",
       "    <tr>\n",
       "      <th>75%</th>\n",
       "      <td>2484.25</td>\n",
       "      <td>35.0</td>\n",
       "      <td>NaN</td>\n",
       "      <td>2.0</td>\n",
       "      <td>NaN</td>\n",
       "      <td>54.25</td>\n",
       "      <td>NaN</td>\n",
       "      <td>1080.0</td>\n",
       "      <td>60.0</td>\n",
       "      <td>6000.0</td>\n",
       "      <td>4.9</td>\n",
       "      <td>5.6</td>\n",
       "      <td>5.1</td>\n",
       "      <td>6.0</td>\n",
       "      <td>1.0</td>\n",
       "      <td>26.0</td>\n",
       "      <td>NaN</td>\n",
       "      <td>4.0</td>\n",
       "      <td>NaN</td>\n",
       "    </tr>\n",
       "    <tr>\n",
       "      <th>max</th>\n",
       "      <td>3312.0</td>\n",
       "      <td>46.0</td>\n",
       "      <td>NaN</td>\n",
       "      <td>2.0</td>\n",
       "      <td>NaN</td>\n",
       "      <td>72.0</td>\n",
       "      <td>NaN</td>\n",
       "      <td>1080.0</td>\n",
       "      <td>60.0</td>\n",
       "      <td>50000.0</td>\n",
       "      <td>7.0</td>\n",
       "      <td>6.6</td>\n",
       "      <td>6.6</td>\n",
       "      <td>6.6</td>\n",
       "      <td>1.0</td>\n",
       "      <td>34.0</td>\n",
       "      <td>NaN</td>\n",
       "      <td>5.0</td>\n",
       "      <td>NaN</td>\n",
       "    </tr>\n",
       "  </tbody>\n",
       "</table>\n",
       "</div>"
      ],
      "text/plain": [
       "                      ID          PID   Game               Study  \\\n",
       "count             3312.0       3312.0   3312              3312.0   \n",
       "unique               NaN          NaN      6                 NaN   \n",
       "top                  NaN          NaN  Game1                 NaN   \n",
       "freq                 NaN          NaN    576                 NaN   \n",
       "mean              1656.5         23.5    NaN  1.4782608695652173   \n",
       "std    956.2363724519163 13.277922716    NaN 0.49960261544968126   \n",
       "min                  1.0          1.0    NaN                 1.0   \n",
       "25%               828.75         12.0    NaN                 1.0   \n",
       "50%               1656.5         23.5    NaN                 1.0   \n",
       "75%              2484.25         35.0    NaN                 2.0   \n",
       "max               3312.0         46.0    NaN                 2.0   \n",
       "\n",
       "               Game_group        Condition Condition_params        Resolution  \\\n",
       "count                3312           3312.0             3312            3312.0   \n",
       "unique                  2              NaN               24               NaN   \n",
       "top     Game1_Game2_Game3              NaN       480_30_300               NaN   \n",
       "freq                 1728              NaN              138               NaN   \n",
       "mean                  NaN             36.5              NaN             760.0   \n",
       "std                   NaN 20.7857430869099              NaN 246.6137932726321   \n",
       "min                   NaN              1.0              NaN             480.0   \n",
       "25%                   NaN            18.75              NaN             480.0   \n",
       "50%                   NaN             36.5              NaN             720.0   \n",
       "75%                   NaN            54.25              NaN            1080.0   \n",
       "max                   NaN             72.0              NaN            1080.0   \n",
       "\n",
       "                Framerate            Bitrate                 VQ  \\\n",
       "count              3312.0             3312.0             3312.0   \n",
       "unique                NaN                NaN                NaN   \n",
       "top                   NaN                NaN                NaN   \n",
       "freq                  NaN                NaN                NaN   \n",
       "mean                 45.0 10691.666666666666 3.8393115942029055   \n",
       "std    15.002265005675424  17671.73037266718 1.1911611494051733   \n",
       "min                  30.0              300.0                1.0   \n",
       "25%                  30.0             1750.0                3.0   \n",
       "50%                  45.0             3000.0                3.8   \n",
       "75%                  60.0             6000.0                4.9   \n",
       "max                  60.0            50000.0                7.0   \n",
       "\n",
       "                       VF                 VU                VD  \\\n",
       "count              3312.0             3312.0            3312.0   \n",
       "unique                NaN                NaN               NaN   \n",
       "top                   NaN                NaN               NaN   \n",
       "freq                  NaN                NaN               NaN   \n",
       "mean    4.150724637681164 3.8764492753623263 4.954317632850236   \n",
       "std    1.4550756062466752 1.3607123939729238 1.107127761804142   \n",
       "min                  -0.1               -0.1              -0.1   \n",
       "25%                   3.0                2.8               4.3   \n",
       "50%                   4.0 3.6500000000000004               5.2   \n",
       "75%                   5.6                5.1               6.0   \n",
       "max                   6.6                6.6               6.6   \n",
       "\n",
       "                        AC                Age Gender          Expertise  \\\n",
       "count               3312.0             3312.0   3312             3312.0   \n",
       "unique                 NaN                NaN      3                NaN   \n",
       "top                    NaN                NaN   Male                NaN   \n",
       "freq                   NaN                NaN   2592                NaN   \n",
       "mean    0.4628623188405797 24.347826086956523    NaN  3.152173913043478   \n",
       "std    0.49869417680023276  3.052312665640076    NaN 1.1974129401622127   \n",
       "min                    0.0               18.0    NaN                1.0   \n",
       "25%                    0.0               22.0    NaN                3.0   \n",
       "50%                    0.0               24.0    NaN                3.0   \n",
       "75%                    1.0               26.0    NaN                4.0   \n",
       "max                    1.0               34.0    NaN                5.0   \n",
       "\n",
       "        Monitor  \n",
       "count      3312  \n",
       "unique        5  \n",
       "top     Desktop  \n",
       "freq       1872  \n",
       "mean        NaN  \n",
       "std         NaN  \n",
       "min         NaN  \n",
       "25%         NaN  \n",
       "50%         NaN  \n",
       "75%         NaN  \n",
       "max         NaN  "
      ]
     },
     "execution_count": 97,
     "metadata": {},
     "output_type": "execute_result"
    }
   ],
   "source": [
    "df.describe(include='all')\n"
   ]
  },
  {
   "cell_type": "markdown",
   "id": "a1b89fce",
   "metadata": {},
   "source": [
    "# Confidence interval"
   ]
  },
  {
   "cell_type": "markdown",
   "id": "0c33cfea",
   "metadata": {},
   "source": [
    "Imagine you ask me my height. I could say that I’m 1.93 m tall, but I’m not giving you any information about the uncertainty of this measure. Confidence intervals are intervals in which we have a certain confidence to find the real value of the observable we measure. Scientists usually search for the 95% confidence interval, but it’s very common to use 90% or even 99% as well. So, when you ask me about my height, I should answer you with an error estimate or with a confidence interval, like “with a 95% confidence I’m from 1.92 m to 1.93 m tall”.\n",
    "\n",
    "That’s what this tool gives us: an interval of where to find the real value of the observable.\n",
    "\n",
    "Some useful properties of confidence intervals are:\n",
    "\n",
    "Fixing the confidence, the interval becomes narrower and narrower when the sample size increases. It’s due to the law or large numbers\n",
    "Fixing the number of points in the sample, the interval becomes wider and wider when the confidence increases. So, to have a greater confidence, we must have a larger interval.\n",
    "In data science and statistics, confidence intervals are very useful to give a scientific result of our measure, that can be used by other scientists to compare their results with ours."
   ]
  },
  {
   "cell_type": "markdown",
   "id": "043576c1",
   "metadata": {},
   "source": [
    "Create a new sample based on our dataset, with replacement and with the same number of points\n",
    "Calculate the mean value and store it in an array or list\n",
    "Repeat the process many times (e.g. 1000)\n",
    "On the list of the mean values, calculate 2.5th percentile and 97.5th percentile (if you want a 95% confidence interval)"
   ]
  },
  {
   "cell_type": "markdown",
   "id": "e1e86157",
   "metadata": {},
   "source": [
    "Confidence interval in Python\n",
    "Let’s now calculate the confidence intervals in Python"
   ]
  },
  {
   "cell_type": "code",
   "execution_count": 98,
   "id": "2b274a99",
   "metadata": {},
   "outputs": [],
   "source": [
    "# Let’s import some useful libraries.\n",
    "\n",
    "import numpy as np\n",
    "from scipy.stats import t"
   ]
  },
  {
   "cell_type": "markdown",
   "id": "265867de",
   "metadata": {},
   "source": [
    "Let’s now simulate a dataset made of 100 numbers extracted from a normal distribution."
   ]
  },
  {
   "cell_type": "code",
   "execution_count": 99,
   "id": "55aecf98",
   "metadata": {},
   "outputs": [],
   "source": [
    "x = np.random.normal(size=100)"
   ]
  },
  {
   "cell_type": "markdown",
   "id": "67db786c",
   "metadata": {},
   "source": [
    "Let’s see we want to calculate the 95% confidence interval of the mean value. Let’s calculate all the numbers we need according to the formula of confidence intervals."
   ]
  },
  {
   "cell_type": "code",
   "execution_count": 100,
   "id": "79c1e362",
   "metadata": {},
   "outputs": [],
   "source": [
    "m = x.mean()\n",
    "s = x.std()\n",
    "\n",
    "dof = len(x)-1\n",
    "\n",
    "confidence = 0.95"
   ]
  },
  {
   "cell_type": "markdown",
   "id": "d24a8936",
   "metadata": {},
   "source": [
    "We now need the value of t. The function that calculates the inverse cumulative distribution is ppf. We need to apply the absolute value because the cumulative distribution works with the left tail, so the result would be negative."
   ]
  },
  {
   "cell_type": "code",
   "execution_count": 101,
   "id": "e9ff4ed4",
   "metadata": {},
   "outputs": [],
   "source": [
    "t_crit = np.abs(t.ppf((1-confidence)/2,dof))"
   ]
  },
  {
   "cell_type": "markdown",
   "id": "afd82e3f",
   "metadata": {},
   "source": [
    "Now, we can apply the original formula to calculate the 95% confidence interval."
   ]
  },
  {
   "cell_type": "code",
   "execution_count": 102,
   "id": "b8d1a57f",
   "metadata": {},
   "outputs": [
    {
     "data": {
      "text/plain": [
       "(-0.13347889079489939, 0.25325629076311185)"
      ]
     },
     "execution_count": 102,
     "metadata": {},
     "output_type": "execute_result"
    }
   ],
   "source": [
    "(m-s*t_crit/np.sqrt(len(x)), m+s*t_crit/np.sqrt(len(x)))\n",
    "\n",
    "# (-0.14017768797464097, 0.259793719043611)"
   ]
  },
  {
   "cell_type": "markdown",
   "id": "ad997cf7",
   "metadata": {},
   "source": [
    "We know it’s correct because the normal distribution has 0 mean, but if we don’t know anything about the population, we could say that, with 95% confidence, the expected value of the population lies between -0.14 and 0.26.\n",
    "\n",
    "We could have reached the same result using a bootstrap, which is unbiased. In this example, I create 1000 resamples of our dataset (with replacements)."
   ]
  },
  {
   "cell_type": "code",
   "execution_count": 103,
   "id": "ae116b49",
   "metadata": {},
   "outputs": [
    {
     "data": {
      "text/plain": [
       "(-0.13347889079489939, 0.25325629076311185)"
      ]
     },
     "execution_count": 103,
     "metadata": {},
     "output_type": "execute_result"
    }
   ],
   "source": [
    "values = [np.random.choice(x,size=len(x),replace=True).mean() for i in range(1000)]\n",
    "\n",
    "np.percentile(values,[100*(1-confidence)/2,100*(1-(1-confidence)/2)])\n",
    "# array([-0.13559955,  0.26480175])\n",
    "_"
   ]
  },
  {
   "cell_type": "markdown",
   "id": "1b73d187",
   "metadata": {},
   "source": [
    "As we can see, the result is almost equal to the one we have reached with the closed formula."
   ]
  },
  {
   "cell_type": "markdown",
   "id": "03746ef5",
   "metadata": {},
   "source": [
    "\n",
    "Confidence intervals are easy to calculate and can give a very useful insight to data analysts and scientists. They give a very powerful error estimate and, if used correctly, can really help us to extract as much information as possible from our data."
   ]
  },
  {
   "cell_type": "markdown",
   "id": "aed7b00b",
   "metadata": {},
   "source": [
    "## Conclusion\n",
    "We have learned about the fundamentals of the most widely used descriptive statistics and their calculations with Python. We covered the following topics:\n",
    "\n",
    "Mean\n",
    "\n",
    "Median\n",
    "\n",
    "Mode\n",
    "\n",
    "Standard Deviation\n",
    "\n",
    "Variance\n",
    "\n",
    "Interquartile Range\n",
    "\n",
    "Skewness\n",
    "\n",
    "Confidence intervals\n",
    "\n",
    "It is important to understand the usage of these statistics and which one to use, depending on the problem statement and the data."
   ]
  },
  {
   "cell_type": "code",
   "execution_count": null,
   "id": "a8559611",
   "metadata": {},
   "outputs": [],
   "source": []
  },
  {
   "cell_type": "markdown",
   "id": "6e254a59",
   "metadata": {},
   "source": [
    "# Distributions"
   ]
  },
  {
   "cell_type": "markdown",
   "id": "c6da8796",
   "metadata": {},
   "source": [
    "For any data scientist, it is important to understand statistics, data distributions and how they can be used in real world scenarios. Other than theoretical knowledge, it also helps to be able to use them in modeling, data analysis, driving insights."
   ]
  },
  {
   "cell_type": "markdown",
   "id": "39ffdb89",
   "metadata": {},
   "source": [
    "Before diving into statistical distributions, here is a quick recap on random number generation with Python."
   ]
  },
  {
   "cell_type": "markdown",
   "id": "548c2029",
   "metadata": {},
   "source": [
    "We can use numpy as well as random in python to do the same job of generating random numbers."
   ]
  },
  {
   "cell_type": "code",
   "execution_count": 104,
   "id": "3b67eb19",
   "metadata": {},
   "outputs": [],
   "source": [
    "import numpy as np\n",
    "import random\n",
    "np.random.seed(12)"
   ]
  },
  {
   "cell_type": "code",
   "execution_count": 105,
   "id": "3c8b3a99",
   "metadata": {},
   "outputs": [
    {
     "data": {
      "text/plain": [
       "3"
      ]
     },
     "execution_count": 105,
     "metadata": {},
     "output_type": "execute_result"
    }
   ],
   "source": [
    "#Get a random integer within a specified range\n",
    "random.randint(0,10)"
   ]
  },
  {
   "cell_type": "code",
   "execution_count": 106,
   "id": "a929b639",
   "metadata": {},
   "outputs": [
    {
     "data": {
      "text/plain": [
       "6"
      ]
     },
     "execution_count": 106,
     "metadata": {},
     "output_type": "execute_result"
    }
   ],
   "source": [
    "#Get a random element from a sequence\n",
    "random.choice([1,2,3,4,5,6])"
   ]
  },
  {
   "cell_type": "code",
   "execution_count": 107,
   "id": "6265182d",
   "metadata": {},
   "outputs": [
    {
     "data": {
      "text/plain": [
       "0.1757073089464133"
      ]
     },
     "execution_count": 107,
     "metadata": {},
     "output_type": "execute_result"
    }
   ],
   "source": [
    "#Get a random real number between 0 to 1\n",
    "random.random()"
   ]
  },
  {
   "cell_type": "code",
   "execution_count": 108,
   "id": "86519665",
   "metadata": {},
   "outputs": [
    {
     "data": {
      "text/plain": [
       "0.15416284237967237"
      ]
     },
     "execution_count": 108,
     "metadata": {},
     "output_type": "execute_result"
    }
   ],
   "source": [
    "#Same thing as above using numpy would be\n",
    "np.random.sample()"
   ]
  },
  {
   "cell_type": "code",
   "execution_count": null,
   "id": "f83378a5",
   "metadata": {},
   "outputs": [],
   "source": []
  },
  {
   "cell_type": "code",
   "execution_count": null,
   "id": "5a9b8f9e",
   "metadata": {},
   "outputs": [],
   "source": []
  },
  {
   "cell_type": "markdown",
   "id": "91eb2050",
   "metadata": {},
   "source": [
    "We can also draw random numbers from a particular distribution such as normal, uniform etc. I will go into those details under each specific distribution. We will use SciPy library in Python to generate the statistical distributions."
   ]
  },
  {
   "cell_type": "markdown",
   "id": "5f31d28d",
   "metadata": {},
   "source": [
    "## Uniform Distribution"
   ]
  },
  {
   "cell_type": "markdown",
   "id": "124ef076",
   "metadata": {},
   "source": [
    "In this sort of distribution, values within a specific range are equally likely to occur. Values outside that given range never occur. Let’s generate 100,000 numbers from a uniform distribution and plot them to visualize this. The function used to generate random numbers from a distribution is called rvs. To define the bounds, we use loc and scale."
   ]
  },
  {
   "cell_type": "code",
   "execution_count": 109,
   "id": "269f3db2",
   "metadata": {},
   "outputs": [
    {
     "data": {
      "text/plain": [
       "<AxesSubplot:ylabel='Density'>"
      ]
     },
     "execution_count": 109,
     "metadata": {},
     "output_type": "execute_result"
    },
    {
     "data": {
      "image/png": "[encoded data removed]",
      "text/plain": [
       "<Figure size 432x288 with 1 Axes>"
      ]
     },
     "metadata": {
      "needs_background": "light"
     },
     "output_type": "display_data"
    }
   ],
   "source": [
    "import scipy.stats as stats\n",
    "import pandas as pd\n",
    "\n",
    "uniform_data = stats.uniform.rvs(size=100000,\n",
    "                 loc=0, #from 0\n",
    "                 scale=10 #to 10\n",
    "                 )\n",
    "\n",
    "pd.DataFrame(uniform_data).plot(kind='density')"
   ]
  },
  {
   "cell_type": "markdown",
   "id": "aeefc565",
   "metadata": {},
   "source": [
    "We get this graph. We can see that between 0 and 10, every number is equally likely to occur but outside it, the probability of every number is 0."
   ]
  },
  {
   "cell_type": "markdown",
   "id": "3fb6c0cf",
   "metadata": {},
   "source": [
    "We can draw further insights from this distribution. If we want to find the probability that an observation drawn from this distribution falls below a specific values, we can do that using cdf. It gives area under this density curve up to a certain value on the x axis. Say we draw the cutoff at 5 and want to know area under that curve up to x=5 i.e"
   ]
  },
  {
   "cell_type": "code",
   "execution_count": 110,
   "id": "271815d0",
   "metadata": {},
   "outputs": [
    {
     "data": {
      "text/plain": [
       "0.5"
      ]
     },
     "execution_count": 110,
     "metadata": {},
     "output_type": "execute_result"
    }
   ],
   "source": [
    "# using cdf on uniform distribution\n",
    "stats.uniform.cdf(x=5.0, #cutoff\n",
    "                 loc=0,\n",
    "                 scale=10)"
   ]
  },
  {
   "cell_type": "markdown",
   "id": "c1ea5513",
   "metadata": {},
   "source": [
    "This will give the output of 0.5 which means that in this particular uniform distribution, if we pick out an observation, there is a 50% chance that it would be between 0 and 5."
   ]
  },
  {
   "cell_type": "markdown",
   "id": "75bdbd1e",
   "metadata": {},
   "source": [
    "The inverse of cdf is ppf. Given the probability, ppf gives the cutoff on the x axis. For example, to get the cutoff value for which we have 30% chance of drawing an observation below that value"
   ]
  },
  {
   "cell_type": "code",
   "execution_count": 111,
   "id": "fd1210e5",
   "metadata": {},
   "outputs": [
    {
     "data": {
      "text/plain": [
       "3.0"
      ]
     },
     "execution_count": 111,
     "metadata": {},
     "output_type": "execute_result"
    }
   ],
   "source": [
    "stats.uniform.ppf(q=0.3, #probability cutoff\n",
    "                 loc=0, #distribution start\n",
    "                 scale=10) #distribution end"
   ]
  },
  {
   "cell_type": "markdown",
   "id": "ae1d4cda",
   "metadata": {},
   "source": [
    "This will result in the value 3. So at x axis value of 3, we can slice the distribution so that 30% of it is to the left of the graph."
   ]
  },
  {
   "cell_type": "markdown",
   "id": "0ffe3e05",
   "metadata": {},
   "source": [
    "To get the actual probability density at given value x, we use pdf. This will basically give the value of the height of the distribution at that value x. Since uniform distribution is flat, in our case above, all x values between 0 and 10 will have the same probability density. And all points outside of this range would have probability density = 0.\n",
    "Now, to get random numbers from any uniform distribution, we can use:"
   ]
  },
  {
   "cell_type": "code",
   "execution_count": 112,
   "id": "7e924721",
   "metadata": {},
   "outputs": [
    {
     "data": {
      "text/plain": [
       "0.1967468472170517"
      ]
     },
     "execution_count": 112,
     "metadata": {},
     "output_type": "execute_result"
    }
   ],
   "source": [
    "np.random.uniform()"
   ]
  },
  {
   "cell_type": "markdown",
   "id": "8a6393b2",
   "metadata": {},
   "source": [
    "To get random numbers form the uniform distribution used above, use:"
   ]
  },
  {
   "cell_type": "code",
   "execution_count": 113,
   "id": "3a026b06",
   "metadata": {},
   "outputs": [
    {
     "data": {
      "text/plain": [
       "array([[8.98793389, 4.45928689, 6.20462917, 6.65114907],\n",
       "       [8.98087544, 5.91319149, 6.94850059, 2.51790193],\n",
       "       [4.26286416, 4.48275941, 8.22769552, 9.19842375]])"
      ]
     },
     "execution_count": 113,
     "metadata": {},
     "output_type": "execute_result"
    }
   ],
   "source": [
    "np.random.uniform(0 #low limit\n",
    "                  ,10 #upper limit\n",
    "                  ,(3,4)) #size\n",
    "# This would result in an array like:\n"
   ]
  },
  {
   "cell_type": "code",
   "execution_count": 114,
   "id": "b88dd066",
   "metadata": {},
   "outputs": [
    {
     "ename": "TypeError",
     "evalue": "bar() missing 2 required positional arguments: 'x' and 'height'",
     "output_type": "error",
     "traceback": [
      "\u001b[0;31m---------------------------------------------------------------------------\u001b[0m",
      "\u001b[0;31mTypeError\u001b[0m                                 Traceback (most recent call last)",
      "\u001b[0;32m/tmp/ipykernel_4102/2964977859.py\u001b[0m in \u001b[0;36m<module>\u001b[0;34m\u001b[0m\n\u001b[0;32m----> 1\u001b[0;31m \u001b[0mplt\u001b[0m\u001b[0;34m.\u001b[0m\u001b[0mbar\u001b[0m\u001b[0;34m(\u001b[0m\u001b[0;34m)\u001b[0m\u001b[0;34m\u001b[0m\u001b[0;34m\u001b[0m\u001b[0m\n\u001b[0m",
      "\u001b[0;31mTypeError\u001b[0m: bar() missing 2 required positional arguments: 'x' and 'height'"
     ]
    }
   ],
   "source": [
    "plt.bar()"
   ]
  },
  {
   "cell_type": "code",
   "execution_count": null,
   "id": "d0af196c",
   "metadata": {},
   "outputs": [],
   "source": [
    "np.random.uniform(0 #low limit\n",
    "                  ,10 #upper limit\n",
    "                  ,(3,4)) #size\n",
    "# This would result in an array like:\n"
   ]
  },
  {
   "cell_type": "markdown",
   "id": "bfd4f48c",
   "metadata": {},
   "source": [
    "## Normal/Gaussian Distribution"
   ]
  },
  {
   "cell_type": "markdown",
   "id": "0971efab",
   "metadata": {},
   "source": [
    "Same as above, we can use SciPy, norm and rvs to generate this distribution"
   ]
  },
  {
   "cell_type": "code",
   "execution_count": null,
   "id": "c59a56b5",
   "metadata": {},
   "outputs": [],
   "source": [
    "from scipy.stats import norm\n",
    "stats.norm.rvs()"
   ]
  },
  {
   "cell_type": "markdown",
   "id": "b9ae7aff",
   "metadata": {},
   "source": [
    "### normal distribution\n",
    "We can use cdf to get area under the curve below a cutoff value on x axis. For example:"
   ]
  },
  {
   "cell_type": "code",
   "execution_count": null,
   "id": "36a12e64",
   "metadata": {},
   "outputs": [],
   "source": [
    "print(stats.norm.cdf(x=0.4))"
   ]
  },
  {
   "cell_type": "code",
   "execution_count": null,
   "id": "79089dbb",
   "metadata": {},
   "outputs": [],
   "source": [
    "Similary, we can use ppf to get the cutoff on x axis for a certain probability (% from area under the curve). For example:"
   ]
  },
  {
   "cell_type": "code",
   "execution_count": null,
   "id": "1d3d633c",
   "metadata": {},
   "outputs": [],
   "source": [
    "#Find the quantile for the 97.5% cutoff\n",
    "\n",
    "print(stats.norm.ppf(q=0.975))"
   ]
  },
  {
   "cell_type": "markdown",
   "id": "69213416",
   "metadata": {},
   "source": [
    "Generating random numbers from some normal distribution can be done in multiple ways."
   ]
  },
  {
   "cell_type": "markdown",
   "id": "affcd087",
   "metadata": {},
   "source": [
    "If we want to generate random numbers from a normal distribution of a particular mean and standard deviation:"
   ]
  },
  {
   "cell_type": "code",
   "execution_count": null,
   "id": "04ce13e8",
   "metadata": {},
   "outputs": [],
   "source": [
    "np.random.normal(1 #mean\n",
    "                 ,2 #standard deviation\n",
    "                 ,(3,2)) #size"
   ]
  },
  {
   "cell_type": "markdown",
   "id": "449232fe",
   "metadata": {},
   "source": [
    "If we want to generate random numbers from a normal distribution between 0 and 1"
   ]
  },
  {
   "cell_type": "code",
   "execution_count": null,
   "id": "fa8b0cd8",
   "metadata": {},
   "outputs": [],
   "source": [
    "np.random.rand(3,2)"
   ]
  },
  {
   "cell_type": "markdown",
   "id": "dfd6f7cf",
   "metadata": {},
   "source": [
    "If we want to generate random numbers from a standard normal distribution"
   ]
  },
  {
   "cell_type": "code",
   "execution_count": null,
   "id": "3ab0bc18",
   "metadata": {},
   "outputs": [],
   "source": [
    "np.random.randn(3,2)"
   ]
  },
  {
   "cell_type": "markdown",
   "id": "387b30aa",
   "metadata": {},
   "source": [
    "### Binomial Distribution\n",
    "This is a discrete probability distribution. It has only 2 possible outcomes in experiments. We can use the binomial distribution to find probability of success. It tells you how likely it is to get success in n number of trials. So x axis would be the number of successes in a trial and y axis would be the number of trials. We need 2 parameters to define binomial distribution — probability of success in a trial and number of trials. A trial could have multiple events. For example — flipping fair coin 10 times = 1 trial."
   ]
  },
  {
   "cell_type": "code",
   "execution_count": null,
   "id": "25d53d45",
   "metadata": {},
   "outputs": [],
   "source": [
    "from scipy.stats import binom\n",
    "\n",
    "coin=stats.binom.rvs(size=10000 # number of trials\n",
    "          ,n=10 #number of flips in a trial\n",
    "          ,p=0.5 #probability of success (say getting heads)\n",
    "         )\n",
    "print(pd.crosstab(index=\"counts\",columns=coin))"
   ]
  },
  {
   "cell_type": "markdown",
   "id": "126012e4",
   "metadata": {},
   "source": [
    "This shows that out of all the 10000 trials, it was only 10 times that we flipped the coin and got NO head. This makes sense because it is a fair coin with equal probability of getting a head or a tail. We can see that 2442 times, we got 5 heads. And only 10 times out of the 10000, did all 10 flips give a head."
   ]
  },
  {
   "cell_type": "code",
   "execution_count": null,
   "id": "3fe40abd",
   "metadata": {},
   "outputs": [],
   "source": [
    "pd.DataFrame(coin).hist()"
   ]
  },
  {
   "cell_type": "markdown",
   "id": "fe2fa006",
   "metadata": {},
   "source": [
    "fair coin flips\n",
    "If we now flip an unfair coin with 80% chance for heads, the graph should become right skewed because we would have more results of getting heads."
   ]
  },
  {
   "cell_type": "code",
   "execution_count": null,
   "id": "6ccb4ae2",
   "metadata": {},
   "outputs": [],
   "source": [
    "from scipy.stats import binom\n",
    "\n",
    "coin=stats.binom.rvs(size=10000 # number of trials\n",
    "          ,n=10 #number of flips in a trial\n",
    "          ,p=0.8 #probability of success\n",
    "         )\n",
    "\n",
    "print(pd.crosstab(index=\"counts\",columns=coin))"
   ]
  },
  {
   "cell_type": "markdown",
   "id": "83c280d7",
   "metadata": {},
   "source": [
    "It is interesting to note that since this coin is biased to get heads, out of 10000 trials, there was not a single one where we got only 1 head in a trial. The least we got was 2 heads in a trial and that also happened just once. We can clearly see a bias of getting more heads in trials for this case."
   ]
  },
  {
   "cell_type": "code",
   "execution_count": null,
   "id": "f7aa4972",
   "metadata": {},
   "outputs": [],
   "source": [
    "pd.DataFrame(coin).hist()"
   ]
  },
  {
   "cell_type": "markdown",
   "id": "37cc27fe",
   "metadata": {},
   "source": [
    "biased coin flips\n",
    "Same as other distributions cdf gives the probability of successes within a certain range. For example, if we want to find out what is the probability of getting heads in 5 flips or less in the biased coin case:"
   ]
  },
  {
   "cell_type": "code",
   "execution_count": null,
   "id": "55e1ac73",
   "metadata": {},
   "outputs": [],
   "source": [
    "stats.binom.cdf(k=5, #probability of 5 success or less\n",
    "               n=10, #with 10 flips\n",
    "               p=0.8) #success probability 0.8"
   ]
  },
  {
   "cell_type": "markdown",
   "id": "c920a4f3",
   "metadata": {},
   "source": [
    "Probability of MORE than 5 successes would then be:"
   ]
  },
  {
   "cell_type": "code",
   "execution_count": null,
   "id": "2d82ff9b",
   "metadata": {},
   "outputs": [],
   "source": [
    "1-stats.binom.cdf(k=5, #probability of 5 success or less\n",
    "               n=10, #with 10 flips\n",
    "               p=0.8) #success probability 0.8"
   ]
  },
  {
   "cell_type": "markdown",
   "id": "1970db83",
   "metadata": {},
   "source": [
    "In discrete distributions like this one, we have pmf instead of pdf. pmf stands for probability mass function. It is the proportion of observations at a given number of success k."
   ]
  },
  {
   "cell_type": "code",
   "execution_count": null,
   "id": "a2575e40",
   "metadata": {},
   "outputs": [],
   "source": [
    "stats.binom.pmf(k=5, #probability of 5 success \n",
    "               n=10, #with 10 flips\n",
    "               p=0.5) #success probability 0.5"
   ]
  },
  {
   "cell_type": "markdown",
   "id": "95126194",
   "metadata": {},
   "source": [
    "We can generate random numbers from a particular binomial distribution by giving the parameters n (number of trials) and p (probability of success). For example:"
   ]
  },
  {
   "cell_type": "code",
   "execution_count": null,
   "id": "5a07890b",
   "metadata": {},
   "outputs": [],
   "source": [
    "np.random.binomial(n=52, p=0.7, size=(2,3))"
   ]
  },
  {
   "cell_type": "markdown",
   "id": "c9c3a560",
   "metadata": {},
   "source": [
    "### Geometric Distribution\n",
    "This is also a discrete distribution. It models the amount of time it takes for an event to occur. For example, if success = heads, how many trials does it take to get success when flipping a fair coin?"
   ]
  },
  {
   "cell_type": "code",
   "execution_count": null,
   "id": "6490c8cf",
   "metadata": {},
   "outputs": [],
   "source": [
    "heads = stats.geom.rvs(size = 10000, #We generate 10000 trails of flips\n",
    "                      p=0.5) #fair coin\n",
    "\n",
    "print(pd.crosstab(index=\"counts\", columns = heads))"
   ]
  },
  {
   "cell_type": "code",
   "execution_count": null,
   "id": "e49498e7",
   "metadata": {},
   "outputs": [],
   "source": [
    "heads = stats.geom.rvs(size = 10000, #We generate 10000 trails of flips\n",
    "                      p=0.5) #fair coin\n",
    "\n",
    "print(pd.crosstab(index=\"counts\", columns = heads))"
   ]
  },
  {
   "cell_type": "markdown",
   "id": "05d73018",
   "metadata": {},
   "source": [
    "In the crosstab we can see, half of the time, it takes only 1 flip to get a head. That makes sense as we are flipping a fair coin. So the graph would also be right skewed."
   ]
  },
  {
   "cell_type": "code",
   "execution_count": null,
   "id": "94e2f4ae",
   "metadata": {},
   "outputs": [],
   "source": [
    "pd.DataFrame(heads).hist()"
   ]
  },
  {
   "cell_type": "markdown",
   "id": "83bc53f3",
   "metadata": {},
   "source": [
    "### geometric distribution\n",
    "We can use cdf to draw more insight. For example, what is the probability of success in first 3 flips?"
   ]
  },
  {
   "cell_type": "code",
   "execution_count": null,
   "id": "6bf65ba7",
   "metadata": {},
   "outputs": [],
   "source": [
    "three_flip = stats.geom.cdf(k=3,\n",
    "                           p=0.5)\n",
    "print(three_flip)"
   ]
  },
  {
   "cell_type": "markdown",
   "id": "c95535c3",
   "metadata": {},
   "source": [
    "What is the probability that we get success in exactly 2 flips? This can be solved using pmf."
   ]
  },
  {
   "cell_type": "code",
   "execution_count": null,
   "id": "42315d2d",
   "metadata": {},
   "outputs": [],
   "source": [
    "stats.geom.pmf(k=2,\n",
    "              p=0.5)"
   ]
  },
  {
   "cell_type": "markdown",
   "id": "aefbef25",
   "metadata": {},
   "source": [
    "### Exponential Distribution\n",
    "This is the continuous version of the geometric distribution. It models the amount of time it takes for a certain event to occur, given an occurrence rate.\n",
    "For example, if occurrence rate is once per hour, what is the probability of waiting for more than an hour for an event to occur?"
   ]
  },
  {
   "cell_type": "code",
   "execution_count": null,
   "id": "ec5fc3b7",
   "metadata": {},
   "outputs": [],
   "source": [
    "prob = stats.expon.cdf(x=1,\n",
    "                      scale=1) #arrival rate\n",
    "1-prob"
   ]
  },
  {
   "cell_type": "markdown",
   "id": "1ec567dc",
   "metadata": {},
   "source": [
    "### Poisson Distribution\n",
    "It models the probability of success/event occurrence within a given time interval. For example, if a waiting room has an arrival rate of once per hour, how many arrivals happen in an hour?"
   ]
  },
  {
   "cell_type": "code",
   "execution_count": null,
   "id": "113856df",
   "metadata": {},
   "outputs": [],
   "source": [
    "arr = stats.poisson.rvs(size=10000,\n",
    "                       mu=1) #average arrival time 1\n",
    "\n",
    "print(pd.crosstab(index='counts', columns = arr))"
   ]
  },
  {
   "cell_type": "markdown",
   "id": "7422d7be",
   "metadata": {},
   "source": [
    "It it interesting to see that we often see 0 arrivals in an hour when the arrival rate is once per hour. We also see more arrivals sometimes. These are probably the busier hours."
   ]
  },
  {
   "cell_type": "code",
   "execution_count": null,
   "id": "23fa990f",
   "metadata": {},
   "outputs": [],
   "source": [
    "pd.DataFrame(arr).hist()"
   ]
  },
  {
   "cell_type": "markdown",
   "id": "bf10ba5d",
   "metadata": {},
   "source": [
    "So in such a case, we would want to have say more chairs in the waiting room for these busy hours. Arrival rate of once per hour can be deceptive in such cases and we can run into shortage of resources.\n",
    "\n",
    "With statistical distributions, we get a lot more insight into out data and business for which we are doing this sort of modeling."
   ]
  },
  {
   "cell_type": "markdown",
   "id": "67de143f",
   "metadata": {},
   "source": [
    "# Data Transformation"
   ]
  },
  {
   "cell_type": "markdown",
   "id": "6e90acbd",
   "metadata": {},
   "source": [
    "Once we selected or filtered our data we want to transform it somehow. The best way to do this is with methods inherited to DataFrames or numpy universal funcs, that transform entire column of data element-wise. Examples would be pandas’ .floordiv() function (from documentation:\n",
    "‘Integer division of dataframe and other, element-wise’) or numpy’s .floor_divide() (doc: ‘Return the largest integer smaller or equal to the division of the inputs.’)."
   ]
  },
  {
   "cell_type": "markdown",
   "id": "fcf3c5fe",
   "metadata": {},
   "source": [
    "If those functions were not available we could write our own and use it with .apply() method."
   ]
  },
  {
   "cell_type": "code",
   "execution_count": 115,
   "id": "83fea4cb",
   "metadata": {},
   "outputs": [
    {
     "data": {
      "text/html": [
       "<div>\n",
       "<style scoped>\n",
       "    .dataframe tbody tr th:only-of-type {\n",
       "        vertical-align: middle;\n",
       "    }\n",
       "\n",
       "    .dataframe tbody tr th {\n",
       "        vertical-align: top;\n",
       "    }\n",
       "\n",
       "    .dataframe thead th {\n",
       "        text-align: right;\n",
       "    }\n",
       "</style>\n",
       "<table border=\"1\" class=\"dataframe\">\n",
       "  <thead>\n",
       "    <tr style=\"text-align: right;\">\n",
       "      <th></th>\n",
       "      <th>ID</th>\n",
       "      <th>PID</th>\n",
       "      <th>Game</th>\n",
       "      <th>Study</th>\n",
       "      <th>Game_group</th>\n",
       "      <th>Condition</th>\n",
       "      <th>Condition_params</th>\n",
       "      <th>Resolution</th>\n",
       "      <th>Framerate</th>\n",
       "      <th>Bitrate</th>\n",
       "      <th>VQ</th>\n",
       "      <th>VF</th>\n",
       "      <th>VU</th>\n",
       "      <th>VD</th>\n",
       "      <th>AC</th>\n",
       "      <th>Age</th>\n",
       "      <th>Gender</th>\n",
       "      <th>Expertise</th>\n",
       "      <th>Monitor</th>\n",
       "    </tr>\n",
       "  </thead>\n",
       "  <tbody>\n",
       "    <tr>\n",
       "      <th>0</th>\n",
       "      <td>2</td>\n",
       "      <td>2</td>\n",
       "      <td>Game1Game1</td>\n",
       "      <td>2</td>\n",
       "      <td>Game1_Game2_Game3Game1_Game2_Game3</td>\n",
       "      <td>2</td>\n",
       "      <td>480_30_300480_30_300</td>\n",
       "      <td>960</td>\n",
       "      <td>60</td>\n",
       "      <td>600</td>\n",
       "      <td>2.8</td>\n",
       "      <td>2.6</td>\n",
       "      <td>3.2</td>\n",
       "      <td>11.4</td>\n",
       "      <td>0</td>\n",
       "      <td>42</td>\n",
       "      <td>MaleMale</td>\n",
       "      <td>8</td>\n",
       "      <td>DesktopDesktop</td>\n",
       "    </tr>\n",
       "    <tr>\n",
       "      <th>1</th>\n",
       "      <td>4</td>\n",
       "      <td>2</td>\n",
       "      <td>Game2Game2</td>\n",
       "      <td>2</td>\n",
       "      <td>Game1_Game2_Game3Game1_Game2_Game3</td>\n",
       "      <td>4</td>\n",
       "      <td>480_30_300480_30_300</td>\n",
       "      <td>960</td>\n",
       "      <td>60</td>\n",
       "      <td>600</td>\n",
       "      <td>2.8</td>\n",
       "      <td>3.2</td>\n",
       "      <td>9.8</td>\n",
       "      <td>11.2</td>\n",
       "      <td>0</td>\n",
       "      <td>42</td>\n",
       "      <td>MaleMale</td>\n",
       "      <td>8</td>\n",
       "      <td>DesktopDesktop</td>\n",
       "    </tr>\n",
       "    <tr>\n",
       "      <th>2</th>\n",
       "      <td>6</td>\n",
       "      <td>2</td>\n",
       "      <td>Game3Game3</td>\n",
       "      <td>2</td>\n",
       "      <td>Game1_Game2_Game3Game1_Game2_Game3</td>\n",
       "      <td>6</td>\n",
       "      <td>480_30_300480_30_300</td>\n",
       "      <td>960</td>\n",
       "      <td>60</td>\n",
       "      <td>600</td>\n",
       "      <td>2.2</td>\n",
       "      <td>3.2</td>\n",
       "      <td>5.2</td>\n",
       "      <td>10.4</td>\n",
       "      <td>0</td>\n",
       "      <td>42</td>\n",
       "      <td>MaleMale</td>\n",
       "      <td>8</td>\n",
       "      <td>DesktopDesktop</td>\n",
       "    </tr>\n",
       "    <tr>\n",
       "      <th>3</th>\n",
       "      <td>8</td>\n",
       "      <td>2</td>\n",
       "      <td>Game2Game2</td>\n",
       "      <td>2</td>\n",
       "      <td>Game1_Game2_Game3Game1_Game2_Game3</td>\n",
       "      <td>8</td>\n",
       "      <td>480_30_1000480_30_1000</td>\n",
       "      <td>960</td>\n",
       "      <td>60</td>\n",
       "      <td>2000</td>\n",
       "      <td>6.4</td>\n",
       "      <td>6.8</td>\n",
       "      <td>9.0</td>\n",
       "      <td>10.8</td>\n",
       "      <td>0</td>\n",
       "      <td>42</td>\n",
       "      <td>MaleMale</td>\n",
       "      <td>8</td>\n",
       "      <td>DesktopDesktop</td>\n",
       "    </tr>\n",
       "    <tr>\n",
       "      <th>4</th>\n",
       "      <td>10</td>\n",
       "      <td>2</td>\n",
       "      <td>Game3Game3</td>\n",
       "      <td>2</td>\n",
       "      <td>Game1_Game2_Game3Game1_Game2_Game3</td>\n",
       "      <td>10</td>\n",
       "      <td>480_30_1000480_30_1000</td>\n",
       "      <td>960</td>\n",
       "      <td>60</td>\n",
       "      <td>2000</td>\n",
       "      <td>6.2</td>\n",
       "      <td>5.6</td>\n",
       "      <td>5.8</td>\n",
       "      <td>11.8</td>\n",
       "      <td>0</td>\n",
       "      <td>42</td>\n",
       "      <td>MaleMale</td>\n",
       "      <td>8</td>\n",
       "      <td>DesktopDesktop</td>\n",
       "    </tr>\n",
       "    <tr>\n",
       "      <th>...</th>\n",
       "      <td>...</td>\n",
       "      <td>...</td>\n",
       "      <td>...</td>\n",
       "      <td>...</td>\n",
       "      <td>...</td>\n",
       "      <td>...</td>\n",
       "      <td>...</td>\n",
       "      <td>...</td>\n",
       "      <td>...</td>\n",
       "      <td>...</td>\n",
       "      <td>...</td>\n",
       "      <td>...</td>\n",
       "      <td>...</td>\n",
       "      <td>...</td>\n",
       "      <td>...</td>\n",
       "      <td>...</td>\n",
       "      <td>...</td>\n",
       "      <td>...</td>\n",
       "      <td>...</td>\n",
       "    </tr>\n",
       "    <tr>\n",
       "      <th>3307</th>\n",
       "      <td>6616</td>\n",
       "      <td>92</td>\n",
       "      <td>Game5Game5</td>\n",
       "      <td>4</td>\n",
       "      <td>Game4_Game5_Game6Game4_Game5_Game6</td>\n",
       "      <td>136</td>\n",
       "      <td>1080_60_60001080_60_6000</td>\n",
       "      <td>2160</td>\n",
       "      <td>120</td>\n",
       "      <td>12000</td>\n",
       "      <td>10.2</td>\n",
       "      <td>9.2</td>\n",
       "      <td>7.4</td>\n",
       "      <td>10.2</td>\n",
       "      <td>2</td>\n",
       "      <td>48</td>\n",
       "      <td>MaleMale</td>\n",
       "      <td>6</td>\n",
       "      <td>largePhonelargePhone</td>\n",
       "    </tr>\n",
       "    <tr>\n",
       "      <th>3308</th>\n",
       "      <td>6618</td>\n",
       "      <td>92</td>\n",
       "      <td>Game6Game6</td>\n",
       "      <td>4</td>\n",
       "      <td>Game4_Game5_Game6Game4_Game5_Game6</td>\n",
       "      <td>138</td>\n",
       "      <td>1080_60_60001080_60_6000</td>\n",
       "      <td>2160</td>\n",
       "      <td>120</td>\n",
       "      <td>12000</td>\n",
       "      <td>9.2</td>\n",
       "      <td>7.2</td>\n",
       "      <td>9.0</td>\n",
       "      <td>10.6</td>\n",
       "      <td>2</td>\n",
       "      <td>48</td>\n",
       "      <td>MaleMale</td>\n",
       "      <td>6</td>\n",
       "      <td>largePhonelargePhone</td>\n",
       "    </tr>\n",
       "    <tr>\n",
       "      <th>3309</th>\n",
       "      <td>6620</td>\n",
       "      <td>92</td>\n",
       "      <td>Game4Game4</td>\n",
       "      <td>4</td>\n",
       "      <td>Game4_Game5_Game6Game4_Game5_Game6</td>\n",
       "      <td>140</td>\n",
       "      <td>1080_60_500001080_60_50000</td>\n",
       "      <td>2160</td>\n",
       "      <td>120</td>\n",
       "      <td>100000</td>\n",
       "      <td>10.6</td>\n",
       "      <td>11.2</td>\n",
       "      <td>10.2</td>\n",
       "      <td>10.8</td>\n",
       "      <td>2</td>\n",
       "      <td>48</td>\n",
       "      <td>MaleMale</td>\n",
       "      <td>6</td>\n",
       "      <td>largePhonelargePhone</td>\n",
       "    </tr>\n",
       "    <tr>\n",
       "      <th>3310</th>\n",
       "      <td>6622</td>\n",
       "      <td>92</td>\n",
       "      <td>Game5Game5</td>\n",
       "      <td>4</td>\n",
       "      <td>Game4_Game5_Game6Game4_Game5_Game6</td>\n",
       "      <td>142</td>\n",
       "      <td>1080_60_500001080_60_50000</td>\n",
       "      <td>2160</td>\n",
       "      <td>120</td>\n",
       "      <td>100000</td>\n",
       "      <td>10.2</td>\n",
       "      <td>10.8</td>\n",
       "      <td>9.6</td>\n",
       "      <td>11.2</td>\n",
       "      <td>2</td>\n",
       "      <td>48</td>\n",
       "      <td>MaleMale</td>\n",
       "      <td>6</td>\n",
       "      <td>largePhonelargePhone</td>\n",
       "    </tr>\n",
       "    <tr>\n",
       "      <th>3311</th>\n",
       "      <td>6624</td>\n",
       "      <td>92</td>\n",
       "      <td>Game6Game6</td>\n",
       "      <td>4</td>\n",
       "      <td>Game4_Game5_Game6Game4_Game5_Game6</td>\n",
       "      <td>144</td>\n",
       "      <td>1080_60_500001080_60_50000</td>\n",
       "      <td>2160</td>\n",
       "      <td>120</td>\n",
       "      <td>100000</td>\n",
       "      <td>11.0</td>\n",
       "      <td>12.0</td>\n",
       "      <td>10.8</td>\n",
       "      <td>11.8</td>\n",
       "      <td>2</td>\n",
       "      <td>48</td>\n",
       "      <td>MaleMale</td>\n",
       "      <td>6</td>\n",
       "      <td>largePhonelargePhone</td>\n",
       "    </tr>\n",
       "  </tbody>\n",
       "</table>\n",
       "<p>3312 rows × 19 columns</p>\n",
       "</div>"
      ],
      "text/plain": [
       "        ID  PID        Game  Study                          Game_group  \\\n",
       "0        2    2  Game1Game1      2  Game1_Game2_Game3Game1_Game2_Game3   \n",
       "1        4    2  Game2Game2      2  Game1_Game2_Game3Game1_Game2_Game3   \n",
       "2        6    2  Game3Game3      2  Game1_Game2_Game3Game1_Game2_Game3   \n",
       "3        8    2  Game2Game2      2  Game1_Game2_Game3Game1_Game2_Game3   \n",
       "4       10    2  Game3Game3      2  Game1_Game2_Game3Game1_Game2_Game3   \n",
       "...    ...  ...         ...    ...                                 ...   \n",
       "3307  6616   92  Game5Game5      4  Game4_Game5_Game6Game4_Game5_Game6   \n",
       "3308  6618   92  Game6Game6      4  Game4_Game5_Game6Game4_Game5_Game6   \n",
       "3309  6620   92  Game4Game4      4  Game4_Game5_Game6Game4_Game5_Game6   \n",
       "3310  6622   92  Game5Game5      4  Game4_Game5_Game6Game4_Game5_Game6   \n",
       "3311  6624   92  Game6Game6      4  Game4_Game5_Game6Game4_Game5_Game6   \n",
       "\n",
       "      Condition            Condition_params  Resolution  Framerate  Bitrate  \\\n",
       "0             2        480_30_300480_30_300         960         60      600   \n",
       "1             4        480_30_300480_30_300         960         60      600   \n",
       "2             6        480_30_300480_30_300         960         60      600   \n",
       "3             8      480_30_1000480_30_1000         960         60     2000   \n",
       "4            10      480_30_1000480_30_1000         960         60     2000   \n",
       "...         ...                         ...         ...        ...      ...   \n",
       "3307        136    1080_60_60001080_60_6000        2160        120    12000   \n",
       "3308        138    1080_60_60001080_60_6000        2160        120    12000   \n",
       "3309        140  1080_60_500001080_60_50000        2160        120   100000   \n",
       "3310        142  1080_60_500001080_60_50000        2160        120   100000   \n",
       "3311        144  1080_60_500001080_60_50000        2160        120   100000   \n",
       "\n",
       "       VQ   VF   VU   VD  AC  Age    Gender  Expertise               Monitor  \n",
       "0     2.8  2.6  3.2 11.4   0   42  MaleMale          8        DesktopDesktop  \n",
       "1     2.8  3.2  9.8 11.2   0   42  MaleMale          8        DesktopDesktop  \n",
       "2     2.2  3.2  5.2 10.4   0   42  MaleMale          8        DesktopDesktop  \n",
       "3     6.4  6.8  9.0 10.8   0   42  MaleMale          8        DesktopDesktop  \n",
       "4     6.2  5.6  5.8 11.8   0   42  MaleMale          8        DesktopDesktop  \n",
       "...   ...  ...  ...  ...  ..  ...       ...        ...                   ...  \n",
       "3307 10.2  9.2  7.4 10.2   2   48  MaleMale          6  largePhonelargePhone  \n",
       "3308  9.2  7.2  9.0 10.6   2   48  MaleMale          6  largePhonelargePhone  \n",
       "3309 10.6 11.2 10.2 10.8   2   48  MaleMale          6  largePhonelargePhone  \n",
       "3310 10.2 10.8  9.6 11.2   2   48  MaleMale          6  largePhonelargePhone  \n",
       "3311 11.0 12.0 10.8 11.8   2   48  MaleMale          6  largePhonelargePhone  \n",
       "\n",
       "[3312 rows x 19 columns]"
      ]
     },
     "execution_count": 115,
     "metadata": {},
     "output_type": "execute_result"
    }
   ],
   "source": [
    "def some_func(x):\n",
    "    return x * 2\n",
    "\n",
    "df.apply(some_func)  # update each entry of a DataFrame without any loops\n",
    "\n",
    "# lambda also works\n",
    "df.apply(lambda n: n*2)  # the same"
   ]
  },
  {
   "cell_type": "markdown",
   "id": "9346b21f",
   "metadata": {},
   "source": [
    "These functions do not return transformations, so we have to store it explicitly:"
   ]
  },
  {
   "cell_type": "code",
   "execution_count": 117,
   "id": "f221dbd7",
   "metadata": {},
   "outputs": [
    {
     "data": {
      "text/html": [
       "<div>\n",
       "<style scoped>\n",
       "    .dataframe tbody tr th:only-of-type {\n",
       "        vertical-align: middle;\n",
       "    }\n",
       "\n",
       "    .dataframe tbody tr th {\n",
       "        vertical-align: top;\n",
       "    }\n",
       "\n",
       "    .dataframe thead th {\n",
       "        text-align: right;\n",
       "    }\n",
       "</style>\n",
       "<table border=\"1\" class=\"dataframe\">\n",
       "  <thead>\n",
       "    <tr style=\"text-align: right;\">\n",
       "      <th></th>\n",
       "      <th>ID</th>\n",
       "      <th>PID</th>\n",
       "      <th>Game</th>\n",
       "      <th>Study</th>\n",
       "      <th>Game_group</th>\n",
       "      <th>Condition</th>\n",
       "      <th>Condition_params</th>\n",
       "      <th>Resolution</th>\n",
       "      <th>Framerate</th>\n",
       "      <th>Bitrate</th>\n",
       "      <th>VQ</th>\n",
       "      <th>VF</th>\n",
       "      <th>VU</th>\n",
       "      <th>VD</th>\n",
       "      <th>AC</th>\n",
       "      <th>Age</th>\n",
       "      <th>Gender</th>\n",
       "      <th>Expertise</th>\n",
       "      <th>Monitor</th>\n",
       "      <th>new_col</th>\n",
       "    </tr>\n",
       "  </thead>\n",
       "  <tbody>\n",
       "    <tr>\n",
       "      <th>0</th>\n",
       "      <td>1</td>\n",
       "      <td>1</td>\n",
       "      <td>Game1</td>\n",
       "      <td>1</td>\n",
       "      <td>Game1_Game2_Game3</td>\n",
       "      <td>1</td>\n",
       "      <td>480_30_300</td>\n",
       "      <td>480</td>\n",
       "      <td>30</td>\n",
       "      <td>300</td>\n",
       "      <td>1.4</td>\n",
       "      <td>1.3</td>\n",
       "      <td>1.6</td>\n",
       "      <td>5.7</td>\n",
       "      <td>0</td>\n",
       "      <td>21</td>\n",
       "      <td>Male</td>\n",
       "      <td>4</td>\n",
       "      <td>Desktop</td>\n",
       "      <td>960</td>\n",
       "    </tr>\n",
       "    <tr>\n",
       "      <th>1</th>\n",
       "      <td>2</td>\n",
       "      <td>1</td>\n",
       "      <td>Game2</td>\n",
       "      <td>1</td>\n",
       "      <td>Game1_Game2_Game3</td>\n",
       "      <td>2</td>\n",
       "      <td>480_30_300</td>\n",
       "      <td>480</td>\n",
       "      <td>30</td>\n",
       "      <td>300</td>\n",
       "      <td>1.4</td>\n",
       "      <td>1.6</td>\n",
       "      <td>4.9</td>\n",
       "      <td>5.6</td>\n",
       "      <td>0</td>\n",
       "      <td>21</td>\n",
       "      <td>Male</td>\n",
       "      <td>4</td>\n",
       "      <td>Desktop</td>\n",
       "      <td>960</td>\n",
       "    </tr>\n",
       "    <tr>\n",
       "      <th>2</th>\n",
       "      <td>3</td>\n",
       "      <td>1</td>\n",
       "      <td>Game3</td>\n",
       "      <td>1</td>\n",
       "      <td>Game1_Game2_Game3</td>\n",
       "      <td>3</td>\n",
       "      <td>480_30_300</td>\n",
       "      <td>480</td>\n",
       "      <td>30</td>\n",
       "      <td>300</td>\n",
       "      <td>1.1</td>\n",
       "      <td>1.6</td>\n",
       "      <td>2.6</td>\n",
       "      <td>5.2</td>\n",
       "      <td>0</td>\n",
       "      <td>21</td>\n",
       "      <td>Male</td>\n",
       "      <td>4</td>\n",
       "      <td>Desktop</td>\n",
       "      <td>960</td>\n",
       "    </tr>\n",
       "    <tr>\n",
       "      <th>3</th>\n",
       "      <td>4</td>\n",
       "      <td>1</td>\n",
       "      <td>Game2</td>\n",
       "      <td>1</td>\n",
       "      <td>Game1_Game2_Game3</td>\n",
       "      <td>4</td>\n",
       "      <td>480_30_1000</td>\n",
       "      <td>480</td>\n",
       "      <td>30</td>\n",
       "      <td>1000</td>\n",
       "      <td>3.2</td>\n",
       "      <td>3.4</td>\n",
       "      <td>4.5</td>\n",
       "      <td>5.4</td>\n",
       "      <td>0</td>\n",
       "      <td>21</td>\n",
       "      <td>Male</td>\n",
       "      <td>4</td>\n",
       "      <td>Desktop</td>\n",
       "      <td>960</td>\n",
       "    </tr>\n",
       "    <tr>\n",
       "      <th>4</th>\n",
       "      <td>5</td>\n",
       "      <td>1</td>\n",
       "      <td>Game3</td>\n",
       "      <td>1</td>\n",
       "      <td>Game1_Game2_Game3</td>\n",
       "      <td>5</td>\n",
       "      <td>480_30_1000</td>\n",
       "      <td>480</td>\n",
       "      <td>30</td>\n",
       "      <td>1000</td>\n",
       "      <td>3.1</td>\n",
       "      <td>2.8</td>\n",
       "      <td>2.9</td>\n",
       "      <td>5.9</td>\n",
       "      <td>0</td>\n",
       "      <td>21</td>\n",
       "      <td>Male</td>\n",
       "      <td>4</td>\n",
       "      <td>Desktop</td>\n",
       "      <td>960</td>\n",
       "    </tr>\n",
       "  </tbody>\n",
       "</table>\n",
       "</div>"
      ],
      "text/plain": [
       "   ID  PID   Game  Study         Game_group  Condition Condition_params  \\\n",
       "0   1    1  Game1      1  Game1_Game2_Game3          1       480_30_300   \n",
       "1   2    1  Game2      1  Game1_Game2_Game3          2       480_30_300   \n",
       "2   3    1  Game3      1  Game1_Game2_Game3          3       480_30_300   \n",
       "3   4    1  Game2      1  Game1_Game2_Game3          4      480_30_1000   \n",
       "4   5    1  Game3      1  Game1_Game2_Game3          5      480_30_1000   \n",
       "\n",
       "   Resolution  Framerate  Bitrate  VQ  VF  VU  VD  AC  Age Gender  Expertise  \\\n",
       "0         480         30      300 1.4 1.3 1.6 5.7   0   21   Male          4   \n",
       "1         480         30      300 1.4 1.6 4.9 5.6   0   21   Male          4   \n",
       "2         480         30      300 1.1 1.6 2.6 5.2   0   21   Male          4   \n",
       "3         480         30     1000 3.2 3.4 4.5 5.4   0   21   Male          4   \n",
       "4         480         30     1000 3.1 2.8 2.9 5.9   0   21   Male          4   \n",
       "\n",
       "   Monitor  new_col  \n",
       "0  Desktop      960  \n",
       "1  Desktop      960  \n",
       "2  Desktop      960  \n",
       "3  Desktop      960  \n",
       "4  Desktop      960  "
      ]
     },
     "execution_count": 117,
     "metadata": {},
     "output_type": "execute_result"
    }
   ],
   "source": [
    "df['new_col'] = df['Resolution'].apply(lambda n: n*2)\n",
    "df.head()"
   ]
  },
  {
   "cell_type": "markdown",
   "id": "37c31fde",
   "metadata": {},
   "source": [
    "If index is a string it has a .str accessor that allows us to modify entire index at once:"
   ]
  },
  {
   "cell_type": "code",
   "execution_count": 123,
   "id": "0a2a991f",
   "metadata": {},
   "outputs": [
    {
     "data": {
      "text/plain": [
       "'RANGEINDEX(START=0, STOP=3312, STEP=1)'"
      ]
     },
     "execution_count": 123,
     "metadata": {},
     "output_type": "execute_result"
    }
   ],
   "source": [
    "str(df.index).upper()"
   ]
  },
  {
   "cell_type": "markdown",
   "id": "f0e43e93",
   "metadata": {},
   "source": [
    "Arithmetic operations on Series and DataFrames work directly. The expression below will create a new column where each value with index n is a sum of values with index n from ‘col3’ and ‘col7’."
   ]
  },
  {
   "cell_type": "code",
   "execution_count": 128,
   "id": "634388a9",
   "metadata": {},
   "outputs": [
    {
     "data": {
      "text/html": [
       "<div>\n",
       "<style scoped>\n",
       "    .dataframe tbody tr th:only-of-type {\n",
       "        vertical-align: middle;\n",
       "    }\n",
       "\n",
       "    .dataframe tbody tr th {\n",
       "        vertical-align: top;\n",
       "    }\n",
       "\n",
       "    .dataframe thead th {\n",
       "        text-align: right;\n",
       "    }\n",
       "</style>\n",
       "<table border=\"1\" class=\"dataframe\">\n",
       "  <thead>\n",
       "    <tr style=\"text-align: right;\">\n",
       "      <th></th>\n",
       "      <th>ID</th>\n",
       "      <th>PID</th>\n",
       "      <th>Game</th>\n",
       "      <th>Study</th>\n",
       "      <th>Game_group</th>\n",
       "      <th>Condition</th>\n",
       "      <th>Condition_params</th>\n",
       "      <th>Resolution</th>\n",
       "      <th>Framerate</th>\n",
       "      <th>Bitrate</th>\n",
       "      <th>...</th>\n",
       "      <th>VF</th>\n",
       "      <th>VU</th>\n",
       "      <th>VD</th>\n",
       "      <th>AC</th>\n",
       "      <th>Age</th>\n",
       "      <th>Gender</th>\n",
       "      <th>Expertise</th>\n",
       "      <th>Monitor</th>\n",
       "      <th>new_col</th>\n",
       "      <th>VQ_+_Vf</th>\n",
       "    </tr>\n",
       "  </thead>\n",
       "  <tbody>\n",
       "    <tr>\n",
       "      <th>0</th>\n",
       "      <td>1</td>\n",
       "      <td>1</td>\n",
       "      <td>Game1</td>\n",
       "      <td>1</td>\n",
       "      <td>Game1_Game2_Game3</td>\n",
       "      <td>1</td>\n",
       "      <td>480_30_300</td>\n",
       "      <td>480</td>\n",
       "      <td>30</td>\n",
       "      <td>300</td>\n",
       "      <td>...</td>\n",
       "      <td>1.3</td>\n",
       "      <td>1.6</td>\n",
       "      <td>5.7</td>\n",
       "      <td>0</td>\n",
       "      <td>21</td>\n",
       "      <td>Male</td>\n",
       "      <td>4</td>\n",
       "      <td>Desktop</td>\n",
       "      <td>960</td>\n",
       "      <td>2.7</td>\n",
       "    </tr>\n",
       "    <tr>\n",
       "      <th>1</th>\n",
       "      <td>2</td>\n",
       "      <td>1</td>\n",
       "      <td>Game2</td>\n",
       "      <td>1</td>\n",
       "      <td>Game1_Game2_Game3</td>\n",
       "      <td>2</td>\n",
       "      <td>480_30_300</td>\n",
       "      <td>480</td>\n",
       "      <td>30</td>\n",
       "      <td>300</td>\n",
       "      <td>...</td>\n",
       "      <td>1.6</td>\n",
       "      <td>4.9</td>\n",
       "      <td>5.6</td>\n",
       "      <td>0</td>\n",
       "      <td>21</td>\n",
       "      <td>Male</td>\n",
       "      <td>4</td>\n",
       "      <td>Desktop</td>\n",
       "      <td>960</td>\n",
       "      <td>3.0</td>\n",
       "    </tr>\n",
       "    <tr>\n",
       "      <th>2</th>\n",
       "      <td>3</td>\n",
       "      <td>1</td>\n",
       "      <td>Game3</td>\n",
       "      <td>1</td>\n",
       "      <td>Game1_Game2_Game3</td>\n",
       "      <td>3</td>\n",
       "      <td>480_30_300</td>\n",
       "      <td>480</td>\n",
       "      <td>30</td>\n",
       "      <td>300</td>\n",
       "      <td>...</td>\n",
       "      <td>1.6</td>\n",
       "      <td>2.6</td>\n",
       "      <td>5.2</td>\n",
       "      <td>0</td>\n",
       "      <td>21</td>\n",
       "      <td>Male</td>\n",
       "      <td>4</td>\n",
       "      <td>Desktop</td>\n",
       "      <td>960</td>\n",
       "      <td>2.7</td>\n",
       "    </tr>\n",
       "    <tr>\n",
       "      <th>3</th>\n",
       "      <td>4</td>\n",
       "      <td>1</td>\n",
       "      <td>Game2</td>\n",
       "      <td>1</td>\n",
       "      <td>Game1_Game2_Game3</td>\n",
       "      <td>4</td>\n",
       "      <td>480_30_1000</td>\n",
       "      <td>480</td>\n",
       "      <td>30</td>\n",
       "      <td>1000</td>\n",
       "      <td>...</td>\n",
       "      <td>3.4</td>\n",
       "      <td>4.5</td>\n",
       "      <td>5.4</td>\n",
       "      <td>0</td>\n",
       "      <td>21</td>\n",
       "      <td>Male</td>\n",
       "      <td>4</td>\n",
       "      <td>Desktop</td>\n",
       "      <td>960</td>\n",
       "      <td>6.6</td>\n",
       "    </tr>\n",
       "    <tr>\n",
       "      <th>4</th>\n",
       "      <td>5</td>\n",
       "      <td>1</td>\n",
       "      <td>Game3</td>\n",
       "      <td>1</td>\n",
       "      <td>Game1_Game2_Game3</td>\n",
       "      <td>5</td>\n",
       "      <td>480_30_1000</td>\n",
       "      <td>480</td>\n",
       "      <td>30</td>\n",
       "      <td>1000</td>\n",
       "      <td>...</td>\n",
       "      <td>2.8</td>\n",
       "      <td>2.9</td>\n",
       "      <td>5.9</td>\n",
       "      <td>0</td>\n",
       "      <td>21</td>\n",
       "      <td>Male</td>\n",
       "      <td>4</td>\n",
       "      <td>Desktop</td>\n",
       "      <td>960</td>\n",
       "      <td>5.9</td>\n",
       "    </tr>\n",
       "  </tbody>\n",
       "</table>\n",
       "<p>5 rows × 21 columns</p>\n",
       "</div>"
      ],
      "text/plain": [
       "   ID  PID   Game  Study         Game_group  Condition Condition_params  \\\n",
       "0   1    1  Game1      1  Game1_Game2_Game3          1       480_30_300   \n",
       "1   2    1  Game2      1  Game1_Game2_Game3          2       480_30_300   \n",
       "2   3    1  Game3      1  Game1_Game2_Game3          3       480_30_300   \n",
       "3   4    1  Game2      1  Game1_Game2_Game3          4      480_30_1000   \n",
       "4   5    1  Game3      1  Game1_Game2_Game3          5      480_30_1000   \n",
       "\n",
       "   Resolution  Framerate  Bitrate  ...  VF  VU  VD  AC  Age  Gender Expertise  \\\n",
       "0         480         30      300  ... 1.3 1.6 5.7   0   21    Male         4   \n",
       "1         480         30      300  ... 1.6 4.9 5.6   0   21    Male         4   \n",
       "2         480         30      300  ... 1.6 2.6 5.2   0   21    Male         4   \n",
       "3         480         30     1000  ... 3.4 4.5 5.4   0   21    Male         4   \n",
       "4         480         30     1000  ... 2.8 2.9 5.9   0   21    Male         4   \n",
       "\n",
       "   Monitor new_col  VQ_+_Vf  \n",
       "0  Desktop     960      2.7  \n",
       "1  Desktop     960      3.0  \n",
       "2  Desktop     960      2.7  \n",
       "3  Desktop     960      6.6  \n",
       "4  Desktop     960      5.9  \n",
       "\n",
       "[5 rows x 21 columns]"
      ]
     },
     "execution_count": 128,
     "metadata": {},
     "output_type": "execute_result"
    }
   ],
   "source": [
    "df['VQ_+_Vf'] = df['VQ'] + df['VF'] \n",
    "df.head()"
   ]
  },
  {
   "cell_type": "markdown",
   "id": "bbfc79e2",
   "metadata": {},
   "source": [
    "# Missing Data and it's Handling"
   ]
  },
  {
   "cell_type": "code",
   "execution_count": 131,
   "id": "76cc285e",
   "metadata": {},
   "outputs": [
    {
     "data": {
      "text/plain": [
       "ID                  0\n",
       "PID                 0\n",
       "Game                0\n",
       "Study               0\n",
       "Game_group          0\n",
       "Condition           0\n",
       "Condition_params    0\n",
       "Resolution          0\n",
       "Framerate           0\n",
       "Bitrate             0\n",
       "VQ                  0\n",
       "VF                  0\n",
       "VU                  0\n",
       "VD                  0\n",
       "AC                  0\n",
       "Age                 0\n",
       "Gender              0\n",
       "Expertise           0\n",
       "Monitor             0\n",
       "new_col             0\n",
       "VQ_+_Vf             0\n",
       "dtype: int64"
      ]
     },
     "execution_count": 131,
     "metadata": {},
     "output_type": "execute_result"
    }
   ],
   "source": [
    "df.isnull().sum()"
   ]
  },
  {
   "cell_type": "markdown",
   "id": "fa623b86",
   "metadata": {},
   "source": [
    "We don't have missing values in our dataset so we'll use another for this purpose."
   ]
  },
  {
   "cell_type": "markdown",
   "id": "d45fa959",
   "metadata": {},
   "source": [
    "### Missing Data & it's Handling "
   ]
  },
  {
   "cell_type": "code",
   "execution_count": null,
   "id": "27f6d747",
   "metadata": {},
   "outputs": [],
   "source": [
    "# Pre-requisite\n",
    "# ---\n",
    "# Importing pandas library\n",
    "# ---\n",
    "# OUR CODE GOES BELOW\n",
    "# \n",
    "import pandas as pd"
   ]
  },
  {
   "cell_type": "code",
   "execution_count": 132,
   "id": "17fc05ef",
   "metadata": {},
   "outputs": [
    {
     "data": {
      "text/html": [
       "<div>\n",
       "<style scoped>\n",
       "    .dataframe tbody tr th:only-of-type {\n",
       "        vertical-align: middle;\n",
       "    }\n",
       "\n",
       "    .dataframe tbody tr th {\n",
       "        vertical-align: top;\n",
       "    }\n",
       "\n",
       "    .dataframe thead th {\n",
       "        text-align: right;\n",
       "    }\n",
       "</style>\n",
       "<table border=\"1\" class=\"dataframe\">\n",
       "  <thead>\n",
       "    <tr style=\"text-align: right;\">\n",
       "      <th></th>\n",
       "      <th>NAME</th>\n",
       "      <th>CITY</th>\n",
       "      <th>COUNTRY</th>\n",
       "      <th>HEIGHT</th>\n",
       "      <th>WEIGHT</th>\n",
       "      <th>ACCOUNT A</th>\n",
       "      <th>ACCOUNT B</th>\n",
       "      <th>TOTAL ACCOUNT</th>\n",
       "    </tr>\n",
       "  </thead>\n",
       "  <tbody>\n",
       "    <tr>\n",
       "      <th>0</th>\n",
       "      <td>Adi Dako</td>\n",
       "      <td>LISBON</td>\n",
       "      <td>PORTUGAL</td>\n",
       "      <td>56</td>\n",
       "      <td>132.0</td>\n",
       "      <td>2390.0</td>\n",
       "      <td>4340</td>\n",
       "      <td>6730</td>\n",
       "    </tr>\n",
       "    <tr>\n",
       "      <th>1</th>\n",
       "      <td>John Paul</td>\n",
       "      <td>LONDON</td>\n",
       "      <td>UNITED KINGDOM</td>\n",
       "      <td>62</td>\n",
       "      <td>165.0</td>\n",
       "      <td>4500.0</td>\n",
       "      <td>34334</td>\n",
       "      <td>38834</td>\n",
       "    </tr>\n",
       "    <tr>\n",
       "      <th>2</th>\n",
       "      <td>Cindy Jules</td>\n",
       "      <td>Stockholm</td>\n",
       "      <td>Sweden</td>\n",
       "      <td>48</td>\n",
       "      <td>117.0</td>\n",
       "      <td>NaN</td>\n",
       "      <td>5504</td>\n",
       "      <td>8949</td>\n",
       "    </tr>\n",
       "    <tr>\n",
       "      <th>3</th>\n",
       "      <td>Arthur Kegels</td>\n",
       "      <td>BRUSSELS</td>\n",
       "      <td>BELGIUM</td>\n",
       "      <td>59</td>\n",
       "      <td>121.0</td>\n",
       "      <td>4344.0</td>\n",
       "      <td>8999</td>\n",
       "      <td>300</td>\n",
       "    </tr>\n",
       "    <tr>\n",
       "      <th>4</th>\n",
       "      <td>Freya Bismark</td>\n",
       "      <td>Berlin</td>\n",
       "      <td>GERMANYY</td>\n",
       "      <td>53</td>\n",
       "      <td>126.0</td>\n",
       "      <td>7000.0</td>\n",
       "      <td>19000</td>\n",
       "      <td>26000</td>\n",
       "    </tr>\n",
       "  </tbody>\n",
       "</table>\n",
       "</div>"
      ],
      "text/plain": [
       "                NAME        CITY         COUNTRY  HEIGHT  WEIGHT  ACCOUNT A  \\\n",
       "0          Adi Dako   LISBON       PORTUGAL           56   132.0     2390.0   \n",
       "1          John Paul   LONDON     UNITED KINGDOM      62   165.0     4500.0   \n",
       "2        Cindy Jules   Stockholm          Sweden      48   117.0        NaN   \n",
       "3      Arthur Kegels    BRUSSELS         BELGIUM      59   121.0     4344.0   \n",
       "4      Freya Bismark      Berlin        GERMANYY      53   126.0     7000.0   \n",
       "\n",
       "   ACCOUNT B  TOTAL ACCOUNT  \n",
       "0       4340           6730  \n",
       "1      34334          38834  \n",
       "2       5504           8949  \n",
       "3       8999            300  \n",
       "4      19000          26000  "
      ]
     },
     "execution_count": 132,
     "metadata": {},
     "output_type": "execute_result"
    }
   ],
   "source": [
    "# --- \n",
    "# Finding records with missing data\n",
    "# ---\n",
    "# Dataset url = http://bit.ly/SampleDataset\n",
    "# ---\n",
    "# OUR CODE GOES BELOW\n",
    "# \n",
    "\n",
    "# Loading our dataset\n",
    "# ---\n",
    "# \n",
    "df = pd.read_csv('http://bit.ly/SampleDataset') \n",
    "\n",
    "# Previewing our dataset\n",
    "# ---\n",
    "# \n",
    "df.head()"
   ]
  },
  {
   "cell_type": "code",
   "execution_count": 135,
   "id": "5d07dbaf",
   "metadata": {},
   "outputs": [
    {
     "data": {
      "text/html": [
       "<div>\n",
       "<style scoped>\n",
       "    .dataframe tbody tr th:only-of-type {\n",
       "        vertical-align: middle;\n",
       "    }\n",
       "\n",
       "    .dataframe tbody tr th {\n",
       "        vertical-align: top;\n",
       "    }\n",
       "\n",
       "    .dataframe thead th {\n",
       "        text-align: right;\n",
       "    }\n",
       "</style>\n",
       "<table border=\"1\" class=\"dataframe\">\n",
       "  <thead>\n",
       "    <tr style=\"text-align: right;\">\n",
       "      <th></th>\n",
       "      <th>NAME</th>\n",
       "      <th>CITY</th>\n",
       "      <th>COUNTRY</th>\n",
       "      <th>HEIGHT</th>\n",
       "      <th>WEIGHT</th>\n",
       "      <th>ACCOUNT A</th>\n",
       "      <th>ACCOUNT B</th>\n",
       "      <th>TOTAL ACCOUNT</th>\n",
       "    </tr>\n",
       "  </thead>\n",
       "  <tbody>\n",
       "    <tr>\n",
       "      <th>0</th>\n",
       "      <td>False</td>\n",
       "      <td>False</td>\n",
       "      <td>False</td>\n",
       "      <td>False</td>\n",
       "      <td>False</td>\n",
       "      <td>False</td>\n",
       "      <td>False</td>\n",
       "      <td>False</td>\n",
       "    </tr>\n",
       "    <tr>\n",
       "      <th>1</th>\n",
       "      <td>False</td>\n",
       "      <td>False</td>\n",
       "      <td>False</td>\n",
       "      <td>False</td>\n",
       "      <td>False</td>\n",
       "      <td>False</td>\n",
       "      <td>False</td>\n",
       "      <td>False</td>\n",
       "    </tr>\n",
       "    <tr>\n",
       "      <th>2</th>\n",
       "      <td>False</td>\n",
       "      <td>False</td>\n",
       "      <td>False</td>\n",
       "      <td>False</td>\n",
       "      <td>False</td>\n",
       "      <td>True</td>\n",
       "      <td>False</td>\n",
       "      <td>False</td>\n",
       "    </tr>\n",
       "    <tr>\n",
       "      <th>3</th>\n",
       "      <td>False</td>\n",
       "      <td>False</td>\n",
       "      <td>False</td>\n",
       "      <td>False</td>\n",
       "      <td>False</td>\n",
       "      <td>False</td>\n",
       "      <td>False</td>\n",
       "      <td>False</td>\n",
       "    </tr>\n",
       "    <tr>\n",
       "      <th>4</th>\n",
       "      <td>False</td>\n",
       "      <td>False</td>\n",
       "      <td>False</td>\n",
       "      <td>False</td>\n",
       "      <td>False</td>\n",
       "      <td>False</td>\n",
       "      <td>False</td>\n",
       "      <td>False</td>\n",
       "    </tr>\n",
       "    <tr>\n",
       "      <th>5</th>\n",
       "      <td>False</td>\n",
       "      <td>False</td>\n",
       "      <td>False</td>\n",
       "      <td>False</td>\n",
       "      <td>False</td>\n",
       "      <td>False</td>\n",
       "      <td>False</td>\n",
       "      <td>False</td>\n",
       "    </tr>\n",
       "    <tr>\n",
       "      <th>6</th>\n",
       "      <td>False</td>\n",
       "      <td>False</td>\n",
       "      <td>False</td>\n",
       "      <td>False</td>\n",
       "      <td>False</td>\n",
       "      <td>False</td>\n",
       "      <td>False</td>\n",
       "      <td>False</td>\n",
       "    </tr>\n",
       "    <tr>\n",
       "      <th>7</th>\n",
       "      <td>False</td>\n",
       "      <td>False</td>\n",
       "      <td>False</td>\n",
       "      <td>False</td>\n",
       "      <td>True</td>\n",
       "      <td>False</td>\n",
       "      <td>False</td>\n",
       "      <td>False</td>\n",
       "    </tr>\n",
       "  </tbody>\n",
       "</table>\n",
       "</div>"
      ],
      "text/plain": [
       "    NAME   CITY  COUNTRY  HEIGHT  WEIGHT  ACCOUNT A  ACCOUNT B  TOTAL ACCOUNT\n",
       "0  False  False    False   False   False      False      False          False\n",
       "1  False  False    False   False   False      False      False          False\n",
       "2  False  False    False   False   False       True      False          False\n",
       "3  False  False    False   False   False      False      False          False\n",
       "4  False  False    False   False   False      False      False          False\n",
       "5  False  False    False   False   False      False      False          False\n",
       "6  False  False    False   False   False      False      False          False\n",
       "7  False  False    False   False    True      False      False          False"
      ]
     },
     "execution_count": 135,
     "metadata": {},
     "output_type": "execute_result"
    }
   ],
   "source": [
    "###### We can check if there is any missing values in the entire dataframe as shown\n",
    "# Let's uncomment the following line\n",
    "# NB: This method may not be the most convenient. Why?\n",
    "# ---\n",
    "# \n",
    "df.isnull()"
   ]
  },
  {
   "cell_type": "code",
   "execution_count": 136,
   "id": "7093fd80",
   "metadata": {},
   "outputs": [
    {
     "data": {
      "text/plain": [
       "NAME             False\n",
       "CITY             False\n",
       "COUNTRY          False\n",
       "HEIGHT           False\n",
       "WEIGHT            True\n",
       "ACCOUNT A         True\n",
       "ACCOUNT B        False\n",
       "TOTAL ACCOUNT    False\n",
       "dtype: bool"
      ]
     },
     "execution_count": 136,
     "metadata": {},
     "output_type": "execute_result"
    }
   ],
   "source": [
    "# We can also check for missing values in each column \n",
    "# NB: This method may not be the most convenient. Why?\n",
    "# Let's uncomment the following line\n",
    "# ---\n",
    "# \n",
    "df.isnull().any()"
   ]
  },
  {
   "cell_type": "code",
   "execution_count": 137,
   "id": "862850af",
   "metadata": {},
   "outputs": [
    {
     "data": {
      "text/plain": [
       "NAME             0\n",
       "CITY             0\n",
       "COUNTRY          0\n",
       "HEIGHT           0\n",
       "WEIGHT           1\n",
       "ACCOUNT A        1\n",
       "ACCOUNT B        0\n",
       "TOTAL ACCOUNT    0\n",
       "dtype: int64"
      ]
     },
     "execution_count": 137,
     "metadata": {},
     "output_type": "execute_result"
    }
   ],
   "source": [
    "# We can check how many missing values there are across each variable/column by\n",
    "# Let's uncomment the following line\n",
    "# ---\n",
    "# \n",
    "df.isnull().sum()"
   ]
  },
  {
   "cell_type": "code",
   "execution_count": 138,
   "id": "856c05f4",
   "metadata": {},
   "outputs": [
    {
     "data": {
      "text/plain": [
       "True"
      ]
     },
     "execution_count": 138,
     "metadata": {},
     "output_type": "execute_result"
    }
   ],
   "source": [
    "# We can also check to see if we have any missing values in the dataframe by\n",
    "# Let's uncomment the following line\n",
    "# ---\n",
    "# \n",
    "df.isnull().values.any()"
   ]
  },
  {
   "cell_type": "code",
   "execution_count": 139,
   "id": "e0787fc2",
   "metadata": {},
   "outputs": [
    {
     "data": {
      "text/plain": [
       "2"
      ]
     },
     "execution_count": 139,
     "metadata": {},
     "output_type": "execute_result"
    }
   ],
   "source": [
    "# Lastly, We can also get a total count of missing values by\n",
    "# Let's uncomment the following line\n",
    "#\n",
    "# ---\n",
    "df.isnull().sum().sum()"
   ]
  },
  {
   "cell_type": "code",
   "execution_count": 140,
   "id": "714f97f5",
   "metadata": {},
   "outputs": [
    {
     "data": {
      "text/html": [
       "<div>\n",
       "<style scoped>\n",
       "    .dataframe tbody tr th:only-of-type {\n",
       "        vertical-align: middle;\n",
       "    }\n",
       "\n",
       "    .dataframe tbody tr th {\n",
       "        vertical-align: top;\n",
       "    }\n",
       "\n",
       "    .dataframe thead th {\n",
       "        text-align: right;\n",
       "    }\n",
       "</style>\n",
       "<table border=\"1\" class=\"dataframe\">\n",
       "  <thead>\n",
       "    <tr style=\"text-align: right;\">\n",
       "      <th></th>\n",
       "      <th>NAME</th>\n",
       "      <th>CITY</th>\n",
       "      <th>COUNTRY</th>\n",
       "      <th>HEIGHT</th>\n",
       "      <th>WEIGHT</th>\n",
       "      <th>ACCOUNT A</th>\n",
       "      <th>ACCOUNT B</th>\n",
       "      <th>TOTAL ACCOUNT</th>\n",
       "    </tr>\n",
       "  </thead>\n",
       "  <tbody>\n",
       "    <tr>\n",
       "      <th>0</th>\n",
       "      <td>Adi Dako</td>\n",
       "      <td>LISBON</td>\n",
       "      <td>PORTUGAL</td>\n",
       "      <td>56</td>\n",
       "      <td>132.0</td>\n",
       "      <td>2390.0</td>\n",
       "      <td>4340</td>\n",
       "      <td>6730</td>\n",
       "    </tr>\n",
       "    <tr>\n",
       "      <th>1</th>\n",
       "      <td>John Paul</td>\n",
       "      <td>LONDON</td>\n",
       "      <td>UNITED KINGDOM</td>\n",
       "      <td>62</td>\n",
       "      <td>165.0</td>\n",
       "      <td>4500.0</td>\n",
       "      <td>34334</td>\n",
       "      <td>38834</td>\n",
       "    </tr>\n",
       "    <tr>\n",
       "      <th>2</th>\n",
       "      <td>Cindy Jules</td>\n",
       "      <td>Stockholm</td>\n",
       "      <td>Sweden</td>\n",
       "      <td>48</td>\n",
       "      <td>117.0</td>\n",
       "      <td>NaN</td>\n",
       "      <td>5504</td>\n",
       "      <td>8949</td>\n",
       "    </tr>\n",
       "    <tr>\n",
       "      <th>3</th>\n",
       "      <td>Arthur Kegels</td>\n",
       "      <td>BRUSSELS</td>\n",
       "      <td>BELGIUM</td>\n",
       "      <td>59</td>\n",
       "      <td>121.0</td>\n",
       "      <td>4344.0</td>\n",
       "      <td>8999</td>\n",
       "      <td>300</td>\n",
       "    </tr>\n",
       "    <tr>\n",
       "      <th>4</th>\n",
       "      <td>Freya Bismark</td>\n",
       "      <td>Berlin</td>\n",
       "      <td>GERMANYY</td>\n",
       "      <td>53</td>\n",
       "      <td>126.0</td>\n",
       "      <td>7000.0</td>\n",
       "      <td>19000</td>\n",
       "      <td>26000</td>\n",
       "    </tr>\n",
       "    <tr>\n",
       "      <th>5</th>\n",
       "      <td>Rena Filip</td>\n",
       "      <td>Brasilia</td>\n",
       "      <td>BRAZIL</td>\n",
       "      <td>50</td>\n",
       "      <td>167.0</td>\n",
       "      <td>4999.0</td>\n",
       "      <td>3999</td>\n",
       "      <td>3450</td>\n",
       "    </tr>\n",
       "    <tr>\n",
       "      <th>6</th>\n",
       "      <td>Cindy Jules</td>\n",
       "      <td>Stockholm</td>\n",
       "      <td>Sweden</td>\n",
       "      <td>48</td>\n",
       "      <td>117.0</td>\n",
       "      <td>3445.0</td>\n",
       "      <td>5504</td>\n",
       "      <td>8949</td>\n",
       "    </tr>\n",
       "    <tr>\n",
       "      <th>7</th>\n",
       "      <td>John Paul</td>\n",
       "      <td>LONDON</td>\n",
       "      <td>UNITED KINGDOM</td>\n",
       "      <td>62</td>\n",
       "      <td>NaN</td>\n",
       "      <td>4500.0</td>\n",
       "      <td>2300</td>\n",
       "      <td>6800</td>\n",
       "    </tr>\n",
       "  </tbody>\n",
       "</table>\n",
       "</div>"
      ],
      "text/plain": [
       "                NAME               CITY         COUNTRY  HEIGHT  WEIGHT  \\\n",
       "0          Adi Dako          LISBON       PORTUGAL           56   132.0   \n",
       "1          John Paul          LONDON     UNITED KINGDOM      62   165.0   \n",
       "2        Cindy Jules          Stockholm          Sweden      48   117.0   \n",
       "3      Arthur Kegels           BRUSSELS         BELGIUM      59   121.0   \n",
       "4      Freya Bismark             Berlin        GERMANYY      53   126.0   \n",
       "5         Rena Filip       Brasilia              BRAZIL      50   167.0   \n",
       "6        Cindy Jules          Stockholm          Sweden      48   117.0   \n",
       "7          John Paul          LONDON     UNITED KINGDOM      62     NaN   \n",
       "\n",
       "   ACCOUNT A  ACCOUNT B  TOTAL ACCOUNT  \n",
       "0     2390.0       4340           6730  \n",
       "1     4500.0      34334          38834  \n",
       "2        NaN       5504           8949  \n",
       "3     4344.0       8999            300  \n",
       "4     7000.0      19000          26000  \n",
       "5     4999.0       3999           3450  \n",
       "6     3445.0       5504           8949  \n",
       "7     4500.0       2300           6800  "
      ]
     },
     "execution_count": 140,
     "metadata": {},
     "output_type": "execute_result"
    }
   ],
   "source": [
    "# Dealing with the missing data\n",
    "# ---\n",
    "# \n",
    "\n",
    "# We can drop rows where all cells in that row is NA\n",
    "# Let's uncomment the following line\n",
    "# NB: We don't have these rows in our dataset \n",
    "# ---\n",
    "#\n",
    "df_cleaned = df.dropna(how='all')\n",
    "df_cleaned"
   ]
  },
  {
   "cell_type": "code",
   "execution_count": 141,
   "id": "c8b382a1",
   "metadata": {},
   "outputs": [
    {
     "data": {
      "text/html": [
       "<div>\n",
       "<style scoped>\n",
       "    .dataframe tbody tr th:only-of-type {\n",
       "        vertical-align: middle;\n",
       "    }\n",
       "\n",
       "    .dataframe tbody tr th {\n",
       "        vertical-align: top;\n",
       "    }\n",
       "\n",
       "    .dataframe thead th {\n",
       "        text-align: right;\n",
       "    }\n",
       "</style>\n",
       "<table border=\"1\" class=\"dataframe\">\n",
       "  <thead>\n",
       "    <tr style=\"text-align: right;\">\n",
       "      <th></th>\n",
       "      <th>NAME</th>\n",
       "      <th>CITY</th>\n",
       "      <th>COUNTRY</th>\n",
       "      <th>HEIGHT</th>\n",
       "      <th>WEIGHT</th>\n",
       "      <th>ACCOUNT A</th>\n",
       "      <th>ACCOUNT B</th>\n",
       "      <th>TOTAL ACCOUNT</th>\n",
       "    </tr>\n",
       "  </thead>\n",
       "  <tbody>\n",
       "    <tr>\n",
       "      <th>0</th>\n",
       "      <td>Adi Dako</td>\n",
       "      <td>LISBON</td>\n",
       "      <td>PORTUGAL</td>\n",
       "      <td>56</td>\n",
       "      <td>132.0</td>\n",
       "      <td>2390.0</td>\n",
       "      <td>4340</td>\n",
       "      <td>6730</td>\n",
       "    </tr>\n",
       "    <tr>\n",
       "      <th>1</th>\n",
       "      <td>John Paul</td>\n",
       "      <td>LONDON</td>\n",
       "      <td>UNITED KINGDOM</td>\n",
       "      <td>62</td>\n",
       "      <td>165.0</td>\n",
       "      <td>4500.0</td>\n",
       "      <td>34334</td>\n",
       "      <td>38834</td>\n",
       "    </tr>\n",
       "    <tr>\n",
       "      <th>3</th>\n",
       "      <td>Arthur Kegels</td>\n",
       "      <td>BRUSSELS</td>\n",
       "      <td>BELGIUM</td>\n",
       "      <td>59</td>\n",
       "      <td>121.0</td>\n",
       "      <td>4344.0</td>\n",
       "      <td>8999</td>\n",
       "      <td>300</td>\n",
       "    </tr>\n",
       "    <tr>\n",
       "      <th>4</th>\n",
       "      <td>Freya Bismark</td>\n",
       "      <td>Berlin</td>\n",
       "      <td>GERMANYY</td>\n",
       "      <td>53</td>\n",
       "      <td>126.0</td>\n",
       "      <td>7000.0</td>\n",
       "      <td>19000</td>\n",
       "      <td>26000</td>\n",
       "    </tr>\n",
       "    <tr>\n",
       "      <th>5</th>\n",
       "      <td>Rena Filip</td>\n",
       "      <td>Brasilia</td>\n",
       "      <td>BRAZIL</td>\n",
       "      <td>50</td>\n",
       "      <td>167.0</td>\n",
       "      <td>4999.0</td>\n",
       "      <td>3999</td>\n",
       "      <td>3450</td>\n",
       "    </tr>\n",
       "    <tr>\n",
       "      <th>6</th>\n",
       "      <td>Cindy Jules</td>\n",
       "      <td>Stockholm</td>\n",
       "      <td>Sweden</td>\n",
       "      <td>48</td>\n",
       "      <td>117.0</td>\n",
       "      <td>3445.0</td>\n",
       "      <td>5504</td>\n",
       "      <td>8949</td>\n",
       "    </tr>\n",
       "  </tbody>\n",
       "</table>\n",
       "</div>"
      ],
      "text/plain": [
       "                NAME               CITY         COUNTRY  HEIGHT  WEIGHT  \\\n",
       "0          Adi Dako          LISBON       PORTUGAL           56   132.0   \n",
       "1          John Paul          LONDON     UNITED KINGDOM      62   165.0   \n",
       "3      Arthur Kegels           BRUSSELS         BELGIUM      59   121.0   \n",
       "4      Freya Bismark             Berlin        GERMANYY      53   126.0   \n",
       "5         Rena Filip       Brasilia              BRAZIL      50   167.0   \n",
       "6        Cindy Jules          Stockholm          Sweden      48   117.0   \n",
       "\n",
       "   ACCOUNT A  ACCOUNT B  TOTAL ACCOUNT  \n",
       "0     2390.0       4340           6730  \n",
       "1     4500.0      34334          38834  \n",
       "3     4344.0       8999            300  \n",
       "4     7000.0      19000          26000  \n",
       "5     4999.0       3999           3450  \n",
       "6     3445.0       5504           8949  "
      ]
     },
     "execution_count": 141,
     "metadata": {},
     "output_type": "execute_result"
    }
   ],
   "source": [
    "df_cleaned_1=df.dropna(how='any')\n",
    "\n",
    "df_cleaned_1"
   ]
  },
  {
   "cell_type": "code",
   "execution_count": 142,
   "id": "3c769aae",
   "metadata": {},
   "outputs": [
    {
     "data": {
      "text/plain": [
       "Int64Index([0, 1, 3, 4, 5, 6], dtype='int64')"
      ]
     },
     "execution_count": 142,
     "metadata": {},
     "output_type": "execute_result"
    }
   ],
   "source": [
    "df_cleaned_1.index"
   ]
  },
  {
   "cell_type": "code",
   "execution_count": 143,
   "id": "4c9d138e",
   "metadata": {},
   "outputs": [],
   "source": [
    "import numpy as np\n",
    "df_cleaned_1.index=np.arange(0,len(df_cleaned_1))"
   ]
  },
  {
   "cell_type": "code",
   "execution_count": 144,
   "id": "f557376d",
   "metadata": {},
   "outputs": [
    {
     "data": {
      "text/plain": [
       "Int64Index([0, 1, 2, 3, 4, 5], dtype='int64')"
      ]
     },
     "execution_count": 144,
     "metadata": {},
     "output_type": "execute_result"
    }
   ],
   "source": [
    "df_cleaned_1.index"
   ]
  },
  {
   "cell_type": "code",
   "execution_count": 145,
   "id": "989d730b",
   "metadata": {},
   "outputs": [],
   "source": [
    "# We can also drop columns if they only contain missing values\n",
    "# Let's uncomment the following line\n",
    "# NB: We don't have these rows in our dataset \n",
    "# ---\n",
    "# \n",
    "df_without_columns = df.dropna(axis=1, how='all')"
   ]
  },
  {
   "cell_type": "code",
   "execution_count": 146,
   "id": "d7173e30",
   "metadata": {},
   "outputs": [
    {
     "data": {
      "text/html": [
       "<div>\n",
       "<style scoped>\n",
       "    .dataframe tbody tr th:only-of-type {\n",
       "        vertical-align: middle;\n",
       "    }\n",
       "\n",
       "    .dataframe tbody tr th {\n",
       "        vertical-align: top;\n",
       "    }\n",
       "\n",
       "    .dataframe thead th {\n",
       "        text-align: right;\n",
       "    }\n",
       "</style>\n",
       "<table border=\"1\" class=\"dataframe\">\n",
       "  <thead>\n",
       "    <tr style=\"text-align: right;\">\n",
       "      <th></th>\n",
       "      <th>NAME</th>\n",
       "      <th>CITY</th>\n",
       "      <th>COUNTRY</th>\n",
       "      <th>HEIGHT</th>\n",
       "      <th>WEIGHT</th>\n",
       "      <th>ACCOUNT A</th>\n",
       "      <th>ACCOUNT B</th>\n",
       "      <th>TOTAL ACCOUNT</th>\n",
       "    </tr>\n",
       "  </thead>\n",
       "  <tbody>\n",
       "    <tr>\n",
       "      <th>0</th>\n",
       "      <td>Adi Dako</td>\n",
       "      <td>LISBON</td>\n",
       "      <td>PORTUGAL</td>\n",
       "      <td>56</td>\n",
       "      <td>132.0</td>\n",
       "      <td>2390.0</td>\n",
       "      <td>4340</td>\n",
       "      <td>6730</td>\n",
       "    </tr>\n",
       "    <tr>\n",
       "      <th>1</th>\n",
       "      <td>John Paul</td>\n",
       "      <td>LONDON</td>\n",
       "      <td>UNITED KINGDOM</td>\n",
       "      <td>62</td>\n",
       "      <td>165.0</td>\n",
       "      <td>4500.0</td>\n",
       "      <td>34334</td>\n",
       "      <td>38834</td>\n",
       "    </tr>\n",
       "    <tr>\n",
       "      <th>2</th>\n",
       "      <td>Cindy Jules</td>\n",
       "      <td>Stockholm</td>\n",
       "      <td>Sweden</td>\n",
       "      <td>48</td>\n",
       "      <td>117.0</td>\n",
       "      <td>NaN</td>\n",
       "      <td>5504</td>\n",
       "      <td>8949</td>\n",
       "    </tr>\n",
       "    <tr>\n",
       "      <th>3</th>\n",
       "      <td>Arthur Kegels</td>\n",
       "      <td>BRUSSELS</td>\n",
       "      <td>BELGIUM</td>\n",
       "      <td>59</td>\n",
       "      <td>121.0</td>\n",
       "      <td>4344.0</td>\n",
       "      <td>8999</td>\n",
       "      <td>300</td>\n",
       "    </tr>\n",
       "    <tr>\n",
       "      <th>4</th>\n",
       "      <td>Freya Bismark</td>\n",
       "      <td>Berlin</td>\n",
       "      <td>GERMANYY</td>\n",
       "      <td>53</td>\n",
       "      <td>126.0</td>\n",
       "      <td>7000.0</td>\n",
       "      <td>19000</td>\n",
       "      <td>26000</td>\n",
       "    </tr>\n",
       "    <tr>\n",
       "      <th>5</th>\n",
       "      <td>Rena Filip</td>\n",
       "      <td>Brasilia</td>\n",
       "      <td>BRAZIL</td>\n",
       "      <td>50</td>\n",
       "      <td>167.0</td>\n",
       "      <td>4999.0</td>\n",
       "      <td>3999</td>\n",
       "      <td>3450</td>\n",
       "    </tr>\n",
       "    <tr>\n",
       "      <th>6</th>\n",
       "      <td>Cindy Jules</td>\n",
       "      <td>Stockholm</td>\n",
       "      <td>Sweden</td>\n",
       "      <td>48</td>\n",
       "      <td>117.0</td>\n",
       "      <td>3445.0</td>\n",
       "      <td>5504</td>\n",
       "      <td>8949</td>\n",
       "    </tr>\n",
       "    <tr>\n",
       "      <th>7</th>\n",
       "      <td>John Paul</td>\n",
       "      <td>LONDON</td>\n",
       "      <td>UNITED KINGDOM</td>\n",
       "      <td>62</td>\n",
       "      <td>NaN</td>\n",
       "      <td>4500.0</td>\n",
       "      <td>2300</td>\n",
       "      <td>6800</td>\n",
       "    </tr>\n",
       "  </tbody>\n",
       "</table>\n",
       "</div>"
      ],
      "text/plain": [
       "                NAME               CITY         COUNTRY  HEIGHT  WEIGHT  \\\n",
       "0          Adi Dako          LISBON       PORTUGAL           56   132.0   \n",
       "1          John Paul          LONDON     UNITED KINGDOM      62   165.0   \n",
       "2        Cindy Jules          Stockholm          Sweden      48   117.0   \n",
       "3      Arthur Kegels           BRUSSELS         BELGIUM      59   121.0   \n",
       "4      Freya Bismark             Berlin        GERMANYY      53   126.0   \n",
       "5         Rena Filip       Brasilia              BRAZIL      50   167.0   \n",
       "6        Cindy Jules          Stockholm          Sweden      48   117.0   \n",
       "7          John Paul          LONDON     UNITED KINGDOM      62     NaN   \n",
       "\n",
       "   ACCOUNT A  ACCOUNT B  TOTAL ACCOUNT  \n",
       "0     2390.0       4340           6730  \n",
       "1     4500.0      34334          38834  \n",
       "2        NaN       5504           8949  \n",
       "3     4344.0       8999            300  \n",
       "4     7000.0      19000          26000  \n",
       "5     4999.0       3999           3450  \n",
       "6     3445.0       5504           8949  \n",
       "7     4500.0       2300           6800  "
      ]
     },
     "execution_count": 146,
     "metadata": {},
     "output_type": "execute_result"
    }
   ],
   "source": [
    "df_without_columns"
   ]
  },
  {
   "cell_type": "code",
   "execution_count": 147,
   "id": "f3660ce1",
   "metadata": {},
   "outputs": [
    {
     "data": {
      "text/html": [
       "<div>\n",
       "<style scoped>\n",
       "    .dataframe tbody tr th:only-of-type {\n",
       "        vertical-align: middle;\n",
       "    }\n",
       "\n",
       "    .dataframe tbody tr th {\n",
       "        vertical-align: top;\n",
       "    }\n",
       "\n",
       "    .dataframe thead th {\n",
       "        text-align: right;\n",
       "    }\n",
       "</style>\n",
       "<table border=\"1\" class=\"dataframe\">\n",
       "  <thead>\n",
       "    <tr style=\"text-align: right;\">\n",
       "      <th></th>\n",
       "      <th>NAME</th>\n",
       "      <th>CITY</th>\n",
       "      <th>COUNTRY</th>\n",
       "      <th>HEIGHT</th>\n",
       "      <th>WEIGHT</th>\n",
       "      <th>ACCOUNT A</th>\n",
       "      <th>ACCOUNT B</th>\n",
       "      <th>TOTAL ACCOUNT</th>\n",
       "    </tr>\n",
       "  </thead>\n",
       "  <tbody>\n",
       "    <tr>\n",
       "      <th>0</th>\n",
       "      <td>Adi Dako</td>\n",
       "      <td>LISBON</td>\n",
       "      <td>PORTUGAL</td>\n",
       "      <td>56</td>\n",
       "      <td>132.0</td>\n",
       "      <td>2390.0</td>\n",
       "      <td>4340</td>\n",
       "      <td>6730</td>\n",
       "    </tr>\n",
       "    <tr>\n",
       "      <th>1</th>\n",
       "      <td>John Paul</td>\n",
       "      <td>LONDON</td>\n",
       "      <td>UNITED KINGDOM</td>\n",
       "      <td>62</td>\n",
       "      <td>165.0</td>\n",
       "      <td>4500.0</td>\n",
       "      <td>34334</td>\n",
       "      <td>38834</td>\n",
       "    </tr>\n",
       "    <tr>\n",
       "      <th>3</th>\n",
       "      <td>Arthur Kegels</td>\n",
       "      <td>BRUSSELS</td>\n",
       "      <td>BELGIUM</td>\n",
       "      <td>59</td>\n",
       "      <td>121.0</td>\n",
       "      <td>4344.0</td>\n",
       "      <td>8999</td>\n",
       "      <td>300</td>\n",
       "    </tr>\n",
       "    <tr>\n",
       "      <th>4</th>\n",
       "      <td>Freya Bismark</td>\n",
       "      <td>Berlin</td>\n",
       "      <td>GERMANYY</td>\n",
       "      <td>53</td>\n",
       "      <td>126.0</td>\n",
       "      <td>7000.0</td>\n",
       "      <td>19000</td>\n",
       "      <td>26000</td>\n",
       "    </tr>\n",
       "    <tr>\n",
       "      <th>5</th>\n",
       "      <td>Rena Filip</td>\n",
       "      <td>Brasilia</td>\n",
       "      <td>BRAZIL</td>\n",
       "      <td>50</td>\n",
       "      <td>167.0</td>\n",
       "      <td>4999.0</td>\n",
       "      <td>3999</td>\n",
       "      <td>3450</td>\n",
       "    </tr>\n",
       "    <tr>\n",
       "      <th>6</th>\n",
       "      <td>Cindy Jules</td>\n",
       "      <td>Stockholm</td>\n",
       "      <td>Sweden</td>\n",
       "      <td>48</td>\n",
       "      <td>117.0</td>\n",
       "      <td>3445.0</td>\n",
       "      <td>5504</td>\n",
       "      <td>8949</td>\n",
       "    </tr>\n",
       "  </tbody>\n",
       "</table>\n",
       "</div>"
      ],
      "text/plain": [
       "                NAME               CITY         COUNTRY  HEIGHT  WEIGHT  \\\n",
       "0          Adi Dako          LISBON       PORTUGAL           56   132.0   \n",
       "1          John Paul          LONDON     UNITED KINGDOM      62   165.0   \n",
       "3      Arthur Kegels           BRUSSELS         BELGIUM      59   121.0   \n",
       "4      Freya Bismark             Berlin        GERMANYY      53   126.0   \n",
       "5         Rena Filip       Brasilia              BRAZIL      50   167.0   \n",
       "6        Cindy Jules          Stockholm          Sweden      48   117.0   \n",
       "\n",
       "   ACCOUNT A  ACCOUNT B  TOTAL ACCOUNT  \n",
       "0     2390.0       4340           6730  \n",
       "1     4500.0      34334          38834  \n",
       "3     4344.0       8999            300  \n",
       "4     7000.0      19000          26000  \n",
       "5     4999.0       3999           3450  \n",
       "6     3445.0       5504           8949  "
      ]
     },
     "execution_count": 147,
     "metadata": {},
     "output_type": "execute_result"
    }
   ],
   "source": [
    "# We can drop rows that contain less than five observations\n",
    "# NB: We don't have these rows in our dataset \n",
    "# ---\n",
    "df = pd.read_csv('http://bit.ly/SampleDataset') \n",
    "# thresh : int, optional\n",
    "    # Require that many non-NA values.\n",
    "t8=df.dropna(thresh=8)\n",
    "t8"
   ]
  },
  {
   "cell_type": "code",
   "execution_count": 148,
   "id": "757a3030",
   "metadata": {},
   "outputs": [
    {
     "data": {
      "text/html": [
       "<div>\n",
       "<style scoped>\n",
       "    .dataframe tbody tr th:only-of-type {\n",
       "        vertical-align: middle;\n",
       "    }\n",
       "\n",
       "    .dataframe tbody tr th {\n",
       "        vertical-align: top;\n",
       "    }\n",
       "\n",
       "    .dataframe thead th {\n",
       "        text-align: right;\n",
       "    }\n",
       "</style>\n",
       "<table border=\"1\" class=\"dataframe\">\n",
       "  <thead>\n",
       "    <tr style=\"text-align: right;\">\n",
       "      <th></th>\n",
       "      <th>NAME</th>\n",
       "      <th>CITY</th>\n",
       "      <th>COUNTRY</th>\n",
       "      <th>HEIGHT</th>\n",
       "      <th>WEIGHT</th>\n",
       "      <th>ACCOUNT A</th>\n",
       "      <th>ACCOUNT B</th>\n",
       "      <th>TOTAL ACCOUNT</th>\n",
       "    </tr>\n",
       "  </thead>\n",
       "  <tbody>\n",
       "    <tr>\n",
       "      <th>0</th>\n",
       "      <td>Adi Dako</td>\n",
       "      <td>LISBON</td>\n",
       "      <td>PORTUGAL</td>\n",
       "      <td>56</td>\n",
       "      <td>132.0</td>\n",
       "      <td>2390.0</td>\n",
       "      <td>4340</td>\n",
       "      <td>6730</td>\n",
       "    </tr>\n",
       "    <tr>\n",
       "      <th>1</th>\n",
       "      <td>John Paul</td>\n",
       "      <td>LONDON</td>\n",
       "      <td>UNITED KINGDOM</td>\n",
       "      <td>62</td>\n",
       "      <td>165.0</td>\n",
       "      <td>4500.0</td>\n",
       "      <td>34334</td>\n",
       "      <td>38834</td>\n",
       "    </tr>\n",
       "    <tr>\n",
       "      <th>2</th>\n",
       "      <td>Cindy Jules</td>\n",
       "      <td>Stockholm</td>\n",
       "      <td>Sweden</td>\n",
       "      <td>48</td>\n",
       "      <td>117.0</td>\n",
       "      <td>0.0</td>\n",
       "      <td>5504</td>\n",
       "      <td>8949</td>\n",
       "    </tr>\n",
       "    <tr>\n",
       "      <th>3</th>\n",
       "      <td>Arthur Kegels</td>\n",
       "      <td>BRUSSELS</td>\n",
       "      <td>BELGIUM</td>\n",
       "      <td>59</td>\n",
       "      <td>121.0</td>\n",
       "      <td>4344.0</td>\n",
       "      <td>8999</td>\n",
       "      <td>300</td>\n",
       "    </tr>\n",
       "    <tr>\n",
       "      <th>4</th>\n",
       "      <td>Freya Bismark</td>\n",
       "      <td>Berlin</td>\n",
       "      <td>GERMANYY</td>\n",
       "      <td>53</td>\n",
       "      <td>126.0</td>\n",
       "      <td>7000.0</td>\n",
       "      <td>19000</td>\n",
       "      <td>26000</td>\n",
       "    </tr>\n",
       "    <tr>\n",
       "      <th>5</th>\n",
       "      <td>Rena Filip</td>\n",
       "      <td>Brasilia</td>\n",
       "      <td>BRAZIL</td>\n",
       "      <td>50</td>\n",
       "      <td>167.0</td>\n",
       "      <td>4999.0</td>\n",
       "      <td>3999</td>\n",
       "      <td>3450</td>\n",
       "    </tr>\n",
       "    <tr>\n",
       "      <th>6</th>\n",
       "      <td>Cindy Jules</td>\n",
       "      <td>Stockholm</td>\n",
       "      <td>Sweden</td>\n",
       "      <td>48</td>\n",
       "      <td>117.0</td>\n",
       "      <td>3445.0</td>\n",
       "      <td>5504</td>\n",
       "      <td>8949</td>\n",
       "    </tr>\n",
       "    <tr>\n",
       "      <th>7</th>\n",
       "      <td>John Paul</td>\n",
       "      <td>LONDON</td>\n",
       "      <td>UNITED KINGDOM</td>\n",
       "      <td>62</td>\n",
       "      <td>0.0</td>\n",
       "      <td>4500.0</td>\n",
       "      <td>2300</td>\n",
       "      <td>6800</td>\n",
       "    </tr>\n",
       "  </tbody>\n",
       "</table>\n",
       "</div>"
      ],
      "text/plain": [
       "                NAME               CITY         COUNTRY  HEIGHT  WEIGHT  \\\n",
       "0          Adi Dako          LISBON       PORTUGAL           56   132.0   \n",
       "1          John Paul          LONDON     UNITED KINGDOM      62   165.0   \n",
       "2        Cindy Jules          Stockholm          Sweden      48   117.0   \n",
       "3      Arthur Kegels           BRUSSELS         BELGIUM      59   121.0   \n",
       "4      Freya Bismark             Berlin        GERMANYY      53   126.0   \n",
       "5         Rena Filip       Brasilia              BRAZIL      50   167.0   \n",
       "6        Cindy Jules          Stockholm          Sweden      48   117.0   \n",
       "7          John Paul          LONDON     UNITED KINGDOM      62     0.0   \n",
       "\n",
       "   ACCOUNT A  ACCOUNT B  TOTAL ACCOUNT  \n",
       "0     2390.0       4340           6730  \n",
       "1     4500.0      34334          38834  \n",
       "2        0.0       5504           8949  \n",
       "3     4344.0       8999            300  \n",
       "4     7000.0      19000          26000  \n",
       "5     4999.0       3999           3450  \n",
       "6     3445.0       5504           8949  \n",
       "7     4500.0       2300           6800  "
      ]
     },
     "execution_count": 148,
     "metadata": {},
     "output_type": "execute_result"
    }
   ],
   "source": [
    "# We can also fill in missing data with zeros\n",
    "# Let's uncomment the following line \n",
    "# ---\n",
    "# \n",
    "df2 = df.copy()\n",
    "df3 = df2.fillna(0)\n",
    "df3"
   ]
  },
  {
   "cell_type": "markdown",
   "id": "8b78df36",
   "metadata": {},
   "source": [
    "Filling missing values\n",
    "\n",
    "1 - ffill (propagate last valid observation forward to next valid)\n",
    "\n",
    "2-  bfill (Use next valid observation to fill gap.)"
   ]
  },
  {
   "cell_type": "code",
   "execution_count": 154,
   "id": "9b1ad266",
   "metadata": {},
   "outputs": [
    {
     "data": {
      "text/html": [
       "<div>\n",
       "<style scoped>\n",
       "    .dataframe tbody tr th:only-of-type {\n",
       "        vertical-align: middle;\n",
       "    }\n",
       "\n",
       "    .dataframe tbody tr th {\n",
       "        vertical-align: top;\n",
       "    }\n",
       "\n",
       "    .dataframe thead th {\n",
       "        text-align: right;\n",
       "    }\n",
       "</style>\n",
       "<table border=\"1\" class=\"dataframe\">\n",
       "  <thead>\n",
       "    <tr style=\"text-align: right;\">\n",
       "      <th></th>\n",
       "      <th>NAME</th>\n",
       "      <th>CITY</th>\n",
       "      <th>COUNTRY</th>\n",
       "      <th>HEIGHT</th>\n",
       "      <th>WEIGHT</th>\n",
       "      <th>ACCOUNT A</th>\n",
       "      <th>ACCOUNT B</th>\n",
       "      <th>TOTAL ACCOUNT</th>\n",
       "    </tr>\n",
       "  </thead>\n",
       "  <tbody>\n",
       "    <tr>\n",
       "      <th>0</th>\n",
       "      <td>Adi Dako</td>\n",
       "      <td>LISBON</td>\n",
       "      <td>PORTUGAL</td>\n",
       "      <td>56</td>\n",
       "      <td>132.0</td>\n",
       "      <td>2390.0</td>\n",
       "      <td>4340</td>\n",
       "      <td>6730</td>\n",
       "    </tr>\n",
       "    <tr>\n",
       "      <th>1</th>\n",
       "      <td>John Paul</td>\n",
       "      <td>LONDON</td>\n",
       "      <td>UNITED KINGDOM</td>\n",
       "      <td>62</td>\n",
       "      <td>165.0</td>\n",
       "      <td>4500.0</td>\n",
       "      <td>34334</td>\n",
       "      <td>38834</td>\n",
       "    </tr>\n",
       "    <tr>\n",
       "      <th>2</th>\n",
       "      <td>Cindy Jules</td>\n",
       "      <td>Stockholm</td>\n",
       "      <td>Sweden</td>\n",
       "      <td>48</td>\n",
       "      <td>117.0</td>\n",
       "      <td>4500.0</td>\n",
       "      <td>5504</td>\n",
       "      <td>8949</td>\n",
       "    </tr>\n",
       "    <tr>\n",
       "      <th>3</th>\n",
       "      <td>Arthur Kegels</td>\n",
       "      <td>BRUSSELS</td>\n",
       "      <td>BELGIUM</td>\n",
       "      <td>59</td>\n",
       "      <td>121.0</td>\n",
       "      <td>4344.0</td>\n",
       "      <td>8999</td>\n",
       "      <td>300</td>\n",
       "    </tr>\n",
       "    <tr>\n",
       "      <th>4</th>\n",
       "      <td>Freya Bismark</td>\n",
       "      <td>Berlin</td>\n",
       "      <td>GERMANYY</td>\n",
       "      <td>53</td>\n",
       "      <td>126.0</td>\n",
       "      <td>7000.0</td>\n",
       "      <td>19000</td>\n",
       "      <td>26000</td>\n",
       "    </tr>\n",
       "    <tr>\n",
       "      <th>5</th>\n",
       "      <td>Rena Filip</td>\n",
       "      <td>Brasilia</td>\n",
       "      <td>BRAZIL</td>\n",
       "      <td>50</td>\n",
       "      <td>167.0</td>\n",
       "      <td>4999.0</td>\n",
       "      <td>3999</td>\n",
       "      <td>3450</td>\n",
       "    </tr>\n",
       "    <tr>\n",
       "      <th>6</th>\n",
       "      <td>Cindy Jules</td>\n",
       "      <td>Stockholm</td>\n",
       "      <td>Sweden</td>\n",
       "      <td>48</td>\n",
       "      <td>117.0</td>\n",
       "      <td>3445.0</td>\n",
       "      <td>5504</td>\n",
       "      <td>8949</td>\n",
       "    </tr>\n",
       "    <tr>\n",
       "      <th>7</th>\n",
       "      <td>John Paul</td>\n",
       "      <td>LONDON</td>\n",
       "      <td>UNITED KINGDOM</td>\n",
       "      <td>62</td>\n",
       "      <td>117.0</td>\n",
       "      <td>4500.0</td>\n",
       "      <td>2300</td>\n",
       "      <td>6800</td>\n",
       "    </tr>\n",
       "  </tbody>\n",
       "</table>\n",
       "</div>"
      ],
      "text/plain": [
       "                NAME               CITY         COUNTRY  HEIGHT  WEIGHT  \\\n",
       "0          Adi Dako          LISBON       PORTUGAL           56   132.0   \n",
       "1          John Paul          LONDON     UNITED KINGDOM      62   165.0   \n",
       "2        Cindy Jules          Stockholm          Sweden      48   117.0   \n",
       "3      Arthur Kegels           BRUSSELS         BELGIUM      59   121.0   \n",
       "4      Freya Bismark             Berlin        GERMANYY      53   126.0   \n",
       "5         Rena Filip       Brasilia              BRAZIL      50   167.0   \n",
       "6        Cindy Jules          Stockholm          Sweden      48   117.0   \n",
       "7          John Paul          LONDON     UNITED KINGDOM      62   117.0   \n",
       "\n",
       "   ACCOUNT A  ACCOUNT B  TOTAL ACCOUNT  \n",
       "0     2390.0       4340           6730  \n",
       "1     4500.0      34334          38834  \n",
       "2     4500.0       5504           8949  \n",
       "3     4344.0       8999            300  \n",
       "4     7000.0      19000          26000  \n",
       "5     4999.0       3999           3450  \n",
       "6     3445.0       5504           8949  \n",
       "7     4500.0       2300           6800  "
      ]
     },
     "execution_count": 154,
     "metadata": {},
     "output_type": "execute_result"
    }
   ],
   "source": [
    "# ffill\n",
    "df2.fillna(method=\"ffill\")"
   ]
  },
  {
   "cell_type": "code",
   "execution_count": 155,
   "id": "ecd4b28a",
   "metadata": {},
   "outputs": [
    {
     "data": {
      "text/html": [
       "<div>\n",
       "<style scoped>\n",
       "    .dataframe tbody tr th:only-of-type {\n",
       "        vertical-align: middle;\n",
       "    }\n",
       "\n",
       "    .dataframe tbody tr th {\n",
       "        vertical-align: top;\n",
       "    }\n",
       "\n",
       "    .dataframe thead th {\n",
       "        text-align: right;\n",
       "    }\n",
       "</style>\n",
       "<table border=\"1\" class=\"dataframe\">\n",
       "  <thead>\n",
       "    <tr style=\"text-align: right;\">\n",
       "      <th></th>\n",
       "      <th>NAME</th>\n",
       "      <th>CITY</th>\n",
       "      <th>COUNTRY</th>\n",
       "      <th>HEIGHT</th>\n",
       "      <th>WEIGHT</th>\n",
       "      <th>ACCOUNT A</th>\n",
       "      <th>ACCOUNT B</th>\n",
       "      <th>TOTAL ACCOUNT</th>\n",
       "    </tr>\n",
       "  </thead>\n",
       "  <tbody>\n",
       "    <tr>\n",
       "      <th>0</th>\n",
       "      <td>Adi Dako</td>\n",
       "      <td>LISBON</td>\n",
       "      <td>PORTUGAL</td>\n",
       "      <td>56</td>\n",
       "      <td>132.0</td>\n",
       "      <td>2390.0</td>\n",
       "      <td>4340</td>\n",
       "      <td>6730</td>\n",
       "    </tr>\n",
       "    <tr>\n",
       "      <th>1</th>\n",
       "      <td>John Paul</td>\n",
       "      <td>LONDON</td>\n",
       "      <td>UNITED KINGDOM</td>\n",
       "      <td>62</td>\n",
       "      <td>165.0</td>\n",
       "      <td>4500.0</td>\n",
       "      <td>34334</td>\n",
       "      <td>38834</td>\n",
       "    </tr>\n",
       "    <tr>\n",
       "      <th>2</th>\n",
       "      <td>Cindy Jules</td>\n",
       "      <td>Stockholm</td>\n",
       "      <td>Sweden</td>\n",
       "      <td>48</td>\n",
       "      <td>117.0</td>\n",
       "      <td>4344.0</td>\n",
       "      <td>5504</td>\n",
       "      <td>8949</td>\n",
       "    </tr>\n",
       "    <tr>\n",
       "      <th>3</th>\n",
       "      <td>Arthur Kegels</td>\n",
       "      <td>BRUSSELS</td>\n",
       "      <td>BELGIUM</td>\n",
       "      <td>59</td>\n",
       "      <td>121.0</td>\n",
       "      <td>4344.0</td>\n",
       "      <td>8999</td>\n",
       "      <td>300</td>\n",
       "    </tr>\n",
       "    <tr>\n",
       "      <th>4</th>\n",
       "      <td>Freya Bismark</td>\n",
       "      <td>Berlin</td>\n",
       "      <td>GERMANYY</td>\n",
       "      <td>53</td>\n",
       "      <td>126.0</td>\n",
       "      <td>7000.0</td>\n",
       "      <td>19000</td>\n",
       "      <td>26000</td>\n",
       "    </tr>\n",
       "    <tr>\n",
       "      <th>5</th>\n",
       "      <td>Rena Filip</td>\n",
       "      <td>Brasilia</td>\n",
       "      <td>BRAZIL</td>\n",
       "      <td>50</td>\n",
       "      <td>167.0</td>\n",
       "      <td>4999.0</td>\n",
       "      <td>3999</td>\n",
       "      <td>3450</td>\n",
       "    </tr>\n",
       "    <tr>\n",
       "      <th>6</th>\n",
       "      <td>Cindy Jules</td>\n",
       "      <td>Stockholm</td>\n",
       "      <td>Sweden</td>\n",
       "      <td>48</td>\n",
       "      <td>117.0</td>\n",
       "      <td>3445.0</td>\n",
       "      <td>5504</td>\n",
       "      <td>8949</td>\n",
       "    </tr>\n",
       "    <tr>\n",
       "      <th>7</th>\n",
       "      <td>John Paul</td>\n",
       "      <td>LONDON</td>\n",
       "      <td>UNITED KINGDOM</td>\n",
       "      <td>62</td>\n",
       "      <td>NaN</td>\n",
       "      <td>4500.0</td>\n",
       "      <td>2300</td>\n",
       "      <td>6800</td>\n",
       "    </tr>\n",
       "  </tbody>\n",
       "</table>\n",
       "</div>"
      ],
      "text/plain": [
       "                NAME               CITY         COUNTRY  HEIGHT  WEIGHT  \\\n",
       "0          Adi Dako          LISBON       PORTUGAL           56   132.0   \n",
       "1          John Paul          LONDON     UNITED KINGDOM      62   165.0   \n",
       "2        Cindy Jules          Stockholm          Sweden      48   117.0   \n",
       "3      Arthur Kegels           BRUSSELS         BELGIUM      59   121.0   \n",
       "4      Freya Bismark             Berlin        GERMANYY      53   126.0   \n",
       "5         Rena Filip       Brasilia              BRAZIL      50   167.0   \n",
       "6        Cindy Jules          Stockholm          Sweden      48   117.0   \n",
       "7          John Paul          LONDON     UNITED KINGDOM      62     NaN   \n",
       "\n",
       "   ACCOUNT A  ACCOUNT B  TOTAL ACCOUNT  \n",
       "0     2390.0       4340           6730  \n",
       "1     4500.0      34334          38834  \n",
       "2     4344.0       5504           8949  \n",
       "3     4344.0       8999            300  \n",
       "4     7000.0      19000          26000  \n",
       "5     4999.0       3999           3450  \n",
       "6     3445.0       5504           8949  \n",
       "7     4500.0       2300           6800  "
      ]
     },
     "execution_count": 155,
     "metadata": {},
     "output_type": "execute_result"
    }
   ],
   "source": [
    "# bfill\n",
    "df2.fillna(method='bfill')"
   ]
  },
  {
   "cell_type": "code",
   "execution_count": 149,
   "id": "1710838c",
   "metadata": {
    "scrolled": true
   },
   "outputs": [
    {
     "data": {
      "text/html": [
       "<div>\n",
       "<style scoped>\n",
       "    .dataframe tbody tr th:only-of-type {\n",
       "        vertical-align: middle;\n",
       "    }\n",
       "\n",
       "    .dataframe tbody tr th {\n",
       "        vertical-align: top;\n",
       "    }\n",
       "\n",
       "    .dataframe thead th {\n",
       "        text-align: right;\n",
       "    }\n",
       "</style>\n",
       "<table border=\"1\" class=\"dataframe\">\n",
       "  <thead>\n",
       "    <tr style=\"text-align: right;\">\n",
       "      <th></th>\n",
       "      <th>NAME</th>\n",
       "      <th>CITY</th>\n",
       "      <th>COUNTRY</th>\n",
       "      <th>HEIGHT</th>\n",
       "      <th>WEIGHT</th>\n",
       "      <th>ACCOUNT A</th>\n",
       "      <th>ACCOUNT B</th>\n",
       "      <th>TOTAL ACCOUNT</th>\n",
       "    </tr>\n",
       "  </thead>\n",
       "  <tbody>\n",
       "    <tr>\n",
       "      <th>0</th>\n",
       "      <td>Adi Dako</td>\n",
       "      <td>LISBON</td>\n",
       "      <td>PORTUGAL</td>\n",
       "      <td>56</td>\n",
       "      <td>132.0</td>\n",
       "      <td>2390.0</td>\n",
       "      <td>4340</td>\n",
       "      <td>6730</td>\n",
       "    </tr>\n",
       "    <tr>\n",
       "      <th>1</th>\n",
       "      <td>John Paul</td>\n",
       "      <td>LONDON</td>\n",
       "      <td>UNITED KINGDOM</td>\n",
       "      <td>62</td>\n",
       "      <td>165.0</td>\n",
       "      <td>4500.0</td>\n",
       "      <td>34334</td>\n",
       "      <td>38834</td>\n",
       "    </tr>\n",
       "    <tr>\n",
       "      <th>3</th>\n",
       "      <td>Arthur Kegels</td>\n",
       "      <td>BRUSSELS</td>\n",
       "      <td>BELGIUM</td>\n",
       "      <td>59</td>\n",
       "      <td>121.0</td>\n",
       "      <td>4344.0</td>\n",
       "      <td>8999</td>\n",
       "      <td>300</td>\n",
       "    </tr>\n",
       "    <tr>\n",
       "      <th>4</th>\n",
       "      <td>Freya Bismark</td>\n",
       "      <td>Berlin</td>\n",
       "      <td>GERMANYY</td>\n",
       "      <td>53</td>\n",
       "      <td>126.0</td>\n",
       "      <td>7000.0</td>\n",
       "      <td>19000</td>\n",
       "      <td>26000</td>\n",
       "    </tr>\n",
       "    <tr>\n",
       "      <th>5</th>\n",
       "      <td>Rena Filip</td>\n",
       "      <td>Brasilia</td>\n",
       "      <td>BRAZIL</td>\n",
       "      <td>50</td>\n",
       "      <td>167.0</td>\n",
       "      <td>4999.0</td>\n",
       "      <td>3999</td>\n",
       "      <td>3450</td>\n",
       "    </tr>\n",
       "    <tr>\n",
       "      <th>6</th>\n",
       "      <td>Cindy Jules</td>\n",
       "      <td>Stockholm</td>\n",
       "      <td>Sweden</td>\n",
       "      <td>48</td>\n",
       "      <td>117.0</td>\n",
       "      <td>3445.0</td>\n",
       "      <td>5504</td>\n",
       "      <td>8949</td>\n",
       "    </tr>\n",
       "  </tbody>\n",
       "</table>\n",
       "</div>"
      ],
      "text/plain": [
       "                NAME               CITY         COUNTRY  HEIGHT  WEIGHT  \\\n",
       "0          Adi Dako          LISBON       PORTUGAL           56   132.0   \n",
       "1          John Paul          LONDON     UNITED KINGDOM      62   165.0   \n",
       "3      Arthur Kegels           BRUSSELS         BELGIUM      59   121.0   \n",
       "4      Freya Bismark             Berlin        GERMANYY      53   126.0   \n",
       "5         Rena Filip       Brasilia              BRAZIL      50   167.0   \n",
       "6        Cindy Jules          Stockholm          Sweden      48   117.0   \n",
       "\n",
       "   ACCOUNT A  ACCOUNT B  TOTAL ACCOUNT  \n",
       "0     2390.0       4340           6730  \n",
       "1     4500.0      34334          38834  \n",
       "3     4344.0       8999            300  \n",
       "4     7000.0      19000          26000  \n",
       "5     4999.0       3999           3450  \n",
       "6     3445.0       5504           8949  "
      ]
     },
     "execution_count": 149,
     "metadata": {},
     "output_type": "execute_result"
    }
   ],
   "source": [
    "# Lastly, we can also drop the missing observations\n",
    "# Let's uncomment the following two lines\n",
    "# ---\n",
    "#\n",
    "df_no_missing = df.dropna()\n",
    "df_no_missing"
   ]
  },
  {
   "cell_type": "markdown",
   "id": "759b6122",
   "metadata": {},
   "source": [
    "# Outliers detection and handling"
   ]
  },
  {
   "cell_type": "code",
   "execution_count": 169,
   "id": "fab86828",
   "metadata": {},
   "outputs": [],
   "source": [
    "# Pre-requisite 1\n",
    "# ---\n",
    "# Importing pandas library\n",
    "# ---\n",
    "# OUR CODE GOES BELOW\n",
    "# \n",
    "import pandas as pd"
   ]
  },
  {
   "cell_type": "code",
   "execution_count": 170,
   "id": "9b356a5a",
   "metadata": {},
   "outputs": [],
   "source": [
    "# Pre-requisite 2\n",
    "# ---\n",
    "# Importing the seaborn library\n",
    "# This is a visualisation library\n",
    "# ---\n",
    "# \n",
    "import seaborn as sns"
   ]
  },
  {
   "cell_type": "markdown",
   "id": "6f38c044",
   "metadata": {},
   "source": [
    "## Finding outliers"
   ]
  },
  {
   "cell_type": "markdown",
   "id": "d45d2d25",
   "metadata": {},
   "source": [
    " We can check for outliers with a box plot\n"
   ]
  },
  {
   "cell_type": "code",
   "execution_count": 171,
   "id": "9fc74d3c",
   "metadata": {},
   "outputs": [
    {
     "data": {
      "text/html": [
       "<div>\n",
       "<style scoped>\n",
       "    .dataframe tbody tr th:only-of-type {\n",
       "        vertical-align: middle;\n",
       "    }\n",
       "\n",
       "    .dataframe tbody tr th {\n",
       "        vertical-align: top;\n",
       "    }\n",
       "\n",
       "    .dataframe thead th {\n",
       "        text-align: right;\n",
       "    }\n",
       "</style>\n",
       "<table border=\"1\" class=\"dataframe\">\n",
       "  <thead>\n",
       "    <tr style=\"text-align: right;\">\n",
       "      <th></th>\n",
       "      <th>country</th>\n",
       "      <th>year</th>\n",
       "      <th>pop</th>\n",
       "      <th>continent</th>\n",
       "      <th>lifeExp</th>\n",
       "      <th>gdpPercap</th>\n",
       "    </tr>\n",
       "  </thead>\n",
       "  <tbody>\n",
       "    <tr>\n",
       "      <th>11</th>\n",
       "      <td>Afghanistan</td>\n",
       "      <td>2007</td>\n",
       "      <td>31889923.0</td>\n",
       "      <td>Asia</td>\n",
       "      <td>43.828</td>\n",
       "      <td>974.5803384</td>\n",
       "    </tr>\n",
       "    <tr>\n",
       "      <th>23</th>\n",
       "      <td>Albania</td>\n",
       "      <td>2007</td>\n",
       "      <td>3600523.0</td>\n",
       "      <td>Europe</td>\n",
       "      <td>76.423</td>\n",
       "      <td>5937.029526</td>\n",
       "    </tr>\n",
       "    <tr>\n",
       "      <th>35</th>\n",
       "      <td>Algeria</td>\n",
       "      <td>2007</td>\n",
       "      <td>33333216.0</td>\n",
       "      <td>Africa</td>\n",
       "      <td>72.301</td>\n",
       "      <td>6223.367465</td>\n",
       "    </tr>\n",
       "    <tr>\n",
       "      <th>47</th>\n",
       "      <td>Angola</td>\n",
       "      <td>2007</td>\n",
       "      <td>12420476.0</td>\n",
       "      <td>Africa</td>\n",
       "      <td>42.731</td>\n",
       "      <td>4797.231267</td>\n",
       "    </tr>\n",
       "    <tr>\n",
       "      <th>59</th>\n",
       "      <td>Argentina</td>\n",
       "      <td>2007</td>\n",
       "      <td>40301927.0</td>\n",
       "      <td>Americas</td>\n",
       "      <td>75.32</td>\n",
       "      <td>12779.37964</td>\n",
       "    </tr>\n",
       "    <tr>\n",
       "      <th>...</th>\n",
       "      <td>...</td>\n",
       "      <td>...</td>\n",
       "      <td>...</td>\n",
       "      <td>...</td>\n",
       "      <td>...</td>\n",
       "      <td>...</td>\n",
       "    </tr>\n",
       "    <tr>\n",
       "      <th>1655</th>\n",
       "      <td>Vietnam</td>\n",
       "      <td>2007</td>\n",
       "      <td>85262356.0</td>\n",
       "      <td>Asia</td>\n",
       "      <td>74.249</td>\n",
       "      <td>2441.576404</td>\n",
       "    </tr>\n",
       "    <tr>\n",
       "      <th>1667</th>\n",
       "      <td>West Bank and Gaza</td>\n",
       "      <td>2007</td>\n",
       "      <td>4018332.0</td>\n",
       "      <td>Asia</td>\n",
       "      <td>73.422</td>\n",
       "      <td>3025.349798</td>\n",
       "    </tr>\n",
       "    <tr>\n",
       "      <th>1679</th>\n",
       "      <td>Yemen Rep.</td>\n",
       "      <td>2007</td>\n",
       "      <td>22211743.0</td>\n",
       "      <td>Asia</td>\n",
       "      <td>62.698</td>\n",
       "      <td>2280.769906</td>\n",
       "    </tr>\n",
       "    <tr>\n",
       "      <th>1691</th>\n",
       "      <td>Zambia</td>\n",
       "      <td>2007</td>\n",
       "      <td>11746035.0</td>\n",
       "      <td>Africa</td>\n",
       "      <td>42.384</td>\n",
       "      <td>1271.211593</td>\n",
       "    </tr>\n",
       "    <tr>\n",
       "      <th>1703</th>\n",
       "      <td>Zimbabwe</td>\n",
       "      <td>2007</td>\n",
       "      <td>12311143.0</td>\n",
       "      <td>Africa</td>\n",
       "      <td>43.487</td>\n",
       "      <td>469.7092981</td>\n",
       "    </tr>\n",
       "  </tbody>\n",
       "</table>\n",
       "<p>142 rows × 6 columns</p>\n",
       "</div>"
      ],
      "text/plain": [
       "                 country  year        pop continent  lifeExp   gdpPercap\n",
       "11           Afghanistan  2007 31889923.0      Asia   43.828 974.5803384\n",
       "23               Albania  2007  3600523.0    Europe   76.423 5937.029526\n",
       "35               Algeria  2007 33333216.0    Africa   72.301 6223.367465\n",
       "47                Angola  2007 12420476.0    Africa   42.731 4797.231267\n",
       "59             Argentina  2007 40301927.0  Americas    75.32 12779.37964\n",
       "...                  ...   ...        ...       ...      ...         ...\n",
       "1655             Vietnam  2007 85262356.0      Asia   74.249 2441.576404\n",
       "1667  West Bank and Gaza  2007  4018332.0      Asia   73.422 3025.349798\n",
       "1679          Yemen Rep.  2007 22211743.0      Asia   62.698 2280.769906\n",
       "1691              Zambia  2007 11746035.0    Africa   42.384 1271.211593\n",
       "1703            Zimbabwe  2007 12311143.0    Africa   43.487 469.7092981\n",
       "\n",
       "[142 rows x 6 columns]"
      ]
     },
     "execution_count": 171,
     "metadata": {},
     "output_type": "execute_result"
    }
   ],
   "source": [
    "# Dataset url = http://bit.ly/CountryDataset1\n",
    "# ---\n",
    "# OUR CODE GOES BELOW\n",
    "#  \n",
    "\n",
    "# Let's read data from url as dataframe\n",
    "# \n",
    "outliers_df = pd.read_csv(\"http://bit.ly/CountryDataset1\") \n",
    "\n",
    "# Lets preview our our dataframe below\n",
    "#\n",
    "outliers_df[outliers_df['year']==2007]"
   ]
  },
  {
   "cell_type": "code",
   "execution_count": 172,
   "id": "ea3fb5e8",
   "metadata": {},
   "outputs": [
    {
     "data": {
      "text/html": [
       "<div>\n",
       "<style scoped>\n",
       "    .dataframe tbody tr th:only-of-type {\n",
       "        vertical-align: middle;\n",
       "    }\n",
       "\n",
       "    .dataframe tbody tr th {\n",
       "        vertical-align: top;\n",
       "    }\n",
       "\n",
       "    .dataframe thead th {\n",
       "        text-align: right;\n",
       "    }\n",
       "</style>\n",
       "<table border=\"1\" class=\"dataframe\">\n",
       "  <thead>\n",
       "    <tr style=\"text-align: right;\">\n",
       "      <th></th>\n",
       "      <th>country</th>\n",
       "      <th>year</th>\n",
       "      <th>pop</th>\n",
       "      <th>continent</th>\n",
       "      <th>lifeExp</th>\n",
       "      <th>gdpPercap</th>\n",
       "    </tr>\n",
       "  </thead>\n",
       "  <tbody>\n",
       "    <tr>\n",
       "      <th>11</th>\n",
       "      <td>Afghanistan</td>\n",
       "      <td>2007</td>\n",
       "      <td>31889923.0</td>\n",
       "      <td>Asia</td>\n",
       "      <td>43.828</td>\n",
       "      <td>974.5803384</td>\n",
       "    </tr>\n",
       "    <tr>\n",
       "      <th>23</th>\n",
       "      <td>Albania</td>\n",
       "      <td>2007</td>\n",
       "      <td>3600523.0</td>\n",
       "      <td>Europe</td>\n",
       "      <td>76.423</td>\n",
       "      <td>5937.029526</td>\n",
       "    </tr>\n",
       "    <tr>\n",
       "      <th>35</th>\n",
       "      <td>Algeria</td>\n",
       "      <td>2007</td>\n",
       "      <td>33333216.0</td>\n",
       "      <td>Africa</td>\n",
       "      <td>72.301</td>\n",
       "      <td>6223.367465</td>\n",
       "    </tr>\n",
       "    <tr>\n",
       "      <th>47</th>\n",
       "      <td>Angola</td>\n",
       "      <td>2007</td>\n",
       "      <td>12420476.0</td>\n",
       "      <td>Africa</td>\n",
       "      <td>42.731</td>\n",
       "      <td>4797.231267</td>\n",
       "    </tr>\n",
       "    <tr>\n",
       "      <th>59</th>\n",
       "      <td>Argentina</td>\n",
       "      <td>2007</td>\n",
       "      <td>40301927.0</td>\n",
       "      <td>Americas</td>\n",
       "      <td>75.32</td>\n",
       "      <td>12779.37964</td>\n",
       "    </tr>\n",
       "  </tbody>\n",
       "</table>\n",
       "</div>"
      ],
      "text/plain": [
       "        country  year        pop continent  lifeExp   gdpPercap\n",
       "11  Afghanistan  2007 31889923.0      Asia   43.828 974.5803384\n",
       "23      Albania  2007  3600523.0    Europe   76.423 5937.029526\n",
       "35      Algeria  2007 33333216.0    Africa   72.301 6223.367465\n",
       "47       Angola  2007 12420476.0    Africa   42.731 4797.231267\n",
       "59    Argentina  2007 40301927.0  Americas    75.32 12779.37964"
      ]
     },
     "execution_count": 172,
     "metadata": {},
     "output_type": "execute_result"
    }
   ],
   "source": [
    "# Then we will work with only data for the year 2007\n",
    "# Let's uncomment the line below \n",
    "# ---\n",
    "# \n",
    "outliers_df_2007 = outliers_df[outliers_df['year']==2007] \n",
    "outliers_df_2007.head()"
   ]
  },
  {
   "cell_type": "code",
   "execution_count": 178,
   "id": "3cd46d89",
   "metadata": {},
   "outputs": [
    {
     "data": {
      "text/plain": [
       "Text(0, 0.5, 'Life Expectancy')"
      ]
     },
     "execution_count": 178,
     "metadata": {},
     "output_type": "execute_result"
    },
    {
     "data": {
      "image/png": "[encoded data removed]",
      "text/plain": [
       "<Figure size 432x288 with 1 Axes>"
      ]
     },
     "metadata": {
      "needs_background": "light"
     },
     "output_type": "display_data"
    }
   ],
   "source": [
    "# We then specify from the multiple options to customize the boxplot with Seaborn.\n",
    "# We then choose color palette scheme for the boxplot with Seaborn. \n",
    "# Here, we chose colorblind friendly palette “colorblind”. \n",
    "# Other color palette options available include deep, muted, bright, pastel, and dark.\n",
    "# # The dots in the plot are outliers .\n",
    "# Let's uncomment the line below \n",
    "# ---\n",
    "#\n",
    "bplot = sns.boxplot(y='lifeExp', x='continent', data = outliers_df_2007, width=0.5, palette=\"colorblind\")\n",
    "\n",
    "# Boxplot alone is extremely useful in getting the summary of data within and between groups. \n",
    "# However, often, it is a good practice to overlay the actual data points on the boxplot.\n",
    "# We use jitter = True option to spread the data points horizontally and also \n",
    "# make boxplot with data points using stripplot.\n",
    "# Let's uncomment the line below \n",
    "# ---\n",
    "#\n",
    "bplot = sns.stripplot(y='lifeExp', x='continent',  data = outliers_df_2007, jitter=True, marker='o', alpha=0.5, color='black')\n",
    "\n",
    "# Naming and sizing our graph and axis\n",
    "# Let's uncomment the 3 lines below \n",
    "# ---\n",
    "#\n",
    "bplot.axes.set_title(\"Life expectancy in the World\", fontsize=13)\n",
    "bplot.set_xlabel(\"Continents\", fontsize=13)\n",
    "bplot.set_ylabel(\"Life Expectancy\", fontsize=13)"
   ]
  },
  {
   "cell_type": "code",
   "execution_count": 175,
   "id": "b995dea7",
   "metadata": {},
   "outputs": [
    {
     "data": {
      "text/plain": [
       "(1704, 6)"
      ]
     },
     "execution_count": 175,
     "metadata": {},
     "output_type": "execute_result"
    }
   ],
   "source": [
    "##### <font color=\"blue\">Example 2</font>\n",
    "\n",
    "outliers_df.shape"
   ]
  },
  {
   "cell_type": "code",
   "execution_count": 179,
   "id": "595ef92a",
   "metadata": {},
   "outputs": [
    {
     "data": {
      "text/plain": [
       "(1387, 6)"
      ]
     },
     "execution_count": 179,
     "metadata": {},
     "output_type": "execute_result"
    }
   ],
   "source": [
    "# Example 2\n",
    "# ---\n",
    "# Dealing with Outliers using the Interquantile range\n",
    "# ---\n",
    "# \n",
    " \n",
    "# There are many ways of dealing with the outliers however in this session we wiil \n",
    "# use the interquartile range (IQR). This is the first quartile subtracted from the third quartile, \n",
    "# i.e. the range covered by the middle 50% of the data; \n",
    "# The first and third quartile can be clearly seen on a box plot on the data above. \n",
    "# It is a measure of the dispersion similar to standard deviation or variance, \n",
    "# but is much more robust against outliers. Now, calculating IQR for each column.\n",
    "# \n",
    "\n",
    "Q1 = outliers_df.quantile(0.25)\n",
    "Q3 = outliers_df.quantile(0.75)\n",
    "IQR = Q3 - Q1\n",
    "IQR\n",
    "\n",
    "# We now filter out outliers by keeping only valid values.\n",
    "# Let's uncomment the lines below\n",
    "# ---\n",
    "#\n",
    "outliers_df_iqr = outliers_df[~((outliers_df < (Q1 - 1.5 * IQR)) |(outliers_df > (Q3 + 1.5 * IQR))).any(axis=1)]\n",
    "outliers_df_iqr.shape\n",
    "\n",
    "# Checking the size of the dataset with outliers for cleaning purposes\n",
    "# ---\n",
    "#\n",
    "# outliers_df.shape"
   ]
  },
  {
   "cell_type": "code",
   "execution_count": 180,
   "id": "f6c0a1a5",
   "metadata": {},
   "outputs": [
    {
     "name": "stdout",
     "output_type": "stream",
     "text": [
      "(8, 8)\n"
     ]
    },
    {
     "data": {
      "text/html": [
       "<div>\n",
       "<style scoped>\n",
       "    .dataframe tbody tr th:only-of-type {\n",
       "        vertical-align: middle;\n",
       "    }\n",
       "\n",
       "    .dataframe tbody tr th {\n",
       "        vertical-align: top;\n",
       "    }\n",
       "\n",
       "    .dataframe thead th {\n",
       "        text-align: right;\n",
       "    }\n",
       "</style>\n",
       "<table border=\"1\" class=\"dataframe\">\n",
       "  <thead>\n",
       "    <tr style=\"text-align: right;\">\n",
       "      <th></th>\n",
       "      <th>NAME</th>\n",
       "      <th>CITY</th>\n",
       "      <th>COUNTRY</th>\n",
       "      <th>HEIGHT</th>\n",
       "      <th>WEIGHT</th>\n",
       "      <th>ACCOUNT A</th>\n",
       "      <th>ACCOUNT B</th>\n",
       "      <th>TOTAL ACCOUNT</th>\n",
       "    </tr>\n",
       "  </thead>\n",
       "  <tbody>\n",
       "    <tr>\n",
       "      <th>0</th>\n",
       "      <td>Adi Dako</td>\n",
       "      <td>LISBON</td>\n",
       "      <td>PORTUGAL</td>\n",
       "      <td>56</td>\n",
       "      <td>132.0</td>\n",
       "      <td>2390.0</td>\n",
       "      <td>4340</td>\n",
       "      <td>6730</td>\n",
       "    </tr>\n",
       "    <tr>\n",
       "      <th>1</th>\n",
       "      <td>John Paul</td>\n",
       "      <td>LONDON</td>\n",
       "      <td>UNITED KINGDOM</td>\n",
       "      <td>62</td>\n",
       "      <td>165.0</td>\n",
       "      <td>4500.0</td>\n",
       "      <td>34334</td>\n",
       "      <td>38834</td>\n",
       "    </tr>\n",
       "    <tr>\n",
       "      <th>2</th>\n",
       "      <td>Cindy Jules</td>\n",
       "      <td>Stockholm</td>\n",
       "      <td>Sweden</td>\n",
       "      <td>48</td>\n",
       "      <td>117.0</td>\n",
       "      <td>NaN</td>\n",
       "      <td>5504</td>\n",
       "      <td>8949</td>\n",
       "    </tr>\n",
       "    <tr>\n",
       "      <th>3</th>\n",
       "      <td>Arthur Kegels</td>\n",
       "      <td>BRUSSELS</td>\n",
       "      <td>BELGIUM</td>\n",
       "      <td>59</td>\n",
       "      <td>121.0</td>\n",
       "      <td>4344.0</td>\n",
       "      <td>8999</td>\n",
       "      <td>300</td>\n",
       "    </tr>\n",
       "    <tr>\n",
       "      <th>4</th>\n",
       "      <td>Freya Bismark</td>\n",
       "      <td>Berlin</td>\n",
       "      <td>GERMANYY</td>\n",
       "      <td>53</td>\n",
       "      <td>126.0</td>\n",
       "      <td>7000.0</td>\n",
       "      <td>19000</td>\n",
       "      <td>26000</td>\n",
       "    </tr>\n",
       "    <tr>\n",
       "      <th>5</th>\n",
       "      <td>Rena Filip</td>\n",
       "      <td>Brasilia</td>\n",
       "      <td>BRAZIL</td>\n",
       "      <td>50</td>\n",
       "      <td>167.0</td>\n",
       "      <td>4999.0</td>\n",
       "      <td>3999</td>\n",
       "      <td>3450</td>\n",
       "    </tr>\n",
       "    <tr>\n",
       "      <th>6</th>\n",
       "      <td>Cindy Jules</td>\n",
       "      <td>Stockholm</td>\n",
       "      <td>Sweden</td>\n",
       "      <td>48</td>\n",
       "      <td>117.0</td>\n",
       "      <td>3445.0</td>\n",
       "      <td>5504</td>\n",
       "      <td>8949</td>\n",
       "    </tr>\n",
       "    <tr>\n",
       "      <th>7</th>\n",
       "      <td>John Paul</td>\n",
       "      <td>LONDON</td>\n",
       "      <td>UNITED KINGDOM</td>\n",
       "      <td>62</td>\n",
       "      <td>NaN</td>\n",
       "      <td>4500.0</td>\n",
       "      <td>2300</td>\n",
       "      <td>6800</td>\n",
       "    </tr>\n",
       "  </tbody>\n",
       "</table>\n",
       "</div>"
      ],
      "text/plain": [
       "                NAME               CITY         COUNTRY  HEIGHT  WEIGHT  \\\n",
       "0          Adi Dako          LISBON       PORTUGAL           56   132.0   \n",
       "1          John Paul          LONDON     UNITED KINGDOM      62   165.0   \n",
       "2        Cindy Jules          Stockholm          Sweden      48   117.0   \n",
       "3      Arthur Kegels           BRUSSELS         BELGIUM      59   121.0   \n",
       "4      Freya Bismark             Berlin        GERMANYY      53   126.0   \n",
       "5         Rena Filip       Brasilia              BRAZIL      50   167.0   \n",
       "6        Cindy Jules          Stockholm          Sweden      48   117.0   \n",
       "7          John Paul          LONDON     UNITED KINGDOM      62     NaN   \n",
       "\n",
       "   ACCOUNT A  ACCOUNT B  TOTAL ACCOUNT  \n",
       "0     2390.0       4340           6730  \n",
       "1     4500.0      34334          38834  \n",
       "2        NaN       5504           8949  \n",
       "3     4344.0       8999            300  \n",
       "4     7000.0      19000          26000  \n",
       "5     4999.0       3999           3450  \n",
       "6     3445.0       5504           8949  \n",
       "7     4500.0       2300           6800  "
      ]
     },
     "execution_count": 180,
     "metadata": {},
     "output_type": "execute_result"
    }
   ],
   "source": [
    "#  outliers in the given dataset.\n",
    "# ---\n",
    "# Dataset url = http://bit.ly/SampleDataset\n",
    "# ---\n",
    "# OUR CODE GOES BELOW\n",
    "outliers_df=pd.read_csv('http://bit.ly/SampleDataset')\n",
    "print(outliers_df.shape)\n",
    "# bplot = sns.boxplot(data =df, width=0.5, palette=\"colorblind\")\n",
    "outliers_df"
   ]
  },
  {
   "cell_type": "markdown",
   "id": "48694e14",
   "metadata": {},
   "source": [
    "### defining quantile"
   ]
  },
  {
   "cell_type": "code",
   "execution_count": 184,
   "id": "276cf930",
   "metadata": {},
   "outputs": [
    {
     "data": {
      "text/plain": [
       "HEIGHT            10.25\n",
       "WEIGHT             29.5\n",
       "ACCOUNT A         855.0\n",
       "ACCOUNT B        7244.5\n",
       "TOTAL ACCOUNT   7301.75\n",
       "dtype: float64"
      ]
     },
     "execution_count": 184,
     "metadata": {},
     "output_type": "execute_result"
    }
   ],
   "source": [
    "Q1=outliers_df.quantile(0.25)\n",
    "Q3=outliers_df.quantile(0.75)\n",
    "IQR=Q3-Q1\n",
    "IQR"
   ]
  },
  {
   "cell_type": "markdown",
   "id": "e84f923a",
   "metadata": {},
   "source": [
    "#### Determining how many outliers there are in our dataset"
   ]
  },
  {
   "cell_type": "code",
   "execution_count": 185,
   "id": "c710d14e",
   "metadata": {},
   "outputs": [
    {
     "data": {
      "text/plain": [
       "(3, 8)"
      ]
     },
     "execution_count": 185,
     "metadata": {},
     "output_type": "execute_result"
    }
   ],
   "source": [
    "outlier_df_iqr = outliers_df[((outliers_df < (Q1 - 1.5 * IQR)) |(outliers_df > (Q3 + 1.5 * IQR))).any(axis=1)]\n",
    "outlier_df_iqr.shape"
   ]
  },
  {
   "cell_type": "markdown",
   "id": "df4106b6",
   "metadata": {},
   "source": [
    "### Displaying our outliers"
   ]
  },
  {
   "cell_type": "code",
   "execution_count": 187,
   "id": "c4a65375",
   "metadata": {},
   "outputs": [
    {
     "data": {
      "text/html": [
       "<div>\n",
       "<style scoped>\n",
       "    .dataframe tbody tr th:only-of-type {\n",
       "        vertical-align: middle;\n",
       "    }\n",
       "\n",
       "    .dataframe tbody tr th {\n",
       "        vertical-align: top;\n",
       "    }\n",
       "\n",
       "    .dataframe thead th {\n",
       "        text-align: right;\n",
       "    }\n",
       "</style>\n",
       "<table border=\"1\" class=\"dataframe\">\n",
       "  <thead>\n",
       "    <tr style=\"text-align: right;\">\n",
       "      <th></th>\n",
       "      <th>NAME</th>\n",
       "      <th>CITY</th>\n",
       "      <th>COUNTRY</th>\n",
       "      <th>HEIGHT</th>\n",
       "      <th>WEIGHT</th>\n",
       "      <th>ACCOUNT A</th>\n",
       "      <th>ACCOUNT B</th>\n",
       "      <th>TOTAL ACCOUNT</th>\n",
       "    </tr>\n",
       "  </thead>\n",
       "  <tbody>\n",
       "    <tr>\n",
       "      <th>0</th>\n",
       "      <td>Adi Dako</td>\n",
       "      <td>LISBON</td>\n",
       "      <td>PORTUGAL</td>\n",
       "      <td>56</td>\n",
       "      <td>132.0</td>\n",
       "      <td>2390.0</td>\n",
       "      <td>4340</td>\n",
       "      <td>6730</td>\n",
       "    </tr>\n",
       "    <tr>\n",
       "      <th>1</th>\n",
       "      <td>John Paul</td>\n",
       "      <td>LONDON</td>\n",
       "      <td>UNITED KINGDOM</td>\n",
       "      <td>62</td>\n",
       "      <td>165.0</td>\n",
       "      <td>4500.0</td>\n",
       "      <td>34334</td>\n",
       "      <td>38834</td>\n",
       "    </tr>\n",
       "    <tr>\n",
       "      <th>4</th>\n",
       "      <td>Freya Bismark</td>\n",
       "      <td>Berlin</td>\n",
       "      <td>GERMANYY</td>\n",
       "      <td>53</td>\n",
       "      <td>126.0</td>\n",
       "      <td>7000.0</td>\n",
       "      <td>19000</td>\n",
       "      <td>26000</td>\n",
       "    </tr>\n",
       "  </tbody>\n",
       "</table>\n",
       "</div>"
      ],
      "text/plain": [
       "            NAME        CITY         COUNTRY  HEIGHT  WEIGHT  ACCOUNT A  \\\n",
       "0      Adi Dako   LISBON       PORTUGAL           56   132.0     2390.0   \n",
       "1      John Paul   LONDON     UNITED KINGDOM      62   165.0     4500.0   \n",
       "4  Freya Bismark      Berlin        GERMANYY      53   126.0     7000.0   \n",
       "\n",
       "   ACCOUNT B  TOTAL ACCOUNT  \n",
       "0       4340           6730  \n",
       "1      34334          38834  \n",
       "4      19000          26000  "
      ]
     },
     "execution_count": 187,
     "metadata": {},
     "output_type": "execute_result"
    }
   ],
   "source": [
    "outliers_df[((outliers_df < (Q1 - 1.5 * IQR)) |(outliers_df > (Q3 + 1.5 * IQR))).any(axis=1)]"
   ]
  },
  {
   "cell_type": "code",
   "execution_count": 188,
   "id": "86dbad18",
   "metadata": {},
   "outputs": [
    {
     "name": "stdout",
     "output_type": "stream",
     "text": [
      "(3312, 19)\n"
     ]
    }
   ],
   "source": [
    "# Deal with the outliers in the given dataset.\n",
    "# ---\n",
    "# Dataset url = http://bit.ly/SampleDataset\n",
    "# ---\n",
    "# OUR CODE GOES BELOW\n",
    "print(df.shape)"
   ]
  },
  {
   "cell_type": "markdown",
   "id": "b258581c",
   "metadata": {},
   "source": [
    "## Dropping the outliers"
   ]
  },
  {
   "cell_type": "code",
   "execution_count": 190,
   "id": "63ffdfbe",
   "metadata": {},
   "outputs": [
    {
     "data": {
      "text/html": [
       "<div>\n",
       "<style scoped>\n",
       "    .dataframe tbody tr th:only-of-type {\n",
       "        vertical-align: middle;\n",
       "    }\n",
       "\n",
       "    .dataframe tbody tr th {\n",
       "        vertical-align: top;\n",
       "    }\n",
       "\n",
       "    .dataframe thead th {\n",
       "        text-align: right;\n",
       "    }\n",
       "</style>\n",
       "<table border=\"1\" class=\"dataframe\">\n",
       "  <thead>\n",
       "    <tr style=\"text-align: right;\">\n",
       "      <th></th>\n",
       "      <th>NAME</th>\n",
       "      <th>CITY</th>\n",
       "      <th>COUNTRY</th>\n",
       "      <th>HEIGHT</th>\n",
       "      <th>WEIGHT</th>\n",
       "      <th>ACCOUNT A</th>\n",
       "      <th>ACCOUNT B</th>\n",
       "      <th>TOTAL ACCOUNT</th>\n",
       "    </tr>\n",
       "  </thead>\n",
       "  <tbody>\n",
       "    <tr>\n",
       "      <th>2</th>\n",
       "      <td>Cindy Jules</td>\n",
       "      <td>Stockholm</td>\n",
       "      <td>Sweden</td>\n",
       "      <td>48</td>\n",
       "      <td>117.0</td>\n",
       "      <td>NaN</td>\n",
       "      <td>5504</td>\n",
       "      <td>8949</td>\n",
       "    </tr>\n",
       "    <tr>\n",
       "      <th>3</th>\n",
       "      <td>Arthur Kegels</td>\n",
       "      <td>BRUSSELS</td>\n",
       "      <td>BELGIUM</td>\n",
       "      <td>59</td>\n",
       "      <td>121.0</td>\n",
       "      <td>4344.0</td>\n",
       "      <td>8999</td>\n",
       "      <td>300</td>\n",
       "    </tr>\n",
       "    <tr>\n",
       "      <th>5</th>\n",
       "      <td>Rena Filip</td>\n",
       "      <td>Brasilia</td>\n",
       "      <td>BRAZIL</td>\n",
       "      <td>50</td>\n",
       "      <td>167.0</td>\n",
       "      <td>4999.0</td>\n",
       "      <td>3999</td>\n",
       "      <td>3450</td>\n",
       "    </tr>\n",
       "    <tr>\n",
       "      <th>6</th>\n",
       "      <td>Cindy Jules</td>\n",
       "      <td>Stockholm</td>\n",
       "      <td>Sweden</td>\n",
       "      <td>48</td>\n",
       "      <td>117.0</td>\n",
       "      <td>3445.0</td>\n",
       "      <td>5504</td>\n",
       "      <td>8949</td>\n",
       "    </tr>\n",
       "    <tr>\n",
       "      <th>7</th>\n",
       "      <td>John Paul</td>\n",
       "      <td>LONDON</td>\n",
       "      <td>UNITED KINGDOM</td>\n",
       "      <td>62</td>\n",
       "      <td>NaN</td>\n",
       "      <td>4500.0</td>\n",
       "      <td>2300</td>\n",
       "      <td>6800</td>\n",
       "    </tr>\n",
       "  </tbody>\n",
       "</table>\n",
       "</div>"
      ],
      "text/plain": [
       "                NAME               CITY         COUNTRY  HEIGHT  WEIGHT  \\\n",
       "2        Cindy Jules          Stockholm          Sweden      48   117.0   \n",
       "3      Arthur Kegels           BRUSSELS         BELGIUM      59   121.0   \n",
       "5         Rena Filip       Brasilia              BRAZIL      50   167.0   \n",
       "6        Cindy Jules          Stockholm          Sweden      48   117.0   \n",
       "7          John Paul          LONDON     UNITED KINGDOM      62     NaN   \n",
       "\n",
       "   ACCOUNT A  ACCOUNT B  TOTAL ACCOUNT  \n",
       "2        NaN       5504           8949  \n",
       "3     4344.0       8999            300  \n",
       "5     4999.0       3999           3450  \n",
       "6     3445.0       5504           8949  \n",
       "7     4500.0       2300           6800  "
      ]
     },
     "execution_count": 190,
     "metadata": {},
     "output_type": "execute_result"
    }
   ],
   "source": [
    "clean_df = outliers_df[~((outliers_df < (Q1 - 1.5 * IQR)) |(outliers_df > (Q3 + 1.5 * IQR))).any(axis=1)]\n",
    "clean_df.shape\n",
    "\n",
    "clean_df"
   ]
  },
  {
   "cell_type": "code",
   "execution_count": 191,
   "id": "256753a4",
   "metadata": {},
   "outputs": [
    {
     "data": {
      "text/plain": [
       "<AxesSubplot:>"
      ]
     },
     "execution_count": 191,
     "metadata": {},
     "output_type": "execute_result"
    },
    {
     "data": {
      "image/png": "[encoded data removed]",
      "text/plain": [
       "<Figure size 432x288 with 1 Axes>"
      ]
     },
     "metadata": {
      "needs_background": "light"
     },
     "output_type": "display_data"
    }
   ],
   "source": [
    "sns.boxplot(data=clean_df,width=0.5,palette='colorblind')"
   ]
  },
  {
   "cell_type": "code",
   "execution_count": null,
   "id": "10fba3ab",
   "metadata": {},
   "outputs": [],
   "source": []
  }
 ],
 "metadata": {
  "kernelspec": {
   "display_name": "Python 3 (ipykernel)",
   "language": "python",
   "name": "python3"
  },
  "language_info": {
   "codemirror_mode": {
    "name": "ipython",
    "version": 3
   },
   "file_extension": ".py",
   "mimetype": "text/x-python",
   "name": "python",
   "nbconvert_exporter": "python",
   "pygments_lexer": "ipython3",
   "version": "3.8.12"
  }
 },
 "nbformat": 4,
 "nbformat_minor": 5
}
